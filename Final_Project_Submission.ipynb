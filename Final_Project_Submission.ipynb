{
  "nbformat": 4,
  "nbformat_minor": 0,
  "metadata": {
    "colab": {
      "name": "Final_Project_Submission.ipynb",
      "provenance": [],
      "collapsed_sections": [
        "xek0pY0Q2TEZ",
        "VVv_ROXZ2ZP8",
        "EuEZxYowIyuQ",
        "-Z8JiJOpI9Aa",
        "L4NISqTnJAM3",
        "JvFMmXjmVZns",
        "ZTg6fq4PVecC",
        "YKcqJixGJnF1",
        "YCOpdKxpJD4R",
        "bnHxR28LJHeW",
        "ybsoeTMLVmFA"
      ],
      "toc_visible": true
    },
    "kernelspec": {
      "display_name": "Python 3",
      "language": "python",
      "name": "python3"
    },
    "language_info": {
      "codemirror_mode": {
        "name": "ipython",
        "version": 3
      },
      "file_extension": ".py",
      "mimetype": "text/x-python",
      "name": "python",
      "nbconvert_exporter": "python",
      "pygments_lexer": "ipython3",
      "version": "3.7.4"
    }
  },
  "cells": [
    {
      "cell_type": "markdown",
      "metadata": {
        "id": "39GGICFzwDrj"
      },
      "source": [
        "# **Instructions**\n",
        "\n",
        "This document is a template, and you are not required to follow it exactly. However, the kinds of questions we ask here are the kinds of questions we want you to focus on. While you might have answered similar questions to these in your project presentations, we want you to go into a lot more detail in this write-up; you can refer to the Lab homeworks for ideas on how to present your data or results. \n",
        "\n",
        "You don't have to answer every question in this template, but you should answer roughly this many questions. Your answers to such questions should be paragraph-length, not just a bullet point. You likely still have questions of your own -- that's okay! We want you to convey what you've learned, how you've learned it, and demonstrate that the content from the course has influenced how you've thought about this project."
      ]
    },
    {
      "cell_type": "markdown",
      "metadata": {
        "id": "-9VDfC-ie19P"
      },
      "source": [
        "# Defending Adversarial Attacks\n",
        "Project mentor: Mark Dredze\n",
        "\n",
        "Xuan Wu\t<xwu71@jhu.edu> Yunxiao Yang <yyang117@jhu.edu>\n",
        "Chenyu Zhang <czhan105@jhu.edu>\t\tJinhan Zhang <jzhan205@jhu.edu>\t\t\t\t\n",
        "\n",
        "Link to github repo: https://github.com/ChenyuHeidiZhang/cs475_ml_project"
      ]
    },
    {
      "cell_type": "markdown",
      "metadata": {
        "id": "uqwI3PT-hBJo"
      },
      "source": [
        "# Outline and Deliverables"
      ]
    },
    {
      "cell_type": "markdown",
      "metadata": {
        "id": "ab3b_W24ajRx"
      },
      "source": [
        "\n",
        "### Uncompleted Deliverables\n",
        "1. \"Expect to accomplish #1\": we decided to focus only on the support vector machine (SVM) and thus did not repeat the experiment with convolutional neural network (CNN) \n",
        "\n",
        "\n",
        "### Completed Deliverables\n",
        "1.  \"Must accomplish #1\": (Dataset section) Obtain and inspect the digits dataset.\n",
        "\n",
        "2.  \"Must accomplish #2\": (Methods section 1) Perform PCA on training data.\n",
        "\n",
        "3. \"Must accomplish #3\": (Baseline section) Attack the data by adversarial examples generated using the ART toolbox. Check accuracy and compare with the baseline. Explore various attackers.\n",
        "\n",
        "4.  \"Expect to accomplish #2\": (Methods section 4) Develop a robust training algorithm adapted from the idea of feedback learning.\n",
        "\n",
        "5.  \"Expect to accomplish #3\": (Results section) Evaluate the performance of the models against baseline.\n",
        "\n",
        "\n",
        "### Additional Deliverables\n",
        "1. (Methods section 2) Sharpening the data. \n",
        "\n",
        "2. (Methods section 3) Data Augmentation methods for adversarial training."
      ]
    },
    {
      "cell_type": "markdown",
      "metadata": {
        "id": "Eiq2aSauhSsS"
      },
      "source": [
        "# Preliminaries"
      ]
    },
    {
      "cell_type": "markdown",
      "metadata": {
        "id": "NtWkhiIPfOfK"
      },
      "source": [
        "## What problem were you trying to solve or understand?\n",
        "\n"
      ]
    },
    {
      "cell_type": "markdown",
      "metadata": {
        "id": "LzvwriSNb5JQ"
      },
      "source": [
        "### What are the real-world implications of this data and task?\n",
        "We chose robustness as the theme of our project because it is a prevalent problem that all models might face. A robust machine learning model is defined to be one that\n",
        "performs reasonably well even when the dataset (training set or testing set or both) is perturbed. It is legitimate problem since real-world data can be noisy and not as representative as the classic datasets, like Iris or MNIST. As more high-stakes applications begin to utilize ML, it has never been more critical to build robust models that ensure fairness and safety.\n",
        "\n",
        "### How is this problem similar to others we’ve seen in lectures, breakouts, and homeworks?\n",
        "\n",
        "\n",
        "### What makes this problem unique?\n",
        "\n",
        "\n",
        "### What ethical implications does this problem have?\n",
        "A not robust model is prone to be erroneous when data is not as nice as expected, and this can be a huge problem as ML gaining popularities in fields like autonomous vehicle and precision medicine.\n"
      ]
    },
    {
      "cell_type": "markdown",
      "metadata": {
        "id": "zFq-_D0khnhh"
      },
      "source": [
        "## Dataset(s)\n",
        "\n",
        "Describe the dataset(s) you used.\n",
        "\n",
        "How were they collected?\n",
        "\n",
        "\n",
        "Why did you choose them?\n",
        "\n",
        "How many examples in each?\n"
      ]
    },
    {
      "cell_type": "markdown",
      "metadata": {
        "id": "5ewEHqAgYT5m"
      },
      "source": [
        "Answer:\n",
        "\n",
        "We used multi-class, grey-scale, hand-written digit dataset from Scikit-learn library. The data is \n",
        "adapted from the \n",
        "test set of Optical Recognition of Handwritten \n",
        "Digits Data. \n",
        "\n",
        "The dataset contains 1797 instances of hand-written digits, where each instance is an image of \n",
        "size eight by eight (thus a total of 64 pixels).\n",
        " For each pixel, the valid range of value is \n",
        " an integer between 0 to 16. There are ten \n",
        " digits classes, and each class contains ~ \n",
        " 180 pictures; thus, the digit dataset is a well-balanced dataset. This dataset does not \n",
        " provide an underlying train-test split, so \n",
        " we did a 80-20 split ourselves.\n",
        "\n",
        "We chose this classic dataset because we are working on a theory project where the focus is to understand and defend adversarial attacks. This dataset allows us to introduce adversarial attack and observe an obvious decrease in accuracy.\n"
      ]
    },
    {
      "cell_type": "code",
      "metadata": {
        "colab": {
          "base_uri": "https://localhost:8080/",
          "height": 825
        },
        "id": "2lOicoBYif7g",
        "outputId": "860553a5-0760-4347-ad70-727844c3c61b"
      },
      "source": [
        "# Load your data and print 2-3 examples\n",
        "import numpy as np\n",
        "import matplotlib.pyplot as plt \n",
        "from sklearn.datasets import load_digits\n",
        "digits = load_digits()\n",
        "\n",
        "print(f\"{digits.data.shape[0]} instances and {digits.data.shape[1]} features\")\n",
        "plt.gray()\n",
        "for i in range(3):\n",
        "  plt.matshow(digits.images[i])"
      ],
      "execution_count": 2,
      "outputs": [
        {
          "output_type": "stream",
          "text": [
            "1797 instances and 64 features\n"
          ],
          "name": "stdout"
        },
        {
          "output_type": "display_data",
          "data": {
            "text/plain": [
              "<Figure size 432x288 with 0 Axes>"
            ]
          },
          "metadata": {
            "tags": []
          }
        },
        {
          "output_type": "display_data",
          "data": {
            "image/png": "[encoded data removed]",
            "text/plain": [
              "<Figure size 288x288 with 1 Axes>"
            ]
          },
          "metadata": {
            "tags": [],
            "needs_background": "light"
          }
        },
        {
          "output_type": "display_data",
          "data": {
            "image/png": "[encoded data removed]",
            "text/plain": [
              "<Figure size 288x288 with 1 Axes>"
            ]
          },
          "metadata": {
            "tags": [],
            "needs_background": "light"
          }
        },
        {
          "output_type": "display_data",
          "data": {
            "image/png": "[encoded data removed]",
            "text/plain": [
              "<Figure size 288x288 with 1 Axes>"
            ]
          },
          "metadata": {
            "tags": [],
            "needs_background": "light"
          }
        }
      ]
    },
    {
      "cell_type": "code",
      "metadata": {
        "id": "DCD6zhi55GR8"
      },
      "source": [
        ""
      ],
      "execution_count": 2,
      "outputs": []
    },
    {
      "cell_type": "markdown",
      "metadata": {
        "id": "XN1fYEfGidiD"
      },
      "source": [
        "## Pre-processing\n",
        "\n",
        "What features did you use or choose not to use? Why?\n",
        "\n",
        "If you have categorical labels, were your datasets class-balanced?\n",
        "\n",
        "How did you deal with missing data? What about outliers?\n",
        "\n",
        "What approach(es) did you use to pre-process your data? Why?\n",
        "\n",
        "Are your features continuous or categorical? How do you treat these features differently?"
      ]
    },
    {
      "cell_type": "markdown",
      "metadata": {
        "id": "k4jcAMnyK5sj"
      },
      "source": [
        "Answer:\n",
        "\n",
        "The digits dataset from sklearn is quite clean and balanced. There is no missing data. It was already pre-processed with\n",
        "normalization and dimension reduction. Therefore, we don't perform additional pre-processing steps, except for using PCA as a defense against adversarial examples in the methods section.\n"
      ]
    },
    {
      "cell_type": "code",
      "metadata": {
        "id": "1cDLEwhAx0gP"
      },
      "source": [
        ""
      ],
      "execution_count": 2,
      "outputs": []
    },
    {
      "cell_type": "markdown",
      "metadata": {
        "id": "tASjmmtjiwvu"
      },
      "source": [
        "# Models and Evaluation"
      ]
    },
    {
      "cell_type": "markdown",
      "metadata": {
        "id": "LlrwR9E1hnQ3"
      },
      "source": [
        "## Experimental Setup\n",
        "\n",
        "How did you evaluate your methods? Why is that a reasonable evaluation metric for the task?\n",
        "\n",
        "What did you use for your loss function to train your models? Did you try multiple loss functions? Why or why not?\n",
        "\n",
        "How did you split your data into train and test sets? Why?\n"
      ]
    },
    {
      "cell_type": "markdown",
      "metadata": {
        "id": "NscU4oeb53lj"
      },
      "source": [
        "Answer:\n",
        "\n",
        "Here we split the data into training and test. The digits dataset contains labels so we can evaluate on our test split. \n",
        "\n",
        "We use the SVM model, where the loss function is hinge loss."
      ]
    },
    {
      "cell_type": "code",
      "metadata": {
        "colab": {
          "base_uri": "https://localhost:8080/"
        },
        "id": "K9xfPh2y5GR-",
        "outputId": "5bcc90d3-e9a1-42db-e931-6a2fb1480108"
      },
      "source": [
        "from sklearn.model_selection import train_test_split\n",
        "X_train, X_test, y_train, y_test = train_test_split(digits.data, digits.target, test_size=0.2, stratify=digits.target)\n",
        "nb_classes = np.unique(y_train).shape[0]\n",
        "print(np.unique(y_train))\n",
        "print(X_train.shape, X_test.shape)"
      ],
      "execution_count": 3,
      "outputs": [
        {
          "output_type": "stream",
          "text": [
            "[0 1 2 3 4 5 6 7 8 9]\n",
            "(1437, 64) (360, 64)\n"
          ],
          "name": "stdout"
        }
      ]
    },
    {
      "cell_type": "markdown",
      "metadata": {
        "id": "oMyqHUa0jUw7"
      },
      "source": [
        "## Baselines \n",
        "\n",
        "What baselines did you compare against? Why are these reasonable?\n",
        "\n",
        "Did you look at related work to contextualize how others methods or baselines have performed on this dataset/task? If so, how did those methods do?"
      ]
    },
    {
      "cell_type": "code",
      "metadata": {
        "id": "Em1IlM4M5GR-",
        "scrolled": true,
        "colab": {
          "base_uri": "https://localhost:8080/"
        },
        "outputId": "ce2c2035-2a99-437a-c2a2-061b50cafcbf"
      },
      "source": [
        "# Download ART\n",
        "!pip install adversarial-robustness-toolbox"
      ],
      "execution_count": 4,
      "outputs": [
        {
          "output_type": "stream",
          "text": [
            "Collecting adversarial-robustness-toolbox\n",
            "\u001b[?25l  Downloading https://files.pythonhosted.org/packages/0c/d6/cdffe8cd1bc10d95a058eff4135268db266c9a3f34467802d158ba9aa7f3/adversarial_robustness_toolbox-1.5.0-py3-none-any.whl (886kB)\n",
            "\u001b[K     |████████████████████████████████| 890kB 12.0MB/s \n",
            "\u001b[?25hCollecting pydub\n",
            "  Downloading https://files.pythonhosted.org/packages/7b/d1/fbfa79371a8cd9bb15c2e3c480d7e6e340ed5cc55005174e16f48418333a/pydub-0.24.1-py2.py3-none-any.whl\n",
            "Requirement already satisfied: Pillow in /usr/local/lib/python3.6/dist-packages (from adversarial-robustness-toolbox) (7.0.0)\n",
            "Requirement already satisfied: six in /usr/local/lib/python3.6/dist-packages (from adversarial-robustness-toolbox) (1.15.0)\n",
            "Requirement already satisfied: tqdm in /usr/local/lib/python3.6/dist-packages (from adversarial-robustness-toolbox) (4.41.1)\n",
            "Requirement already satisfied: setuptools in /usr/local/lib/python3.6/dist-packages (from adversarial-robustness-toolbox) (50.3.2)\n",
            "Requirement already satisfied: resampy in /usr/local/lib/python3.6/dist-packages (from adversarial-robustness-toolbox) (0.2.2)\n",
            "Collecting ffmpeg-python\n",
            "  Downloading https://files.pythonhosted.org/packages/d7/0c/56be52741f75bad4dc6555991fabd2e07b432d333da82c11ad701123888a/ffmpeg_python-0.2.0-py3-none-any.whl\n",
            "Requirement already satisfied: statsmodels in /usr/local/lib/python3.6/dist-packages (from adversarial-robustness-toolbox) (0.10.2)\n",
            "Requirement already satisfied: matplotlib in /usr/local/lib/python3.6/dist-packages (from adversarial-robustness-toolbox) (3.2.2)\n",
            "Requirement already satisfied: scipy>=1.4.1 in /usr/local/lib/python3.6/dist-packages (from adversarial-robustness-toolbox) (1.4.1)\n",
            "Collecting cma\n",
            "\u001b[?25l  Downloading https://files.pythonhosted.org/packages/36/c0/0a1c41f7cad0a51e07991cf86423d0e6651d035f1fe7dcff48e8858848f2/cma-3.0.3-py2.py3-none-any.whl (230kB)\n",
            "\u001b[K     |████████████████████████████████| 235kB 22.2MB/s \n",
            "\u001b[?25hCollecting mypy\n",
            "\u001b[?25l  Downloading https://files.pythonhosted.org/packages/e2/cb/cf5530d063e7e703e2fbec677bfba633de6e70fe44bc323deeaa27f273b8/mypy-0.790-cp36-cp36m-manylinux1_x86_64.whl (21.0MB)\n",
            "\u001b[K     |████████████████████████████████| 21.0MB 7.5MB/s \n",
            "\u001b[?25hRequirement already satisfied: numpy in /usr/local/lib/python3.6/dist-packages (from adversarial-robustness-toolbox) (1.18.5)\n",
            "Requirement already satisfied: scikit-learn>=0.22.2 in /usr/local/lib/python3.6/dist-packages (from adversarial-robustness-toolbox) (0.22.2.post1)\n",
            "Requirement already satisfied: numba>=0.32 in /usr/local/lib/python3.6/dist-packages (from resampy->adversarial-robustness-toolbox) (0.48.0)\n",
            "Requirement already satisfied: future in /usr/local/lib/python3.6/dist-packages (from ffmpeg-python->adversarial-robustness-toolbox) (0.16.0)\n",
            "Requirement already satisfied: pandas>=0.19 in /usr/local/lib/python3.6/dist-packages (from statsmodels->adversarial-robustness-toolbox) (1.1.5)\n",
            "Requirement already satisfied: patsy>=0.4.0 in /usr/local/lib/python3.6/dist-packages (from statsmodels->adversarial-robustness-toolbox) (0.5.1)\n",
            "Requirement already satisfied: cycler>=0.10 in /usr/local/lib/python3.6/dist-packages (from matplotlib->adversarial-robustness-toolbox) (0.10.0)\n",
            "Requirement already satisfied: pyparsing!=2.0.4,!=2.1.2,!=2.1.6,>=2.0.1 in /usr/local/lib/python3.6/dist-packages (from matplotlib->adversarial-robustness-toolbox) (2.4.7)\n",
            "Requirement already satisfied: kiwisolver>=1.0.1 in /usr/local/lib/python3.6/dist-packages (from matplotlib->adversarial-robustness-toolbox) (1.3.1)\n",
            "Requirement already satisfied: python-dateutil>=2.1 in /usr/local/lib/python3.6/dist-packages (from matplotlib->adversarial-robustness-toolbox) (2.8.1)\n",
            "Requirement already satisfied: typing-extensions>=3.7.4 in /usr/local/lib/python3.6/dist-packages (from mypy->adversarial-robustness-toolbox) (3.7.4.3)\n",
            "Collecting typed-ast<1.5.0,>=1.4.0\n",
            "\u001b[?25l  Downloading https://files.pythonhosted.org/packages/90/ed/5459080d95eb87a02fe860d447197be63b6e2b5e9ff73c2b0a85622994f4/typed_ast-1.4.1-cp36-cp36m-manylinux1_x86_64.whl (737kB)\n",
            "\u001b[K     |████████████████████████████████| 747kB 38.0MB/s \n",
            "\u001b[?25hCollecting mypy-extensions<0.5.0,>=0.4.3\n",
            "  Downloading https://files.pythonhosted.org/packages/5c/eb/975c7c080f3223a5cdaff09612f3a5221e4ba534f7039db34c35d95fa6a5/mypy_extensions-0.4.3-py2.py3-none-any.whl\n",
            "Requirement already satisfied: joblib>=0.11 in /usr/local/lib/python3.6/dist-packages (from scikit-learn>=0.22.2->adversarial-robustness-toolbox) (0.17.0)\n",
            "Requirement already satisfied: llvmlite<0.32.0,>=0.31.0dev0 in /usr/local/lib/python3.6/dist-packages (from numba>=0.32->resampy->adversarial-robustness-toolbox) (0.31.0)\n",
            "Requirement already satisfied: pytz>=2017.2 in /usr/local/lib/python3.6/dist-packages (from pandas>=0.19->statsmodels->adversarial-robustness-toolbox) (2018.9)\n",
            "Installing collected packages: pydub, ffmpeg-python, cma, typed-ast, mypy-extensions, mypy, adversarial-robustness-toolbox\n",
            "Successfully installed adversarial-robustness-toolbox-1.5.0 cma-3.0.3 ffmpeg-python-0.2.0 mypy-0.790 mypy-extensions-0.4.3 pydub-0.24.1 typed-ast-1.4.1\n"
          ],
          "name": "stdout"
        }
      ]
    },
    {
      "cell_type": "code",
      "metadata": {
        "id": "LZKCsWN05GR_"
      },
      "source": [
        "from sklearn.svm import SVC\n",
        "from art.attacks.evasion import FastGradientMethod\n",
        "from art.estimators.classification import SklearnClassifier"
      ],
      "execution_count": 5,
      "outputs": []
    },
    {
      "cell_type": "markdown",
      "metadata": {
        "id": "jDHQbfV45GR_"
      },
      "source": [
        "#### Baseline model 1: train, test data both intact"
      ]
    },
    {
      "cell_type": "code",
      "metadata": {
        "colab": {
          "base_uri": "https://localhost:8080/"
        },
        "id": "_EjfMbVx5GR_",
        "outputId": "bc0d5a52-bb3f-4376-ea84-816f43efb854"
      },
      "source": [
        "baseline1 = SVC(C=1.0, kernel=\"rbf\").fit(X_train, y_train)\n",
        "\n",
        "predictions = baseline1.predict(X_test)\n",
        "accuracy1 = np.sum(predictions == y_test) / len(y_test)\n",
        "print(\"Accuracy for unperturbed data: {:.2f}%\".format(accuracy1 * 100))"
      ],
      "execution_count": 6,
      "outputs": [
        {
          "output_type": "stream",
          "text": [
            "Accuracy for unperturbed data: 99.72%\n"
          ],
          "name": "stdout"
        }
      ]
    },
    {
      "cell_type": "markdown",
      "metadata": {
        "id": "U7iNRVzU5GR_"
      },
      "source": [
        "#### Baseline model 2: train data intact, test perturbed\n",
        "#### Baseline model 3: train data perturbed, test intact"
      ]
    },
    {
      "cell_type": "code",
      "metadata": {
        "id": "C_ZnFgbv5GSA"
      },
      "source": [
        "# Create the ART classifier\n",
        "min_pixel_value = np.amin(X_train)\n",
        "max_pixel_value = np.amax(X_train)\n",
        "classifier = SklearnClassifier(model=baseline1, clip_values=(min_pixel_value, max_pixel_value))"
      ],
      "execution_count": 7,
      "outputs": []
    },
    {
      "cell_type": "code",
      "metadata": {
        "id": "EdwtIO5L5GSA"
      },
      "source": [
        "# Conduct Fast Gradient Attack on X with strengh epsilon\n",
        "def fgAttack(X, epsilon):\n",
        "    attack = FastGradientMethod(estimator=classifier, eps=epsilon)\n",
        "    X_adv = attack.generate(x=X)\n",
        "    return X_adv\n",
        "\n",
        "# Generate adversarial test examples\n",
        "X_test_adv = fgAttack(X_test, 3)\n",
        "\n",
        "# Generate adversarial train examples\n",
        "X_train_adv = fgAttack(X_train, 3)"
      ],
      "execution_count": 8,
      "outputs": []
    },
    {
      "cell_type": "code",
      "metadata": {
        "colab": {
          "base_uri": "https://localhost:8080/"
        },
        "id": "qCHB0ajY5GSA",
        "outputId": "5982e647-9cd1-4aa6-cd49-8e1628ef7b4a"
      },
      "source": [
        "# Baseline Accuracy 2: evaluate the original model on adversarial test examples\n",
        "predictions = baseline1.predict(X_test_adv)\n",
        "accuracy2 = np.sum(predictions == y_test) / len(y_test)\n",
        "print(\"Accuracy on adversarial test examples: {:.2f}%\".format(accuracy2 * 100))"
      ],
      "execution_count": 9,
      "outputs": [
        {
          "output_type": "stream",
          "text": [
            "Accuracy on adversarial test examples: 56.39%\n"
          ],
          "name": "stdout"
        }
      ]
    },
    {
      "cell_type": "code",
      "metadata": {
        "colab": {
          "base_uri": "https://localhost:8080/"
        },
        "id": "w2ZLNNzR5GSB",
        "outputId": "d447c1e1-c5a8-4fb1-dee7-11ac59913e35"
      },
      "source": [
        "# Baseline Accuracy 3: train model with adversarial examples\n",
        "baseline3 = SVC(C=1.0, kernel=\"rbf\").fit(X_train_adv, y_train)\n",
        "predictions = baseline3.predict(X_test)\n",
        "accuracy3 = np.sum(predictions == y_test) / len(y_test)\n",
        "print(\"Accuracy with adversarial training examples: {:.2f}%\".format(accuracy3 * 100))"
      ],
      "execution_count": 10,
      "outputs": [
        {
          "output_type": "stream",
          "text": [
            "Accuracy with adversarial training examples: 65.83%\n"
          ],
          "name": "stdout"
        }
      ]
    },
    {
      "cell_type": "code",
      "metadata": {
        "id": "7CCTCqow9RsV"
      },
      "source": [
        ""
      ],
      "execution_count": 10,
      "outputs": []
    },
    {
      "cell_type": "markdown",
      "metadata": {
        "id": "PqB48IF9kMBf"
      },
      "source": [
        "## Methods\n",
        "\n",
        "What methods did you choose? Why did you choose them?\n",
        "\n",
        "How did you train these methods, and how did you evaluate them? Why?\n",
        "\n",
        "Which methods were easy/difficult to implement and train? Why?\n",
        "\n",
        "For each method, what hyperparameters did you evaluate? How sensitive was your model's performance to different hyperparameter settings?"
      ]
    },
    {
      "cell_type": "markdown",
      "metadata": {
        "id": "DldIcRty7UeH"
      },
      "source": [
        "Answer:\n",
        "\n",
        "We used four methods as different ways to defend adversarial attacks: PCA, data sharpening, data augmentation, and iterative learning. These methods are able to perform defenses in different ways to increase model robustness. The following sections describe them in detail."
      ]
    },
    {
      "cell_type": "markdown",
      "metadata": {
        "id": "JC51MxwHHWsG"
      },
      "source": [
        "### Data Transformation (PCA)"
      ]
    },
    {
      "cell_type": "code",
      "metadata": {
        "id": "GKk3O4gJkmf1"
      },
      "source": [
        "from sklearn.decomposition import PCA"
      ],
      "execution_count": 11,
      "outputs": []
    },
    {
      "cell_type": "code",
      "metadata": {
        "colab": {
          "base_uri": "https://localhost:8080/"
        },
        "id": "msRDFVm74Tp8",
        "outputId": "22dda60d-0587-4a05-9487-441b83697628"
      },
      "source": [
        "X_train.shape, X_test.shape, y_train.shape, y_test.shape"
      ],
      "execution_count": 12,
      "outputs": [
        {
          "output_type": "execute_result",
          "data": {
            "text/plain": [
              "((1437, 64), (360, 64), (1437,), (360,))"
            ]
          },
          "metadata": {
            "tags": []
          },
          "execution_count": 12
        }
      ]
    },
    {
      "cell_type": "markdown",
      "metadata": {
        "id": "xek0pY0Q2TEZ"
      },
      "source": [
        "#### Baseline -- No perturbation on train/test with PCA"
      ]
    },
    {
      "cell_type": "code",
      "metadata": {
        "colab": {
          "base_uri": "https://localhost:8080/"
        },
        "id": "cp6F1W3D2ShY",
        "outputId": "fbec72d2-f826-4274-a9c5-e30dd0b38f44"
      },
      "source": [
        "pca = PCA(n_components=25)\n",
        "pca.fit(X_train)\n",
        "pca_X_train = pca.transform(X_train)\n",
        "pca_X_test = pca.transform(X_test)\n",
        "\n",
        "model = SVC(C=1.0, kernel=\"rbf\").fit(pca_X_train, y_train)\n",
        "y_pred = model.predict(pca_X_test)\n",
        "accuracy = np.sum(y_pred == y_test) / len(y_test)\n",
        "print(\"Accuracy on PCA intact-test examples: {:.2f}%\".format(accuracy * 100))"
      ],
      "execution_count": 13,
      "outputs": [
        {
          "output_type": "stream",
          "text": [
            "Accuracy on PCA intact-test examples: 99.72%\n"
          ],
          "name": "stdout"
        }
      ]
    },
    {
      "cell_type": "markdown",
      "metadata": {
        "id": "VVv_ROXZ2ZP8"
      },
      "source": [
        "#### Baseline -- PCA then perturbation on train/test"
      ]
    },
    {
      "cell_type": "code",
      "metadata": {
        "colab": {
          "base_uri": "https://localhost:8080/"
        },
        "id": "tOJzjAhV4Ty0",
        "outputId": "4f695092-2157-4cc8-a7c7-f58b43bfb797"
      },
      "source": [
        "pca = PCA(n_components=20)\n",
        "pca.fit(X_train)\n",
        "X_test_adv = fgAttack(X_test, 3)\n",
        "pca_X_train = pca.transform(X_train)\n",
        "pca_X_test = pca.transform(X_test_adv)\n",
        "model = SVC(C=1.0, kernel=\"rbf\").fit(pca_X_train, y_train)\n",
        "y_pred = model.predict(pca_X_test)\n",
        "accuracy_pca_test = np.sum(y_pred == y_test) / len(y_test)\n",
        "print(\"Accuracy on PCA-then-perturbed-test examples: {:.2f}%\".format(accuracy_pca_test * 100))\n",
        "\n",
        "X_train_adv = fgAttack(X_train, 3)\n",
        "pca_X_train = pca.transform(X_train_adv)\n",
        "pca_X_test = pca.transform(X_test)\n",
        "model = SVC(C=1.0, kernel=\"rbf\").fit(pca_X_train, y_train)\n",
        "y_pred = model.predict(pca_X_test)\n",
        "accuracy_pca_train = np.sum(y_pred == y_test) / len(y_test)\n",
        "print(\"Accuracy on PCA-then-perturbed-train examples: {:.2f}%\".format(accuracy_pca_train * 100))"
      ],
      "execution_count": 14,
      "outputs": [
        {
          "output_type": "stream",
          "text": [
            "Accuracy on PCA-then-perturbed-test examples: 57.78%\n",
            "Accuracy on PCA-then-perturbed-train examples: 58.89%\n"
          ],
          "name": "stdout"
        }
      ]
    },
    {
      "cell_type": "markdown",
      "metadata": {
        "id": "mRNyzTS1_omG"
      },
      "source": [
        "#### PCA AFTER ATTACK"
      ]
    },
    {
      "cell_type": "code",
      "metadata": {
        "colab": {
          "base_uri": "https://localhost:8080/"
        },
        "id": "rZ09Qyur4kQh",
        "outputId": "32b42da7-3068-482c-fc42-8c87edbf0f65"
      },
      "source": [
        "pca = PCA(n_components=20)\n",
        "pca.fit(X_train)\n",
        "pca_X_train = pca.transform(X_train)\n",
        "pca_X_test = pca.transform(X_test_adv)\n",
        "\n",
        "model = SVC(C=1.0, kernel=\"rbf\").fit(pca_X_train, y_train)\n",
        "predictions = model.predict(pca_X_test)\n",
        "accuracy_test_PCA = np.sum(predictions == y_test) / len(y_test)\n",
        "print(\"Accuracy on adversarial-test-then-PCA examples: {:.2f}%\".format(accuracy_test_PCA * 100))"
      ],
      "execution_count": 15,
      "outputs": [
        {
          "output_type": "stream",
          "text": [
            "Accuracy on adversarial-test-then-PCA examples: 58.61%\n"
          ],
          "name": "stdout"
        }
      ]
    },
    {
      "cell_type": "code",
      "metadata": {
        "colab": {
          "base_uri": "https://localhost:8080/"
        },
        "id": "c22JbtB54kNP",
        "outputId": "80c9e083-7807-4965-abcc-2cd0e5b4467c"
      },
      "source": [
        "pca = PCA(n_components=20)\n",
        "pca.fit(X_train_adv)\n",
        "pca_X_train = pca.transform(X_train_adv)\n",
        "pca_X_test = pca.transform(X_test)\n",
        "\n",
        "model = SVC(C=1.0, kernel=\"rbf\").fit(pca_X_train, y_train)\n",
        "predictions = model.predict(pca_X_test)\n",
        "accuracy_train_PCA = np.sum(predictions == y_test) / len(y_test)\n",
        "print(\"Accuracy on adversarial-train-then-PCA examples: {:.2f}%\".format(accuracy_train_PCA * 100))"
      ],
      "execution_count": 16,
      "outputs": [
        {
          "output_type": "stream",
          "text": [
            "Accuracy on adversarial-train-then-PCA examples: 78.89%\n"
          ],
          "name": "stdout"
        }
      ]
    },
    {
      "cell_type": "markdown",
      "metadata": {
        "id": "iusCKATR9jzJ"
      },
      "source": [
        "According to the literature, PCA can protect against adversarial attacks. PCA can remove the features (principal axes) with low variance, which has high coefficients and thus are targeted by adversarial attack methods. These methods aim to use the minimum amount of perturbation to cause a switch in class prediction, and thus by removing low-variant axes, attackers have to work with axes with low coefficients. This means that more perturbations have to be exerted to invoke a change in class label prediction.\n",
        "\n",
        "However, we see that applying dimensionality reduction via PCA onto the whole dataset (fitted on the training set) only positively benefits if the attack (perturbation) is exerted onto the testing set. The accuracy is even lower if the training set is perturbed (see that accuracy dropped from 60.83% to 55.56%). We think this might be that PCA removed too much useful information during the training phase.\n",
        "\n",
        "Meanwhile, we see that PCA, as a form of regularization method, could remove much of the noises and thus promote an increase in accuracy from (60.83% to 80.28%).\n",
        "\n",
        "We acknowledge that this result is greatly influenced by the train-test split, for the level of improvement is not always this obvious (although the trend is about the same as this)."
      ]
    },
    {
      "cell_type": "markdown",
      "metadata": {
        "id": "EuEZxYowIyuQ"
      },
      "source": [
        "### Sharpening\n",
        "\n",
        "By looking at the image view, we see some pattern of the attack: some dark pixels are brightened and some white pixels are darkened. This can influences the dataset most at the edge.  If the edge of the handwritten digits is blurred, the task may look confusing for a naive SVM.\n",
        "\n",
        "One intuitive approach isa to simply reverse this process and try to recover the intact dataset. In specific, we darken the mid-dark pixels and brighten the mid-bright pixel. This process should recover the high contrast of the original image that may be affected by the attack. Pixels below the distribution mean of an image is considered as dark`dark_pixel`, while pixels above are considered as `light_pixel`. \n",
        "\n",
        "How much we make adjustment to each pixel is determined by its position in the pixel-value distribution (i.e. its standardized distance to the distribution mean.) The default adjustment to each pixel is `0.4 * std`, where 0.4 is a hyperparameter. In addition, the adjustment is further scaled by the inverse of a pixel value's distance to the mean. Intuitively, we only want to recover those misleading **grey** pixels. The extremely dark/light pixels in the \n",
        "original image may affect the prediction less since the slight shift of those pixels still preserve the high contrast that makes the white digit stand out from the background. Therefore, we don't want to put too much force on those already dark/bright enough pixels."
      ]
    },
    {
      "cell_type": "code",
      "metadata": {
        "id": "ZoKbkAS5I6YT"
      },
      "source": [
        "def sharpen(X, scale=0.4):\n",
        "    X_new = np.zeros(X.shape)\n",
        "    for i, x in enumerate(X): # x=single image\n",
        "        mean = np.mean(x)\n",
        "        std = np.std(x)\n",
        "        # select dark/bright pixels' indices\n",
        "        dark_pixle = np.where((x < (mean - 0.5*std)) & (x > mean - std))[0]\n",
        "        light_pixle = np.where((x > mean + 0.5*std) & (x < mean + std))[0]\n",
        "        # adjustment on pixel value scaled by (1) hyperparameter \"scale\" and (2) the inverse of standardized distance\n",
        "        distance = np.abs((x - mean) / std)\n",
        "        X_new[i] = X[i]\n",
        "        # darken mid-dark pixels and brighten mid-bright pixels\n",
        "        X_new[i][dark_pixle] -= scale * std  / distance[dark_pixle]\n",
        "        X_new[i][light_pixle] += scale * std / distance[light_pixle]\n",
        "    return X_new"
      ],
      "execution_count": 17,
      "outputs": []
    },
    {
      "cell_type": "markdown",
      "metadata": {
        "id": "-Z8JiJOpI9Aa"
      },
      "source": [
        "#### Robust Testing: \n",
        "\n",
        "(where Train intact, Test perturbed)\n",
        "\n",
        "We perform sharpening on the perturbed test data and see how this method can improve the accuracy, compared to baseline 2, where the SVM predicts from unsharpened data."
      ]
    },
    {
      "cell_type": "code",
      "metadata": {
        "colab": {
          "base_uri": "https://localhost:8080/"
        },
        "id": "zqXyD8pHI-rG",
        "outputId": "c4cf5a25-6d1f-4461-8b4c-ba20c8a1e2a8"
      },
      "source": [
        "X_test_adv_sharpen = sharpen(X_test_adv)\n",
        "y_pred_sharpen = baseline1.predict(X_test_adv_sharpen)\n",
        "accuracy2_sharpen = np.sum(y_pred_sharpen == y_test) / len(y_test)\n",
        "print(\"Accuracy: {:.2f}%\".format(accuracy2_sharpen * 100))"
      ],
      "execution_count": 18,
      "outputs": [
        {
          "output_type": "stream",
          "text": [
            "Accuracy: 65.56%\n"
          ],
          "name": "stdout"
        }
      ]
    },
    {
      "cell_type": "markdown",
      "metadata": {
        "id": "L4NISqTnJAM3"
      },
      "source": [
        "#### Robust Training: \n",
        "\n",
        "(where Train perturbed, Test intact)\n",
        "\n",
        "We perform sharpening on the perturbed test data and see how this method can improve the accuracy, compared to baseline 2, where the SVM predicts from unsharpened data."
      ]
    },
    {
      "cell_type": "code",
      "metadata": {
        "colab": {
          "base_uri": "https://localhost:8080/"
        },
        "id": "AwVWAgBmJB9k",
        "outputId": "4003dd45-085c-461b-c21a-3912f695ae91"
      },
      "source": [
        "X_train_adv_sharpen = sharpen(X_train_adv)\n",
        "\n",
        "model_adv_sharpen = SVC(C=1.0, kernel=\"rbf\").fit(X_train_adv_sharpen, y_train)\n",
        "\n",
        "y_pred_sharpen = model_adv_sharpen.predict(X_test)\n",
        "accuracy3_sharpen = np.sum(y_pred_sharpen == y_test) / len(y_test)\n",
        "print(\"Accuracy: {:.2f}%\".format(accuracy3_sharpen * 100))"
      ],
      "execution_count": 19,
      "outputs": [
        {
          "output_type": "stream",
          "text": [
            "Accuracy: 92.22%\n"
          ],
          "name": "stdout"
        }
      ]
    },
    {
      "cell_type": "markdown",
      "metadata": {
        "id": "pf8jnQ8l67mO"
      },
      "source": [
        "### Data Augmentation / Adversarial Training\n",
        "\n",
        "Reference: Valentina Zantedeschi, Maria-Irina Nicolae, Ambrish Rawat, Efficient Defenses Against Adversarial Attacks, 2017. https://arxiv.org/pdf/1707.06728.pdf section 3.2"
      ]
    },
    {
      "cell_type": "markdown",
      "metadata": {
        "id": "JvFMmXjmVZns"
      },
      "source": [
        "For each original data point x, add:\n",
        "#### 1. Perturbed example drawn from a Multivariate Gaussian distribution centered at x, with random covariance matrix"
      ]
    },
    {
      "cell_type": "code",
      "metadata": {
        "id": "hFUh1xVRHYB6"
      },
      "source": [
        "from sklearn.datasets import make_spd_matrix\n",
        "\n",
        "# Returns training data augmented with Gaussians\n",
        "def getGaussianTrain(X_train):\n",
        "    cov = make_spd_matrix(X_train.shape[1]) * 2  # random symmetric positive definite matrix as covariance\n",
        "    X_train_gaus = []\n",
        "    for i, x in enumerate(X_train):\n",
        "        x_gaus = np.random.multivariate_normal(x, cov, 1)[0]\n",
        "        X_train_gaus.append(x_gaus)\n",
        "\n",
        "    X_train_gaus = np.concatenate((X_train, X_train_gaus), axis=0)\n",
        "    y_train_gaus = np.concatenate((y_train, y_train))\n",
        "    X_train_gaus.shape, y_train_gaus.shape\n",
        "    return X_train_gaus, y_train_gaus"
      ],
      "execution_count": 20,
      "outputs": []
    },
    {
      "cell_type": "code",
      "metadata": {
        "id": "gPF3vH98NleF"
      },
      "source": [
        "def trainSVM(X_train, y_train, X_test, y_test):\n",
        "    model = SVC(C=1.0, kernel=\"rbf\").fit(X_train, y_train)\n",
        "    predictions = model.predict(X_test)\n",
        "    accuracy = np.sum(predictions == y_test) / len(y_test)\n",
        "    print(\"Accuracy on test examples: {}%\".format(accuracy * 100))\n",
        "    return model"
      ],
      "execution_count": 21,
      "outputs": []
    },
    {
      "cell_type": "code",
      "metadata": {
        "colab": {
          "base_uri": "https://localhost:8080/"
        },
        "id": "ep7G2DoYN6TC",
        "outputId": "7ba695c3-46a8-4674-947e-4cf9eda7c3fe"
      },
      "source": [
        "# Gaussian augmentation for intact training data\n",
        "X_train_gaus, y_train_gaus = getGaussianTrain(X_train)\n",
        "gaussianModel2 = trainSVM(X_train_gaus, y_train_gaus, X_test_adv, y_test)"
      ],
      "execution_count": 22,
      "outputs": [
        {
          "output_type": "stream",
          "text": [
            "Accuracy on test examples: 55.55555555555556%\n"
          ],
          "name": "stdout"
        }
      ]
    },
    {
      "cell_type": "code",
      "metadata": {
        "colab": {
          "base_uri": "https://localhost:8080/",
          "height": 533
        },
        "id": "f3RSjZjk_q6I",
        "outputId": "3b9a7ab3-6b10-4980-b30c-088db40fcb8b"
      },
      "source": [
        "# Example image before and after Gaussian augmentation\n",
        "img = X_train[0]\n",
        "plt.matshow(img.reshape(8, 8)) \n",
        "\n",
        "img = X_train_gaus[len(X_train)]\n",
        "plt.matshow(img.reshape(8, 8))\n",
        "plt.show()"
      ],
      "execution_count": 23,
      "outputs": [
        {
          "output_type": "display_data",
          "data": {
            "image/png": "[encoded data removed]",
            "text/plain": [
              "<Figure size 288x288 with 1 Axes>"
            ]
          },
          "metadata": {
            "tags": [],
            "needs_background": "light"
          }
        },
        {
          "output_type": "display_data",
          "data": {
            "image/png": "[encoded data removed]",
            "text/plain": [
              "<Figure size 288x288 with 1 Axes>"
            ]
          },
          "metadata": {
            "tags": [],
            "needs_background": "light"
          }
        }
      ]
    },
    {
      "cell_type": "code",
      "metadata": {
        "colab": {
          "base_uri": "https://localhost:8080/"
        },
        "id": "ufwHHUiBOMM8",
        "outputId": "9f1d5a40-b676-405d-9c4c-fbeb5e415c22"
      },
      "source": [
        "# Gaussian augmentation for perturbed training data\n",
        "X_train_gaus, y_train_gaus = getGaussianTrain(X_train_adv)\n",
        "gaussianModel3 = trainSVM(X_train_gaus, y_train_gaus, X_test, y_test)"
      ],
      "execution_count": 24,
      "outputs": [
        {
          "output_type": "stream",
          "text": [
            "Accuracy on test examples: 84.72222222222221%\n"
          ],
          "name": "stdout"
        }
      ]
    },
    {
      "cell_type": "markdown",
      "metadata": {
        "id": "ZTg6fq4PVecC"
      },
      "source": [
        "#### 2. Adversarial examples crafted with Jacobian Saliency Method (JS)\n",
        "\n",
        "Only 100 examples are created and concatenated because they take a long time to generate. We load them from saved .npy files. Generation code can be found in the original notebook on github."
      ]
    },
    {
      "cell_type": "code",
      "metadata": {
        "colab": {
          "base_uri": "https://localhost:8080/"
        },
        "id": "dF6qZIO4eb94",
        "outputId": "91398efd-3157-4fe3-e3f7-060a2a0f453c"
      },
      "source": [
        "from google.colab import drive\n",
        "drive.mount('/content/drive')"
      ],
      "execution_count": 25,
      "outputs": [
        {
          "output_type": "stream",
          "text": [
            "Mounted at /content/drive\n"
          ],
          "name": "stdout"
        }
      ]
    },
    {
      "cell_type": "code",
      "metadata": {
        "id": "px3c7L64egPi"
      },
      "source": [
        "dir = '/content/drive/My Drive/ml_project/'"
      ],
      "execution_count": 26,
      "outputs": []
    },
    {
      "cell_type": "code",
      "metadata": {
        "id": "jXUtxfV2tgw3"
      },
      "source": [
        "def getJsTrain(X_train, y_train):\n",
        "    # load the 100 adverse examples\n",
        "    X_train_jsma = np.load(dir + 'X_train_jsma.npy')\n",
        "    y_train_jsma = np.load(dir + 'y_train_jsma.npy')\n",
        "\n",
        "    X_train_jsma = np.concatenate((X_train, X_train_jsma), axis=0)\n",
        "    y_train_jsma = np.concatenate((y_train, y_train_jsma))\n",
        "    return X_train_jsma, y_train_jsma"
      ],
      "execution_count": 27,
      "outputs": []
    },
    {
      "cell_type": "code",
      "metadata": {
        "colab": {
          "base_uri": "https://localhost:8080/"
        },
        "id": "RyXpGZI28zJH",
        "outputId": "fa38de19-c715-417c-c351-985ff7a0c369"
      },
      "source": [
        "X_train_jsma, y_train_jsma = getJsTrain(X_train, y_train)\n",
        "modelJs2 = trainSVM(X_train_jsma, y_train_jsma, X_test_adv, y_test)"
      ],
      "execution_count": 28,
      "outputs": [
        {
          "output_type": "stream",
          "text": [
            "Accuracy on test examples: 55.833333333333336%\n"
          ],
          "name": "stdout"
        }
      ]
    },
    {
      "cell_type": "code",
      "metadata": {
        "colab": {
          "base_uri": "https://localhost:8080/"
        },
        "id": "fx_CFhUFOeZ3",
        "outputId": "83d1fe20-8dc5-4a01-9594-134b84ddffda"
      },
      "source": [
        "X_train_jsma, y_train_jsma = getJsTrain(X_train_adv, y_train)\n",
        "modelJs3 = trainSVM(X_train_jsma, y_train_jsma, X_test, y_test)"
      ],
      "execution_count": 29,
      "outputs": [
        {
          "output_type": "stream",
          "text": [
            "Accuracy on test examples: 86.11111111111111%\n"
          ],
          "name": "stdout"
        }
      ]
    },
    {
      "cell_type": "markdown",
      "metadata": {
        "id": "TUTmJ_ZatS15"
      },
      "source": [
        "#### 3. Adversarial example crafted with Fast Gradient Method (FG)\n"
      ]
    },
    {
      "cell_type": "code",
      "metadata": {
        "id": "GL53v2D3W81F"
      },
      "source": [
        "def getFsTrain(X_train, y_train):\n",
        "    attack_fgsm = FastGradientMethod(estimator=classifier, eps=1)\n",
        "    X_train_fgsm = attack_fgsm.generate(x=X_train_adv)\n",
        "\n",
        "    X_train_fgsm = np.concatenate((X_train, X_train_fgsm), axis=0)\n",
        "    y_train_fgsm = np.concatenate((y_train, y_train))\n",
        "    return X_train_fgsm, y_train_fgsm"
      ],
      "execution_count": 30,
      "outputs": []
    },
    {
      "cell_type": "code",
      "metadata": {
        "colab": {
          "base_uri": "https://localhost:8080/"
        },
        "id": "M2KQNoAI_CXN",
        "outputId": "f805400a-c10c-4737-b13e-50568fd7a879"
      },
      "source": [
        "X_train_fgsm, y_train_fgsm = getFsTrain(X_train, y_train)\n",
        "modelFg2 = trainSVM(X_train_fgsm, y_train_fgsm, X_test_adv, y_test)"
      ],
      "execution_count": 31,
      "outputs": [
        {
          "output_type": "stream",
          "text": [
            "Accuracy on test examples: 98.88888888888889%\n"
          ],
          "name": "stdout"
        }
      ]
    },
    {
      "cell_type": "code",
      "metadata": {
        "colab": {
          "base_uri": "https://localhost:8080/"
        },
        "id": "Y0qgsI6QOxEJ",
        "outputId": "2bf14771-05b1-4cdd-f016-39d3011e8e9e"
      },
      "source": [
        "X_train_fgsm, y_train_fgsm = getFsTrain(X_train_adv, y_train)\n",
        "modelFg3 = trainSVM(X_train_fgsm, y_train_fgsm, X_test, y_test)"
      ],
      "execution_count": 32,
      "outputs": [
        {
          "output_type": "stream",
          "text": [
            "Accuracy on test examples: 57.49999999999999%\n"
          ],
          "name": "stdout"
        }
      ]
    },
    {
      "cell_type": "markdown",
      "metadata": {
        "id": "YKcqJixGJnF1"
      },
      "source": [
        "### Training SVM on attacked data set"
      ]
    },
    {
      "cell_type": "markdown",
      "metadata": {
        "id": "5HpjaeGTKDN1"
      },
      "source": [
        "Method: Iteratively train SVM on the data set. Each time, based on current \n",
        "hypothesis, we remove a certain percent of data and train SVM on the rest of data. Our performance should be comparable to the baseline.\n",
        "\n",
        "In details: We set up two parameters p and q, the probability for removing a mis-labeled/correctly"
      ]
    },
    {
      "cell_type": "code",
      "metadata": {
        "colab": {
          "base_uri": "https://localhost:8080/"
        },
        "id": "5K-eSsp7xIWh",
        "outputId": "5e374dc3-7dd8-4cd9-aee9-0f8f61ef0463"
      },
      "source": [
        "import random\n",
        "\n",
        "def trainSVMiter(X_train,y_train,X_test,y_test,R=10,prop=5):\n",
        "  X_train_guess=X_train\n",
        "  y_train_guess=y_train\n",
        "  for _ in range(R):\n",
        "  # rank the mis-classified samples and remove some of them. \n",
        "    model=SVC(C=1.0, kernel=\"rbf\").fit(X_train_guess, y_train_guess)\n",
        "    raws=[]\n",
        "    predictions = model.predict(X_train)\n",
        "    accuracy = np.sum(predictions == y_train) / len(y_train)\n",
        "    print(\"Accuracy on train examples: {}%\".format(accuracy * 100))\n",
        "    for i in range(len(y_train)):\n",
        "      if predictions[i]!=y_train[i]:\n",
        "        if random.randint(1, 10)>=prop:\n",
        "          raws.append(i)\n",
        "      \n",
        "      else:\n",
        "        if random.randint(1, 10)>=7:\n",
        "          raws.append(i)\n",
        "      \n",
        "    X_train_guess=X_train\n",
        "    y_train_guess=y_train\n",
        "    X_train_guess=np.delete(X_train_guess,raws,axis=0)\n",
        "    y_train_guess=np.delete(y_train_guess,raws,axis=0)\n",
        "  print(X_train_guess.shape)\n",
        "  predictions = model.predict(X_test)\n",
        "  accuracy = np.sum(predictions == y_test) / len(y_test)\n",
        "  print(\"Accuracy on test examples: {}%\".format(accuracy * 100))\n",
        "\n",
        "trainSVMiter(X_train_adv, y_train, X_test, y_test)"
      ],
      "execution_count": 33,
      "outputs": [
        {
          "output_type": "stream",
          "text": [
            "Accuracy on train examples: 99.72164231036882%\n",
            "Accuracy on train examples: 98.95615866388309%\n",
            "Accuracy on train examples: 99.02574808629089%\n",
            "Accuracy on train examples: 99.30410577592205%\n",
            "Accuracy on train examples: 99.16492693110646%\n",
            "Accuracy on train examples: 99.02574808629089%\n",
            "Accuracy on train examples: 99.30410577592205%\n",
            "Accuracy on train examples: 98.8169798190675%\n",
            "Accuracy on train examples: 99.16492693110646%\n",
            "Accuracy on train examples: 98.8169798190675%\n",
            "(871, 64)\n",
            "Accuracy on test examples: 69.16666666666667%\n"
          ],
          "name": "stdout"
        }
      ]
    },
    {
      "cell_type": "markdown",
      "metadata": {
        "id": "TDhacftcfP0O"
      },
      "source": [
        "This improves upon our baseline3."
      ]
    },
    {
      "cell_type": "markdown",
      "metadata": {
        "id": "_Zdp4_H-kx8H"
      },
      "source": [
        "## Results\n",
        "\n",
        "Show tables comparing your methods to the baselines.\n",
        "\n",
        "What about these results surprised you? Why?\n",
        "\n",
        "Did your models over- or under-fit? How can you tell? What did you do to address these issues?\n",
        "\n",
        "What does the evaluation of your trained models tell you about your data? How do you expect these models might behave differently on different data?  "
      ]
    },
    {
      "cell_type": "markdown",
      "metadata": {
        "id": "N1Y3GdcvUkpT"
      },
      "source": [
        "### PCA"
      ]
    },
    {
      "cell_type": "code",
      "metadata": {
        "colab": {
          "base_uri": "https://localhost:8080/",
          "height": 426
        },
        "id": "BJpwvcaC2EOk",
        "outputId": "141130d8-5272-416b-dc5c-6501f36b628b"
      },
      "source": [
        "import matplotlib.pyplot as plt\n",
        "%matplotlib inline\n",
        "\n",
        "x = ['No PCA', 'PCA Before Attack', 'PCA After Attack']\n",
        "accuracy1_array = [accuracy2, accuracy_pca_test, accuracy_test_PCA]\n",
        "accuracy2_array = [accuracy3, accuracy_pca_train, accuracy_train_PCA]\n",
        "\n",
        "x_pos = range(3)\n",
        "\n",
        "fig, ax = plt.subplots(1,2,figsize=(13,6))\n",
        "\n",
        "ax[0].bar(x_pos, accuracy1_array)\n",
        "ax[0].set_xticks(x_pos)\n",
        "ax[0].set_xticklabels(x)\n",
        "ax[0].set_ylim([0,1])\n",
        "ax[0].axhline(y=accuracy1, c='r')\n",
        "ax[0].set_title(\"Robust Prediction\")\n",
        "ax[0].set_ylabel(\"Accuracy on Test set\")\n",
        "\n",
        "ax[0].set_yticks([0, 0.2, 0.4, 0.6, 0.8, accuracy1])\n",
        "ax[0].set_yticklabels(['0', '0.2', '0.4', '0.6', '0.8', 'All intact'])\n",
        "\n",
        "ax[1].bar(x_pos, accuracy2_array)\n",
        "ax[1].set_xticks(x_pos)\n",
        "ax[1].set_xticklabels(x)\n",
        "ax[1].set_ylim([0,1])\n",
        "ax[1].axhline(y=accuracy1, c='r')\n",
        "ax[1].set_title(\"Robust Training\")\n",
        "\n",
        "for i, pos in enumerate(x_pos):\n",
        "    ax[0].text(pos-0.25, accuracy1_array[i] + 0.01, f\"{accuracy1_array[i]*100:.2f}%\")\n",
        "    ax[1].text(pos-0.25, accuracy2_array[i] + 0.01, f\"{accuracy2_array[i]*100:.2f}%\")\n",
        "\n",
        "plt.suptitle(\"Dimension Reductions\", y=1)\n",
        "plt.show()"
      ],
      "execution_count": 34,
      "outputs": [
        {
          "output_type": "display_data",
          "data": {
            "image/png": "[encoded data removed]",
            "text/plain": [
              "<Figure size 936x432 with 2 Axes>"
            ]
          },
          "metadata": {
            "tags": [],
            "needs_background": "light"
          }
        }
      ]
    },
    {
      "cell_type": "markdown",
      "metadata": {
        "id": "VEx7oyWxUoAp"
      },
      "source": [
        "### Sharpenining"
      ]
    },
    {
      "cell_type": "markdown",
      "metadata": {
        "id": "YCOpdKxpJD4R"
      },
      "source": [
        "#### Plot Results Against Baselines"
      ]
    },
    {
      "cell_type": "code",
      "metadata": {
        "colab": {
          "base_uri": "https://localhost:8080/",
          "height": 426
        },
        "id": "S5LV8vb3JFeW",
        "outputId": "4ab3f58b-4ebb-4079-b9aa-bda87827bbeb"
      },
      "source": [
        "import matplotlib.pyplot as plt\n",
        "%matplotlib inline\n",
        "\n",
        "x = ['sharpened', 'unsharpened']\n",
        "accuracy2_array = [accuracy2_sharpen, accuracy2]\n",
        "accuracy3_array = [accuracy3_sharpen, accuracy3]\n",
        "\n",
        "x_pos = range(2)\n",
        "\n",
        "fig, ax = plt.subplots(1,2, figsize=(13,6))\n",
        "\n",
        "ax[0].bar(x_pos, accuracy2_array)\n",
        "ax[0].set_xticks(x_pos)\n",
        "ax[0].set_xticklabels(x)\n",
        "ax[0].set_ylim([0,1])\n",
        "ax[0].axhline(y=accuracy1, c='r')\n",
        "ax[0].set_ylabel(\"Accuracy on Test set\")\n",
        "ax[0].set_title(\"Robust Prediction\")\n",
        "ax[0].set_yticks([0, 0.2, 0.4, 0.6, 0.8, accuracy1])\n",
        "ax[0].set_yticklabels(['0', '0.2', '0.4', '0.6', '0.8', 'All intact='+f\"{accuracy1:.2f}\"])\n",
        "\n",
        "ax[1].bar(x_pos, accuracy3_array)\n",
        "ax[1].set_xticks(x_pos)\n",
        "ax[1].set_xticklabels(x)\n",
        "ax[1].set_ylim([0,1])\n",
        "ax[1].axhline(y=accuracy1, c='r')\n",
        "ax[1].set_title(\"Robust Training\")\n",
        "\n",
        "for i, pos in enumerate(x_pos):\n",
        "    ax[0].text(pos-0.25, accuracy2_array[i] + 0.01, f\"{accuracy2_array[i]:.2f}\")\n",
        "    ax[1].text(pos-0.25, accuracy3_array[i] + 0.01, f\"{accuracy3_array[i]:.2f}\")\n",
        "\n",
        "plt.suptitle(\"Image Sharpening\", y=1)\n",
        "plt.show()"
      ],
      "execution_count": 35,
      "outputs": [
        {
          "output_type": "display_data",
          "data": {
            "image/png": "[encoded data removed]",
            "text/plain": [
              "<Figure size 936x432 with 2 Axes>"
            ]
          },
          "metadata": {
            "tags": [],
            "needs_background": "light"
          }
        }
      ]
    },
    {
      "cell_type": "markdown",
      "metadata": {
        "id": "bnHxR28LJHeW"
      },
      "source": [
        "#### Tune Hyperparameter `Scale`"
      ]
    },
    {
      "cell_type": "code",
      "metadata": {
        "colab": {
          "base_uri": "https://localhost:8080/",
          "height": 363
        },
        "id": "RYXxn8SDJI0s",
        "outputId": "911366da-61bc-47dc-f6c1-dda0de86f661"
      },
      "source": [
        "tune_hyperparameter2 = []\n",
        "tune_hyperparameter3 = []\n",
        "\n",
        "hyperparam_array = [0.1, 0.4, 0.8, 1.2, 2]\n",
        "\n",
        "for scale in hyperparam_array:\n",
        "    # robust testing\n",
        "    X_test_adv_sharpen = sharpen(X_test_adv, scale=scale)\n",
        "    y_pred_sharpen = baseline1.predict(X_test_adv_sharpen)\n",
        "    accuracy2_sharpen = np.sum(y_pred_sharpen == y_test) / len(y_test)\n",
        "\n",
        "    tune_hyperparameter2.append(accuracy2_sharpen)\n",
        "\n",
        "    # robust tarining\n",
        "    X_train_adv_sharpen = sharpen(X_train_adv, scale=scale)\n",
        "\n",
        "    model_adv_sharpen = SVC(C=1.0, kernel=\"rbf\").fit(X_train_adv_sharpen, y_train)\n",
        "\n",
        "    y_pred_sharpen = model_adv_sharpen.predict(X_test)\n",
        "    accuracy3_sharpen = np.sum(y_pred_sharpen == y_test) / len(y_test)\n",
        "\n",
        "    tune_hyperparameter3.append(accuracy3_sharpen)\n",
        "\n",
        "\n",
        "fig, ax = plt.subplots(1,2, figsize=(10,5))\n",
        "\n",
        "x_pos = hyperparam_array\n",
        "\n",
        "ax[0].plot(x_pos, tune_hyperparameter2)\n",
        "ax[0].set_xticks(x_pos)\n",
        "ax[0].set_xticklabels(hyperparam_array)\n",
        "ax[0].set_ylim([0,1])\n",
        "ax[0].axhline(y=accuracy1, c='r')\n",
        "ax[0].set_ylabel(\"Accuracy on Test set\")\n",
        "ax[0].set_title(\"Robust Prediction\")\n",
        "ax[0].set_yticks([0, 0.2, 0.4, 0.6, 0.8, accuracy1])\n",
        "ax[0].set_yticklabels(['0', '0.2', '0.4', '0.6', '0.8', 'All intact='+f\"{accuracy1:.2f}\"])\n",
        "\n",
        "ax[1].plot(x_pos, tune_hyperparameter3)\n",
        "ax[1].set_xticks(x_pos)\n",
        "ax[1].set_xticklabels(hyperparam_array)\n",
        "ax[1].set_ylim([0,1])\n",
        "ax[1].axhline(y=accuracy1, c='r')\n",
        "ax[1].set_title(\"Robust Training\")\n",
        "\n",
        "for i, pos in enumerate(x_pos):\n",
        "    ax[0].text(pos-0.25, tune_hyperparameter2[i] + 0.01, f\"{tune_hyperparameter2[i]:.2f}\")\n",
        "    ax[1].text(pos-0.25, tune_hyperparameter3[i] + 0.01, f\"{tune_hyperparameter3[i]:.2f}\")\n",
        "\n",
        "plt.suptitle(\"Image Sharpening\", y=1)\n",
        "plt.show()"
      ],
      "execution_count": 36,
      "outputs": [
        {
          "output_type": "display_data",
          "data": {
            "image/png": "[encoded data removed]",
            "text/plain": [
              "<Figure size 720x360 with 2 Axes>"
            ]
          },
          "metadata": {
            "tags": [],
            "needs_background": "light"
          }
        }
      ]
    },
    {
      "cell_type": "code",
      "metadata": {
        "id": "LON570zjUi3C"
      },
      "source": [
        ""
      ],
      "execution_count": 36,
      "outputs": []
    },
    {
      "cell_type": "code",
      "metadata": {
        "id": "bS2sjfbglG_V"
      },
      "source": [
        "# Show plots or visualizations of your evaluation metric(s) on the train and test sets.\n",
        "#   What do these plots show about over- or under-fitting?\n",
        "#   You may borrow from how we visualized results in the Lab homeworks.\n",
        "#   Are there aspects of your results that are difficult to visualize? Why?"
      ],
      "execution_count": 37,
      "outputs": []
    },
    {
      "cell_type": "markdown",
      "metadata": {
        "id": "ybsoeTMLVmFA"
      },
      "source": [
        "### Data Augmentation\n",
        "\n",
        "We can see from the plots that FG (fast gradient with epsilon 1) augmentation does the best on perturbed test data, which is reasonable because the test data is also perturbed with fast gradient method. For robust training (when training data itself is perturbed), Gaussian augmentation does well when epsilon is 3, while JS (Jacobian saliency) and FG does better when epsilon is large.\n"
      ]
    },
    {
      "cell_type": "code",
      "metadata": {
        "id": "nooMOtNsF6-h"
      },
      "source": [
        "origAcc = []\n",
        "gaussianAcc = []\n",
        "jsAcc = []\n",
        "fgAcc = []\n",
        "for eps in range(1, 10):\n",
        "    X_test_adv_i = fgAttack(X_test, eps)\n",
        "\n",
        "    predictions = baseline1.predict(X_test_adv_i)\n",
        "    acc = np.sum(predictions == y_test) / len(y_test)\n",
        "    origAcc.append(acc)\n",
        "\n",
        "    predictions = gaussianModel2.predict(X_test_adv_i)\n",
        "    acc2 = np.sum(predictions == y_test) / len(y_test)\n",
        "    gaussianAcc.append(acc2)\n",
        "\n",
        "    predictions = modelJs2.predict(X_test_adv_i)\n",
        "    acc3 = np.sum(predictions == y_test) / len(y_test)\n",
        "    jsAcc.append(acc3)\n",
        "\n",
        "    predictions = modelFg2.predict(X_test_adv_i)\n",
        "    acc4 = np.sum(predictions == y_test) / len(y_test)\n",
        "    fgAcc.append(acc4)"
      ],
      "execution_count": 38,
      "outputs": []
    },
    {
      "cell_type": "code",
      "metadata": {
        "colab": {
          "base_uri": "https://localhost:8080/",
          "height": 296
        },
        "id": "K7X51RqgJ2Db",
        "outputId": "76b0b1e6-eda5-45ba-ff52-b088ef9e882c"
      },
      "source": [
        "import matplotlib.pyplot as plt\n",
        "\n",
        "x = range(1, 10)\n",
        "plt.plot(x, origAcc, '-o', label='orig')\n",
        "plt.plot(x, gaussianAcc, '-o', label='Gaussian')\n",
        "plt.plot(x, jsAcc, '-o', label='JS')\n",
        "plt.plot(x, fgAcc, '-o', label='FG')\n",
        "plt.legend()\n",
        "plt.xlabel('Epsilon for test attack')\n",
        "plt.ylabel('Accuracy')"
      ],
      "execution_count": 39,
      "outputs": [
        {
          "output_type": "execute_result",
          "data": {
            "text/plain": [
              "Text(0, 0.5, 'Accuracy')"
            ]
          },
          "metadata": {
            "tags": []
          },
          "execution_count": 39
        },
        {
          "output_type": "display_data",
          "data": {
            "image/png": "[encoded data removed]",
            "text/plain": [
              "<Figure size 432x288 with 1 Axes>"
            ]
          },
          "metadata": {
            "tags": [],
            "needs_background": "light"
          }
        }
      ]
    },
    {
      "cell_type": "code",
      "metadata": {
        "id": "TFMcUgAoXPNR"
      },
      "source": [
        "origAcc2 = []\n",
        "gaussianAcc2 = []\n",
        "jsAcc2 = []\n",
        "fgAcc2 = []\n",
        "for eps in range(1, 10):\n",
        "    X_train_adv_i = fgAttack(X_train, eps)\n",
        "    \n",
        "    model3 = SVC(C=1.0, kernel=\"rbf\").fit(X_train_adv_i, y_train)\n",
        "    predictions = model3.predict(X_test)\n",
        "    acc = np.sum(predictions == y_test) / len(y_test)\n",
        "    origAcc2.append(acc)\n",
        "\n",
        "    X_train_gaus, y_train_gaus = getGaussianTrain(X_train_adv_i)\n",
        "    gaussianModel3 = SVC(C=1.0, kernel=\"rbf\").fit(X_train_gaus, y_train_gaus)\n",
        "    predictions = gaussianModel3.predict(X_test)\n",
        "    acc2 = np.sum(predictions == y_test) / len(y_test)\n",
        "    gaussianAcc2.append(acc2)\n",
        "\n",
        "    X_train_jsma, y_train_jsma = getJsTrain(X_train_adv_i, y_train)\n",
        "    modelJs3 = SVC(C=1.0, kernel=\"rbf\").fit(X_train_jsma, y_train_jsma)\n",
        "    predictions = modelJs3.predict(X_test)\n",
        "    acc3 = np.sum(predictions == y_test) / len(y_test)\n",
        "    jsAcc2.append(acc3)\n",
        "\n",
        "    X_train_fgsm, y_train_fgsm = getFsTrain(X_train_adv_i, y_train)\n",
        "    modelFg3 = SVC(C=1.0, kernel=\"rbf\").fit(X_train_fgsm, y_train_fgsm)\n",
        "    predictions = modelFg3.predict(X_test)\n",
        "    acc4 = np.sum(predictions == y_test) / len(y_test)\n",
        "    fgAcc2.append(acc4)"
      ],
      "execution_count": 40,
      "outputs": []
    },
    {
      "cell_type": "code",
      "metadata": {
        "colab": {
          "base_uri": "https://localhost:8080/",
          "height": 296
        },
        "id": "gPblTu0nXP2X",
        "outputId": "63bec36a-69ad-41cb-b871-204cd27a5df4"
      },
      "source": [
        "import matplotlib.pyplot as plt\n",
        "\n",
        "x = range(1, 10)\n",
        "plt.plot(x, origAcc2, '-o', label='orig')\n",
        "plt.plot(x, gaussianAcc2, '-o', label='Gaussian')\n",
        "plt.plot(x, jsAcc2, '-o', label='JS')\n",
        "plt.plot(x, fgAcc2, '-o', label='FG')\n",
        "plt.legend()\n",
        "plt.xlabel('Epsilon for train attack')\n",
        "plt.ylabel('Accuracy')"
      ],
      "execution_count": 41,
      "outputs": [
        {
          "output_type": "execute_result",
          "data": {
            "text/plain": [
              "Text(0, 0.5, 'Accuracy')"
            ]
          },
          "metadata": {
            "tags": []
          },
          "execution_count": 41
        },
        {
          "output_type": "display_data",
          "data": {
            "image/png": "[encoded data removed]",
            "text/plain": [
              "<Figure size 432x288 with 1 Axes>"
            ]
          },
          "metadata": {
            "tags": [],
            "needs_background": "light"
          }
        }
      ]
    },
    {
      "cell_type": "markdown",
      "metadata": {
        "id": "59EbS1GilSQ_"
      },
      "source": [
        "# Discussion"
      ]
    },
    {
      "cell_type": "markdown",
      "metadata": {
        "id": "ugJXhZKNlUT4"
      },
      "source": [
        "## What you've learned\n",
        "\n",
        "*Note: you don't have to answer all of these, and you can answer other questions if you'd like. We just want you to demonstrate what you've learned from the project.*\n",
        "\n",
        "What concepts from lecture/breakout were most relevant to your project? How so?\n",
        "\n",
        "What aspects of your project did you find most surprising?\n",
        "\n",
        "What lessons did you take from this project that you want to remember for the next ML project you work on? Do you think those lessons would transfer to other datasets and/or models? Why or why not?\n",
        "\n",
        "What was the most helpful feedback you received during your presentation? Why?\n",
        "\n",
        "If you had two more weeks to work on this project, what would you do next? Why?"
      ]
    },
    {
      "cell_type": "markdown",
      "metadata": {
        "id": "CwXjo_twK1n3"
      },
      "source": [
        "Answer:\n",
        "\n",
        "Our project is most relevant to the adversarial training portion of the \"Practical ML\" lecture, since this is the theme we centered around. All methods were tested on support vector machines thus SVM lecture is also closely related to our project. We also used princiapl component analysis to perform a dimensionality reduction, which is connected to the lecture on PCA and the homework 3 lab assignment--the portion on feature selection and noise reduction.\n",
        "\n",
        "We were surprised how ML algorithms are prone to the effect of adverse examples. But meanwhile, simple approaches may significantly improve the performance (like sharpening, data augmentation, and PCA). Another surprising fact was that blackbox attacks are much harder than whitebox attack. The accuracy actually increased when we tried backdoor attack (blackbox poisoning) on our data.\n",
        "\n",
        "For future ML projects, we would be more aware of the existence of adverse examples and would be able to apply the above methods to noisy real-world datasets. We believe that the methods we used can generalize to other datasets.\n",
        "\n",
        "We got a feedback from another group saying that we could try changing p and q values for our iterative learning algorithm during training time, and we think that is a great idea and we would indeed do it if we had time. We could also experiment with different attackers. We could use different attack methods on training and test data, as Prof. Dredze suggested after our presentation. "
      ]
    },
    {
      "cell_type": "code",
      "metadata": {
        "id": "m4yPWZx6S3VL"
      },
      "source": [
        ""
      ],
      "execution_count": 41,
      "outputs": []
    }
  ]
}