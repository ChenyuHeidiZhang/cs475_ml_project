{
  "nbformat": 4,
  "nbformat_minor": 0,
  "metadata": {
    "colab": {
      "name": "ml-final-project-robustness.ipynb",
      "provenance": [],
      "collapsed_sections": [
        "WLll36zuiK_F",
        "WZyEZYhTkmBa",
        "MMvglV6LVsfg",
        "ZTg6fq4PVecC",
        "TUTmJ_ZatS15",
        "zra1J9zqJf4E"
      ]
    },
    "kernelspec": {
      "name": "python3",
      "display_name": "Python 3"
    }
  },
  "cells": [
    {
      "cell_type": "markdown",
      "metadata": {
        "id": "KJlpIL8zLtXV"
      },
      "source": [
        "# ML final project"
      ]
    },
    {
      "cell_type": "code",
      "metadata": {
        "colab": {
          "base_uri": "https://localhost:8080/"
        },
        "id": "HiqFjtkkxADH",
        "outputId": "6df16687-5ee0-4a91-d6b0-ad69984d228b"
      },
      "source": [
        "# Download ART\n",
        "!pip install adversarial-robustness-toolbox"
      ],
      "execution_count": null,
      "outputs": [
        {
          "output_type": "stream",
          "text": [
            "Collecting adversarial-robustness-toolbox\n",
            "\u001b[?25l  Downloading https://files.pythonhosted.org/packages/0c/d6/cdffe8cd1bc10d95a058eff4135268db266c9a3f34467802d158ba9aa7f3/adversarial_robustness_toolbox-1.5.0-py3-none-any.whl (886kB)\n",
            "\r\u001b[K     |▍                               | 10kB 16.3MB/s eta 0:00:01\r\u001b[K     |▊                               | 20kB 19.5MB/s eta 0:00:01\r\u001b[K     |█                               | 30kB 9.5MB/s eta 0:00:01\r\u001b[K     |█▌                              | 40kB 8.5MB/s eta 0:00:01\r\u001b[K     |█▉                              | 51kB 4.4MB/s eta 0:00:01\r\u001b[K     |██▏                             | 61kB 4.4MB/s eta 0:00:01\r\u001b[K     |██▋                             | 71kB 4.8MB/s eta 0:00:01\r\u001b[K     |███                             | 81kB 3.8MB/s eta 0:00:01\r\u001b[K     |███▎                            | 92kB 4.2MB/s eta 0:00:01\r\u001b[K     |███▊                            | 102kB 4.3MB/s eta 0:00:01\r\u001b[K     |████                            | 112kB 4.3MB/s eta 0:00:01\r\u001b[K     |████▍                           | 122kB 4.3MB/s eta 0:00:01\r\u001b[K     |████▉                           | 133kB 4.3MB/s eta 0:00:01\r\u001b[K     |█████▏                          | 143kB 4.3MB/s eta 0:00:01\r\u001b[K     |█████▌                          | 153kB 4.3MB/s eta 0:00:01\r\u001b[K     |██████                          | 163kB 4.3MB/s eta 0:00:01\r\u001b[K     |██████▎                         | 174kB 4.3MB/s eta 0:00:01\r\u001b[K     |██████▋                         | 184kB 4.3MB/s eta 0:00:01\r\u001b[K     |███████                         | 194kB 4.3MB/s eta 0:00:01\r\u001b[K     |███████▍                        | 204kB 4.3MB/s eta 0:00:01\r\u001b[K     |███████▊                        | 215kB 4.3MB/s eta 0:00:01\r\u001b[K     |████████▏                       | 225kB 4.3MB/s eta 0:00:01\r\u001b[K     |████████▌                       | 235kB 4.3MB/s eta 0:00:01\r\u001b[K     |████████▉                       | 245kB 4.3MB/s eta 0:00:01\r\u001b[K     |█████████▎                      | 256kB 4.3MB/s eta 0:00:01\r\u001b[K     |█████████▋                      | 266kB 4.3MB/s eta 0:00:01\r\u001b[K     |██████████                      | 276kB 4.3MB/s eta 0:00:01\r\u001b[K     |██████████▍                     | 286kB 4.3MB/s eta 0:00:01\r\u001b[K     |██████████▊                     | 296kB 4.3MB/s eta 0:00:01\r\u001b[K     |███████████                     | 307kB 4.3MB/s eta 0:00:01\r\u001b[K     |███████████▌                    | 317kB 4.3MB/s eta 0:00:01\r\u001b[K     |███████████▉                    | 327kB 4.3MB/s eta 0:00:01\r\u001b[K     |████████████▏                   | 337kB 4.3MB/s eta 0:00:01\r\u001b[K     |████████████▋                   | 348kB 4.3MB/s eta 0:00:01\r\u001b[K     |█████████████                   | 358kB 4.3MB/s eta 0:00:01\r\u001b[K     |█████████████▎                  | 368kB 4.3MB/s eta 0:00:01\r\u001b[K     |█████████████▊                  | 378kB 4.3MB/s eta 0:00:01\r\u001b[K     |██████████████                  | 389kB 4.3MB/s eta 0:00:01\r\u001b[K     |██████████████▍                 | 399kB 4.3MB/s eta 0:00:01\r\u001b[K     |██████████████▉                 | 409kB 4.3MB/s eta 0:00:01\r\u001b[K     |███████████████▏                | 419kB 4.3MB/s eta 0:00:01\r\u001b[K     |███████████████▌                | 430kB 4.3MB/s eta 0:00:01\r\u001b[K     |████████████████                | 440kB 4.3MB/s eta 0:00:01\r\u001b[K     |████████████████▎               | 450kB 4.3MB/s eta 0:00:01\r\u001b[K     |████████████████▋               | 460kB 4.3MB/s eta 0:00:01\r\u001b[K     |█████████████████               | 471kB 4.3MB/s eta 0:00:01\r\u001b[K     |█████████████████▍              | 481kB 4.3MB/s eta 0:00:01\r\u001b[K     |█████████████████▊              | 491kB 4.3MB/s eta 0:00:01\r\u001b[K     |██████████████████▏             | 501kB 4.3MB/s eta 0:00:01\r\u001b[K     |██████████████████▌             | 512kB 4.3MB/s eta 0:00:01\r\u001b[K     |██████████████████▉             | 522kB 4.3MB/s eta 0:00:01\r\u001b[K     |███████████████████▎            | 532kB 4.3MB/s eta 0:00:01\r\u001b[K     |███████████████████▋            | 542kB 4.3MB/s eta 0:00:01\r\u001b[K     |████████████████████            | 552kB 4.3MB/s eta 0:00:01\r\u001b[K     |████████████████████▍           | 563kB 4.3MB/s eta 0:00:01\r\u001b[K     |████████████████████▊           | 573kB 4.3MB/s eta 0:00:01\r\u001b[K     |█████████████████████           | 583kB 4.3MB/s eta 0:00:01\r\u001b[K     |█████████████████████▌          | 593kB 4.3MB/s eta 0:00:01\r\u001b[K     |█████████████████████▉          | 604kB 4.3MB/s eta 0:00:01\r\u001b[K     |██████████████████████▏         | 614kB 4.3MB/s eta 0:00:01\r\u001b[K     |██████████████████████▋         | 624kB 4.3MB/s eta 0:00:01\r\u001b[K     |███████████████████████         | 634kB 4.3MB/s eta 0:00:01\r\u001b[K     |███████████████████████▎        | 645kB 4.3MB/s eta 0:00:01\r\u001b[K     |███████████████████████▋        | 655kB 4.3MB/s eta 0:00:01\r\u001b[K     |████████████████████████        | 665kB 4.3MB/s eta 0:00:01\r\u001b[K     |████████████████████████▍       | 675kB 4.3MB/s eta 0:00:01\r\u001b[K     |████████████████████████▊       | 686kB 4.3MB/s eta 0:00:01\r\u001b[K     |█████████████████████████▏      | 696kB 4.3MB/s eta 0:00:01\r\u001b[K     |█████████████████████████▌      | 706kB 4.3MB/s eta 0:00:01\r\u001b[K     |█████████████████████████▉      | 716kB 4.3MB/s eta 0:00:01\r\u001b[K     |██████████████████████████▎     | 727kB 4.3MB/s eta 0:00:01\r\u001b[K     |██████████████████████████▋     | 737kB 4.3MB/s eta 0:00:01\r\u001b[K     |███████████████████████████     | 747kB 4.3MB/s eta 0:00:01\r\u001b[K     |███████████████████████████▍    | 757kB 4.3MB/s eta 0:00:01\r\u001b[K     |███████████████████████████▊    | 768kB 4.3MB/s eta 0:00:01\r\u001b[K     |████████████████████████████    | 778kB 4.3MB/s eta 0:00:01\r\u001b[K     |████████████████████████████▌   | 788kB 4.3MB/s eta 0:00:01\r\u001b[K     |████████████████████████████▉   | 798kB 4.3MB/s eta 0:00:01\r\u001b[K     |█████████████████████████████▏  | 808kB 4.3MB/s eta 0:00:01\r\u001b[K     |█████████████████████████████▋  | 819kB 4.3MB/s eta 0:00:01\r\u001b[K     |██████████████████████████████  | 829kB 4.3MB/s eta 0:00:01\r\u001b[K     |██████████████████████████████▎ | 839kB 4.3MB/s eta 0:00:01\r\u001b[K     |██████████████████████████████▊ | 849kB 4.3MB/s eta 0:00:01\r\u001b[K     |███████████████████████████████ | 860kB 4.3MB/s eta 0:00:01\r\u001b[K     |███████████████████████████████▍| 870kB 4.3MB/s eta 0:00:01\r\u001b[K     |███████████████████████████████▉| 880kB 4.3MB/s eta 0:00:01\r\u001b[K     |████████████████████████████████| 890kB 4.3MB/s \n",
            "\u001b[?25hRequirement already satisfied: resampy in /usr/local/lib/python3.6/dist-packages (from adversarial-robustness-toolbox) (0.2.2)\n",
            "Requirement already satisfied: numpy in /usr/local/lib/python3.6/dist-packages (from adversarial-robustness-toolbox) (1.18.5)\n",
            "Requirement already satisfied: Pillow in /usr/local/lib/python3.6/dist-packages (from adversarial-robustness-toolbox) (7.0.0)\n",
            "Collecting mypy\n",
            "\u001b[?25l  Downloading https://files.pythonhosted.org/packages/e2/cb/cf5530d063e7e703e2fbec677bfba633de6e70fe44bc323deeaa27f273b8/mypy-0.790-cp36-cp36m-manylinux1_x86_64.whl (21.0MB)\n",
            "\u001b[K     |████████████████████████████████| 21.0MB 1.6MB/s \n",
            "\u001b[?25hRequirement already satisfied: setuptools in /usr/local/lib/python3.6/dist-packages (from adversarial-robustness-toolbox) (50.3.2)\n",
            "Collecting cma\n",
            "\u001b[?25l  Downloading https://files.pythonhosted.org/packages/36/c0/0a1c41f7cad0a51e07991cf86423d0e6651d035f1fe7dcff48e8858848f2/cma-3.0.3-py2.py3-none-any.whl (230kB)\n",
            "\u001b[K     |████████████████████████████████| 235kB 48.2MB/s \n",
            "\u001b[?25hRequirement already satisfied: tqdm in /usr/local/lib/python3.6/dist-packages (from adversarial-robustness-toolbox) (4.41.1)\n",
            "Requirement already satisfied: statsmodels in /usr/local/lib/python3.6/dist-packages (from adversarial-robustness-toolbox) (0.10.2)\n",
            "Collecting pydub\n",
            "  Downloading https://files.pythonhosted.org/packages/7b/d1/fbfa79371a8cd9bb15c2e3c480d7e6e340ed5cc55005174e16f48418333a/pydub-0.24.1-py2.py3-none-any.whl\n",
            "Requirement already satisfied: scipy>=1.4.1 in /usr/local/lib/python3.6/dist-packages (from adversarial-robustness-toolbox) (1.4.1)\n",
            "Collecting ffmpeg-python\n",
            "  Downloading https://files.pythonhosted.org/packages/d7/0c/56be52741f75bad4dc6555991fabd2e07b432d333da82c11ad701123888a/ffmpeg_python-0.2.0-py3-none-any.whl\n",
            "Requirement already satisfied: six in /usr/local/lib/python3.6/dist-packages (from adversarial-robustness-toolbox) (1.15.0)\n",
            "Requirement already satisfied: scikit-learn>=0.22.2 in /usr/local/lib/python3.6/dist-packages (from adversarial-robustness-toolbox) (0.22.2.post1)\n",
            "Requirement already satisfied: matplotlib in /usr/local/lib/python3.6/dist-packages (from adversarial-robustness-toolbox) (3.2.2)\n",
            "Requirement already satisfied: numba>=0.32 in /usr/local/lib/python3.6/dist-packages (from resampy->adversarial-robustness-toolbox) (0.48.0)\n",
            "Collecting mypy-extensions<0.5.0,>=0.4.3\n",
            "  Downloading https://files.pythonhosted.org/packages/5c/eb/975c7c080f3223a5cdaff09612f3a5221e4ba534f7039db34c35d95fa6a5/mypy_extensions-0.4.3-py2.py3-none-any.whl\n",
            "Requirement already satisfied: typing-extensions>=3.7.4 in /usr/local/lib/python3.6/dist-packages (from mypy->adversarial-robustness-toolbox) (3.7.4.3)\n",
            "Collecting typed-ast<1.5.0,>=1.4.0\n",
            "\u001b[?25l  Downloading https://files.pythonhosted.org/packages/90/ed/5459080d95eb87a02fe860d447197be63b6e2b5e9ff73c2b0a85622994f4/typed_ast-1.4.1-cp36-cp36m-manylinux1_x86_64.whl (737kB)\n",
            "\u001b[K     |████████████████████████████████| 747kB 42.6MB/s \n",
            "\u001b[?25hRequirement already satisfied: patsy>=0.4.0 in /usr/local/lib/python3.6/dist-packages (from statsmodels->adversarial-robustness-toolbox) (0.5.1)\n",
            "Requirement already satisfied: pandas>=0.19 in /usr/local/lib/python3.6/dist-packages (from statsmodels->adversarial-robustness-toolbox) (1.1.4)\n",
            "Requirement already satisfied: future in /usr/local/lib/python3.6/dist-packages (from ffmpeg-python->adversarial-robustness-toolbox) (0.16.0)\n",
            "Requirement already satisfied: joblib>=0.11 in /usr/local/lib/python3.6/dist-packages (from scikit-learn>=0.22.2->adversarial-robustness-toolbox) (0.17.0)\n",
            "Requirement already satisfied: python-dateutil>=2.1 in /usr/local/lib/python3.6/dist-packages (from matplotlib->adversarial-robustness-toolbox) (2.8.1)\n",
            "Requirement already satisfied: kiwisolver>=1.0.1 in /usr/local/lib/python3.6/dist-packages (from matplotlib->adversarial-robustness-toolbox) (1.3.1)\n",
            "Requirement already satisfied: cycler>=0.10 in /usr/local/lib/python3.6/dist-packages (from matplotlib->adversarial-robustness-toolbox) (0.10.0)\n",
            "Requirement already satisfied: pyparsing!=2.0.4,!=2.1.2,!=2.1.6,>=2.0.1 in /usr/local/lib/python3.6/dist-packages (from matplotlib->adversarial-robustness-toolbox) (2.4.7)\n",
            "Requirement already satisfied: llvmlite<0.32.0,>=0.31.0dev0 in /usr/local/lib/python3.6/dist-packages (from numba>=0.32->resampy->adversarial-robustness-toolbox) (0.31.0)\n",
            "Requirement already satisfied: pytz>=2017.2 in /usr/local/lib/python3.6/dist-packages (from pandas>=0.19->statsmodels->adversarial-robustness-toolbox) (2018.9)\n",
            "Installing collected packages: mypy-extensions, typed-ast, mypy, cma, pydub, ffmpeg-python, adversarial-robustness-toolbox\n",
            "Successfully installed adversarial-robustness-toolbox-1.5.0 cma-3.0.3 ffmpeg-python-0.2.0 mypy-0.790 mypy-extensions-0.4.3 pydub-0.24.1 typed-ast-1.4.1\n"
          ],
          "name": "stdout"
        }
      ]
    },
    {
      "cell_type": "markdown",
      "metadata": {
        "id": "MmfZVT9_w9rH"
      },
      "source": [
        "## Load Data"
      ]
    },
    {
      "cell_type": "code",
      "metadata": {
        "id": "9buYK3g8LRDd",
        "colab": {
          "base_uri": "https://localhost:8080/",
          "height": 309
        },
        "outputId": "7fd4262f-2343-4cca-a842-ba3d26500572"
      },
      "source": [
        "import numpy as np\n",
        "from sklearn.datasets import load_digits\n",
        "digits = load_digits()\n",
        "\n",
        "print(digits.data.shape, digits.target.shape)\n",
        "import matplotlib.pyplot as plt \n",
        "plt.gray()\n",
        "plt.matshow(digits.images[0])\n",
        "plt.show()"
      ],
      "execution_count": null,
      "outputs": [
        {
          "output_type": "stream",
          "text": [
            "(1797, 64) (1797,)\n"
          ],
          "name": "stdout"
        },
        {
          "output_type": "display_data",
          "data": {
            "text/plain": [
              "<Figure size 432x288 with 0 Axes>"
            ]
          },
          "metadata": {
            "tags": []
          }
        },
        {
          "output_type": "display_data",
          "data": {
            "image/png": "[encoded data removed]",
            "text/plain": [
              "<Figure size 288x288 with 1 Axes>"
            ]
          },
          "metadata": {
            "tags": [],
            "needs_background": "light"
          }
        }
      ]
    },
    {
      "cell_type": "code",
      "metadata": {
        "colab": {
          "base_uri": "https://localhost:8080/"
        },
        "id": "M0pM9MjS2kv6",
        "outputId": "f107b863-c94e-4cc9-9d53-d8e81384963f"
      },
      "source": [
        "from sklearn.model_selection import train_test_split\n",
        "X_train, X_test, y_train, y_test = train_test_split(digits.data, digits.target, test_size=0.2, stratify=digits.target)\n",
        "nb_classes = np.unique(y_train).shape[0]\n",
        "print(np.unique(y_train))\n",
        "print(X_train.shape, X_test.shape)\n",
        "\n",
        "'''\n",
        "# (Optional) Transform class labels to be one-hot-encoded of shape (nb_samples, nb_classes).\n",
        "def convertToOnehot(labels, nb_classes):\n",
        "    onehot = []\n",
        "    for y in labels:\n",
        "        vec = np.zeros(nb_classes)\n",
        "        vec[y] = 1\n",
        "        onehot.append(vec)\n",
        "    return np.array(onehot)\n",
        "\n",
        "y_train = convertToOnehot(y_train, nb_classes)\n",
        "y_test = convertToOnehot(y_test, nb_classes)\n",
        "'''\n",
        "print(y_train.shape, y_test.shape)"
      ],
      "execution_count": null,
      "outputs": [
        {
          "output_type": "stream",
          "text": [
            "[0 1 2 3 4 5 6 7 8 9]\n",
            "(1437, 64) (360, 64)\n",
            "(1437,) (360,)\n"
          ],
          "name": "stdout"
        }
      ]
    },
    {
      "cell_type": "code",
      "metadata": {
        "colab": {
          "base_uri": "https://localhost:8080/"
        },
        "id": "wwihpgxq1bQc",
        "outputId": "181587fb-799a-4023-83ac-af7fd697dce3"
      },
      "source": [
        "from sklearn.svm import SVC\n",
        "from art.attacks.evasion import FastGradientMethod\n",
        "from art.estimators.classification import SklearnClassifier\n",
        "\n",
        "# Create the model\n",
        "#model = SVC(C=0.1, kernel=\"linear\")\n",
        "model = SVC(C=1.0, kernel=\"rbf\").fit(X_train, y_train)\n",
        "\n",
        "# Create the ART classifier\n",
        "min_pixel_value = np.amin(X_train)\n",
        "max_pixel_value = np.amax(X_train)\n",
        "print(min_pixel_value, max_pixel_value)\n",
        "classifier = SklearnClassifier(model=model, clip_values=(min_pixel_value, max_pixel_value))\n",
        "\n",
        "# Train the ART classifier\n",
        "#classifier.fit(X_train, y_train)"
      ],
      "execution_count": null,
      "outputs": [
        {
          "output_type": "stream",
          "text": [
            "0.0 16.0\n"
          ],
          "name": "stdout"
        }
      ]
    },
    {
      "cell_type": "code",
      "metadata": {
        "colab": {
          "base_uri": "https://localhost:8080/"
        },
        "id": "Bg9rg33t4DYs",
        "outputId": "a919ed48-3f4b-41b9-b4c7-c7d60fe1e9f8"
      },
      "source": [
        "# Evaluate the ART classifier on benign test examples\n",
        "#predictions = classifier.predict(X_test)\n",
        "predictions = model.predict(X_test)\n",
        "print(predictions)\n",
        "#accuracy = np.sum(np.argmax(predictions, axis=1) == np.argmax(y_test, axis=1)) / len(y_test)\n",
        "accuracy = np.sum(predictions == y_test) / len(y_test)\n",
        "print(\"Accuracy on benign test examples: {:.2f}%\".format(accuracy * 100))"
      ],
      "execution_count": null,
      "outputs": [
        {
          "output_type": "stream",
          "text": [
            "[0 9 7 5 3 1 9 7 5 7 0 3 9 4 2 0 2 4 4 8 0 6 8 5 3 6 5 5 1 7 0 0 3 3 2 9 6\n",
            " 9 4 1 6 3 0 7 1 9 0 9 4 2 9 2 7 2 1 8 7 4 8 5 2 8 2 0 0 9 5 9 6 1 7 2 5 7\n",
            " 9 4 6 5 9 0 7 9 5 8 4 4 4 7 3 3 4 1 0 4 5 0 3 5 6 3 2 8 4 8 8 7 4 5 2 4 1\n",
            " 1 1 8 7 6 9 9 3 1 7 6 5 9 6 4 4 2 9 3 3 8 8 7 2 3 9 7 3 6 7 9 4 9 3 4 2 5\n",
            " 5 2 6 6 5 9 8 4 6 3 5 3 7 8 9 5 7 2 8 2 7 5 2 8 3 7 7 2 9 1 6 7 7 2 6 0 8\n",
            " 2 8 1 4 6 1 5 2 6 7 5 7 1 9 5 1 0 1 1 8 6 9 5 2 9 5 5 0 1 4 5 4 5 1 7 6 0\n",
            " 3 2 6 6 7 8 6 4 8 1 8 2 4 5 0 3 0 1 1 4 1 9 4 1 1 3 9 8 7 3 4 1 5 2 3 0 0\n",
            " 2 3 9 2 1 6 1 6 0 7 1 0 6 4 2 5 7 9 3 5 3 0 4 7 4 3 2 0 8 7 6 2 9 3 8 1 6\n",
            " 3 6 4 0 6 6 8 4 0 5 6 1 3 3 8 3 8 8 8 1 0 7 1 5 5 8 9 0 2 2 5 4 0 0 0 4 2\n",
            " 0 2 6 9 8 1 7 4 0 4 3 8 0 6 7 9 7 5 5 2 9 1 1 8 6 1 6]\n",
            "Accuracy on benign test examples: 98.33%\n"
          ],
          "name": "stdout"
        }
      ]
    },
    {
      "cell_type": "markdown",
      "metadata": {
        "id": "Sc-pldOLtvuu"
      },
      "source": [
        "## Create adverse test examples"
      ]
    },
    {
      "cell_type": "code",
      "metadata": {
        "id": "IV7g9kai4K-n"
      },
      "source": [
        "# Generate adversarial test examples\n",
        "def fgAttack(X, epsilon):\n",
        "    attack = FastGradientMethod(estimator=classifier, eps=epsilon)  # TODO: could experiment other attacks\n",
        "    X_adv = attack.generate(x=X)\n",
        "    return X_adv\n",
        "    \n",
        "X_test_adv = fgAttack(X_test, 3)"
      ],
      "execution_count": null,
      "outputs": []
    },
    {
      "cell_type": "code",
      "metadata": {
        "colab": {
          "base_uri": "https://localhost:8080/"
        },
        "id": "sGc8RSPz8Jos",
        "outputId": "53cf11fc-acf5-4097-d668-a6c8bffb28ef"
      },
      "source": [
        "X_test, X_test_adv"
      ],
      "execution_count": null,
      "outputs": [
        {
          "output_type": "execute_result",
          "data": {
            "text/plain": [
              "(array([[ 0.,  0.,  3., ...,  5.,  0.,  0.],\n",
              "        [ 0.,  0.,  8., ..., 16., 12.,  0.],\n",
              "        [ 0.,  7., 12., ...,  0.,  0.,  0.],\n",
              "        ...,\n",
              "        [ 0.,  0.,  0., ..., 16.,  5.,  0.],\n",
              "        [ 0.,  0.,  0., ...,  4.,  0.,  0.],\n",
              "        [ 0.,  0.,  2., ..., 15.,  5.,  0.]]),\n",
              " array([[ 0.,  3.,  6., ...,  8.,  3.,  3.],\n",
              "        [ 0.,  3., 11., ..., 16., 15.,  3.],\n",
              "        [ 0.,  4.,  9., ...,  3.,  3.,  3.],\n",
              "        ...,\n",
              "        [ 0.,  3.,  3., ..., 13.,  2.,  3.],\n",
              "        [ 0.,  3.,  3., ...,  1.,  0.,  0.],\n",
              "        [ 0.,  3.,  5., ..., 12.,  2.,  3.]], dtype=float32))"
            ]
          },
          "metadata": {
            "tags": []
          },
          "execution_count": 116
        }
      ]
    },
    {
      "cell_type": "code",
      "metadata": {
        "colab": {
          "base_uri": "https://localhost:8080/",
          "height": 533
        },
        "id": "-6gIqiZuCVaO",
        "outputId": "3ec29985-d011-4b26-ff7a-15344f79acf9"
      },
      "source": [
        "plt.matshow(X_test[0].reshape(8, 8)) \n",
        "plt.matshow(X_test_adv[0].reshape(8, 8)) \n",
        "plt.show()"
      ],
      "execution_count": null,
      "outputs": [
        {
          "output_type": "display_data",
          "data": {
            "image/png": "[encoded data removed]",
            "text/plain": [
              "<Figure size 288x288 with 1 Axes>"
            ]
          },
          "metadata": {
            "tags": [],
            "needs_background": "light"
          }
        },
        {
          "output_type": "display_data",
          "data": {
            "image/png": "[encoded data removed]",
            "text/plain": [
              "<Figure size 288x288 with 1 Axes>"
            ]
          },
          "metadata": {
            "tags": [],
            "needs_background": "light"
          }
        }
      ]
    },
    {
      "cell_type": "code",
      "metadata": {
        "colab": {
          "base_uri": "https://localhost:8080/"
        },
        "id": "kk5OKexn4RW9",
        "outputId": "5ff0a685-a970-453e-bdc7-dc1c6c5e99eb"
      },
      "source": [
        "model = SVC(C=1.0, kernel=\"rbf\").fit(X_train, y_train)\n",
        "\n",
        "# Evaluate the ART classifier on adversarial test examples\n",
        "#predictions = classifier.predict(X_test_adv)\n",
        "predictions = model.predict(X_test_adv)\n",
        "print(predictions)\n",
        "#accuracy = np.sum(np.argmax(predictions, axis=1) == np.argmax(y_test, axis=1)) / len(y_test)\n",
        "accuracy = np.sum(predictions == y_test) / len(y_test)\n",
        "print(\"Accuracy on adversarial test examples: {:.2f}%\".format(accuracy * 100))"
      ],
      "execution_count": null,
      "outputs": [
        {
          "output_type": "stream",
          "text": [
            "[0 9 8 5 8 9 9 7 5 8 0 9 9 1 2 0 8 8 8 8 0 8 8 8 2 6 3 8 1 7 0 8 8 3 7 9 5\n",
            " 9 8 9 6 8 0 3 1 9 0 9 4 3 8 2 7 2 8 8 7 4 8 9 2 9 2 0 0 9 8 3 8 1 3 9 1 9\n",
            " 9 4 6 5 7 0 7 9 5 9 8 4 4 3 3 8 4 8 0 4 8 0 9 8 6 9 9 8 0 8 8 8 4 8 8 4 2\n",
            " 3 1 1 7 5 3 4 3 8 7 6 5 9 8 4 4 2 9 8 3 3 8 7 2 3 5 7 3 6 8 5 4 9 8 6 8 8\n",
            " 8 2 8 6 9 9 8 4 6 5 8 7 9 1 9 8 7 3 8 9 8 5 2 5 8 8 8 7 9 7 6 9 9 2 6 0 8\n",
            " 8 1 4 4 8 5 9 2 6 7 5 9 8 9 5 8 0 1 8 8 6 8 9 8 9 5 5 0 8 4 5 4 5 8 7 6 0\n",
            " 8 8 6 8 5 8 8 8 8 1 8 2 8 5 0 9 0 3 1 4 8 9 4 1 1 3 9 8 7 8 8 5 5 8 1 0 0\n",
            " 8 3 8 8 1 6 1 8 0 7 4 8 6 4 8 5 8 4 5 9 8 0 4 8 4 9 8 0 8 7 8 9 9 8 8 1 1\n",
            " 3 6 0 0 6 8 7 4 0 8 8 1 8 3 8 3 8 8 8 1 0 7 7 5 5 8 9 8 8 8 1 8 0 0 0 4 2\n",
            " 0 1 5 9 8 1 7 8 0 0 3 2 0 5 9 9 7 9 8 2 9 2 1 1 8 8 8]\n",
            "Accuracy on adversarial test examples: 55.56%\n"
          ],
          "name": "stdout"
        }
      ]
    },
    {
      "cell_type": "code",
      "metadata": {
        "id": "OR8uNkSLNEtI"
      },
      "source": [
        "X_train_adv = fgAttack(X_train, 3)"
      ],
      "execution_count": null,
      "outputs": []
    },
    {
      "cell_type": "code",
      "metadata": {
        "colab": {
          "base_uri": "https://localhost:8080/"
        },
        "id": "75WL3HjnNEz5",
        "outputId": "2d559d15-09ec-45b5-99f5-2d13e9ffff03"
      },
      "source": [
        "model = SVC(C=1.0, kernel=\"rbf\").fit(X_train_adv, y_train)\n",
        "predictions = model.predict(X_test)\n",
        "accuracy = np.sum(predictions == y_test) / len(y_test)\n",
        "print(\"Accuracy on adversarial test examples: {:.2f}%\".format(accuracy * 100))"
      ],
      "execution_count": null,
      "outputs": [
        {
          "output_type": "stream",
          "text": [
            "Accuracy on adversarial test examples: 66.11%\n"
          ],
          "name": "stdout"
        }
      ]
    },
    {
      "cell_type": "markdown",
      "metadata": {
        "id": "JC51MxwHHWsG"
      },
      "source": [
        "# Defences"
      ]
    },
    {
      "cell_type": "markdown",
      "metadata": {
        "id": "WLll36zuiK_F"
      },
      "source": [
        "## Binary Thresholding"
      ]
    },
    {
      "cell_type": "code",
      "metadata": {
        "id": "ofVl2_FeiKtN"
      },
      "source": [
        ""
      ],
      "execution_count": null,
      "outputs": []
    },
    {
      "cell_type": "markdown",
      "metadata": {
        "id": "WZyEZYhTkmBa"
      },
      "source": [
        "## Data Transformation (PCA)\n",
        "\n",
        "https://arxiv.org/pdf/1704.02654.pdf\n",
        "\n",
        "https://ieeexplore.ieee.org/stamp/stamp.jsp?tp=&arnumber=8362326\n",
        "\n",
        "This is a data preprocessing method that makes models more robust against attack. It does not necessarily works after the test data have been attacked."
      ]
    },
    {
      "cell_type": "code",
      "metadata": {
        "id": "GKk3O4gJkmf1"
      },
      "source": [
        "from sklearn.decomposition import PCA"
      ],
      "execution_count": null,
      "outputs": []
    },
    {
      "cell_type": "code",
      "metadata": {
        "colab": {
          "base_uri": "https://localhost:8080/"
        },
        "id": "msRDFVm74Tp8",
        "outputId": "30ba38fd-5674-42be-aaaa-36f718fe25d5"
      },
      "source": [
        "X_train.shape, X_test.shape, y_train.shape, y_test.shape"
      ],
      "execution_count": null,
      "outputs": [
        {
          "output_type": "execute_result",
          "data": {
            "text/plain": [
              "((1437, 64), (360, 64), (1437,), (360,))"
            ]
          },
          "metadata": {
            "tags": []
          },
          "execution_count": 82
        }
      ]
    },
    {
      "cell_type": "code",
      "metadata": {
        "colab": {
          "base_uri": "https://localhost:8080/"
        },
        "id": "g95M_fOE4T4z",
        "outputId": "d64c6f68-a7ef-42f2-eb38-b748c9795ff5"
      },
      "source": [
        "model = SVC(C=1.0, kernel=\"rbf\").fit(X_train, y_train)\n",
        "# classifier = SklearnClassifier(model=model, clip_values=(np.amin(X_train), np.amax(X_train)))\n",
        "\"\"\" Original Testing Set \"\"\"\n",
        "y_pred = model.predict(X_test)\n",
        "accuracy = np.sum(y_pred == y_test) / len(y_test)\n",
        "print(\"Accuracy on original test examples: {:.2f}%\".format(accuracy * 100))\n",
        "\n",
        "\"\"\" Adversial Testing Set \"\"\"\n",
        "attack = FastGradientMethod(estimator=classifier, eps=3)\n",
        "X_test_adv = attack.generate(x=X_test)\n",
        "adv_pred = model.predict(X_test_adv)\n",
        "adv_accuracy = np.sum(adv_pred == y_test) / len(y_test)\n",
        "print(\"Accuracy on adversarial test examples: {:.2f}%\".format(adv_accuracy * 100))"
      ],
      "execution_count": null,
      "outputs": [
        {
          "output_type": "stream",
          "text": [
            "Accuracy on original test examples: 98.33%\n",
            "Accuracy on adversarial test examples: 60.00%\n"
          ],
          "name": "stdout"
        }
      ]
    },
    {
      "cell_type": "code",
      "metadata": {
        "id": "TQhWOvGv4T2J",
        "colab": {
          "base_uri": "https://localhost:8080/",
          "height": 357
        },
        "outputId": "a91ba41b-5d0e-490b-fca6-450be9834295"
      },
      "source": [
        "# input: n * d matrix\n",
        "def PCA_method(input, k=30):\n",
        "  i = input.T\n",
        "  eig_val, eig_vec = np.linalg.eig(i @ i.T)\n",
        "  idx = eig_val.argsort()[::-1]   \n",
        "  eigenValues = eig_val[idx]\n",
        "  eigenVectors = eig_vec[:,idx]\n",
        "  I = np.identity(train_eig_val.shape[0])[:, :k]\n",
        "  assert ((i @ i.T @ eigenVectors) - (eigenValues * eigenVectors) < 1e-3).all() \n",
        "  X_k = eigenVectors @ I @ I.T @ eigenVectors @ i\n",
        "  return X_k.T\n",
        "\n",
        "new_X_train = PCA_method(X_train, 64)\n",
        "new_X_test = PCA_method(X_test, 64)\n",
        "\n",
        "model = SVC(C=1.0, kernel=\"rbf\").fit(new_X_train, y_train)\n",
        "# classifier = SklearnClassifier(model=model, clip_values=(np.amin(X_train), np.amax(X_train)))\n",
        "\"\"\" Original Testing Set \"\"\"\n",
        "y_pred = model.predict(new_X_test)\n",
        "accuracy = np.sum(y_pred == y_test) / len(y_test)\n",
        "print(\"Accuracy on original test examples: {:.2f}%\".format(accuracy * 100))\n",
        "\n",
        "\"\"\" Adversial Testing Set \"\"\"\n",
        "this_classifier = SklearnClassifier(model=model, clip_values=(np.amin(new_X_train), np.amax(new_X_train)))\n",
        "attack = FastGradientMethod(estimator=this_classifier, eps=3)\n",
        "X_test_adv = attack.generate(x=new_X_test)\n",
        "adv_pred = model.predict(X_test_adv)\n",
        "adv_accuracy = np.sum(adv_pred == y_test) / len(y_test)\n",
        "print(\"Accuracy on adversarial test examples: {:.2f}%\".format(adv_accuracy * 100))"
      ],
      "execution_count": null,
      "outputs": [
        {
          "output_type": "error",
          "ename": "NameError",
          "evalue": "ignored",
          "traceback": [
            "\u001b[0;31m---------------------------------------------------------------------------\u001b[0m",
            "\u001b[0;31mNameError\u001b[0m                                 Traceback (most recent call last)",
            "\u001b[0;32m<ipython-input-84-d04798c116e0>\u001b[0m in \u001b[0;36m<module>\u001b[0;34m()\u001b[0m\n\u001b[1;32m     11\u001b[0m   \u001b[0;32mreturn\u001b[0m \u001b[0mX_k\u001b[0m\u001b[0;34m.\u001b[0m\u001b[0mT\u001b[0m\u001b[0;34m\u001b[0m\u001b[0;34m\u001b[0m\u001b[0m\n\u001b[1;32m     12\u001b[0m \u001b[0;34m\u001b[0m\u001b[0m\n\u001b[0;32m---> 13\u001b[0;31m \u001b[0mnew_X_train\u001b[0m \u001b[0;34m=\u001b[0m \u001b[0mPCA_method\u001b[0m\u001b[0;34m(\u001b[0m\u001b[0mX_train\u001b[0m\u001b[0;34m,\u001b[0m \u001b[0;36m64\u001b[0m\u001b[0;34m)\u001b[0m\u001b[0;34m\u001b[0m\u001b[0;34m\u001b[0m\u001b[0m\n\u001b[0m\u001b[1;32m     14\u001b[0m \u001b[0mnew_X_test\u001b[0m \u001b[0;34m=\u001b[0m \u001b[0mPCA_method\u001b[0m\u001b[0;34m(\u001b[0m\u001b[0mX_test\u001b[0m\u001b[0;34m,\u001b[0m \u001b[0;36m64\u001b[0m\u001b[0;34m)\u001b[0m\u001b[0;34m\u001b[0m\u001b[0;34m\u001b[0m\u001b[0m\n\u001b[1;32m     15\u001b[0m \u001b[0;34m\u001b[0m\u001b[0m\n",
            "\u001b[0;32m<ipython-input-84-d04798c116e0>\u001b[0m in \u001b[0;36mPCA_method\u001b[0;34m(input, k)\u001b[0m\n\u001b[1;32m      6\u001b[0m   \u001b[0meigenValues\u001b[0m \u001b[0;34m=\u001b[0m \u001b[0meig_val\u001b[0m\u001b[0;34m[\u001b[0m\u001b[0midx\u001b[0m\u001b[0;34m]\u001b[0m\u001b[0;34m\u001b[0m\u001b[0;34m\u001b[0m\u001b[0m\n\u001b[1;32m      7\u001b[0m   \u001b[0meigenVectors\u001b[0m \u001b[0;34m=\u001b[0m \u001b[0meig_vec\u001b[0m\u001b[0;34m[\u001b[0m\u001b[0;34m:\u001b[0m\u001b[0;34m,\u001b[0m\u001b[0midx\u001b[0m\u001b[0;34m]\u001b[0m\u001b[0;34m\u001b[0m\u001b[0;34m\u001b[0m\u001b[0m\n\u001b[0;32m----> 8\u001b[0;31m   \u001b[0mI\u001b[0m \u001b[0;34m=\u001b[0m \u001b[0mnp\u001b[0m\u001b[0;34m.\u001b[0m\u001b[0midentity\u001b[0m\u001b[0;34m(\u001b[0m\u001b[0mtrain_eig_val\u001b[0m\u001b[0;34m.\u001b[0m\u001b[0mshape\u001b[0m\u001b[0;34m[\u001b[0m\u001b[0;36m0\u001b[0m\u001b[0;34m]\u001b[0m\u001b[0;34m)\u001b[0m\u001b[0;34m[\u001b[0m\u001b[0;34m:\u001b[0m\u001b[0;34m,\u001b[0m \u001b[0;34m:\u001b[0m\u001b[0mk\u001b[0m\u001b[0;34m]\u001b[0m\u001b[0;34m\u001b[0m\u001b[0;34m\u001b[0m\u001b[0m\n\u001b[0m\u001b[1;32m      9\u001b[0m   \u001b[0;32massert\u001b[0m \u001b[0;34m(\u001b[0m\u001b[0;34m(\u001b[0m\u001b[0mi\u001b[0m \u001b[0;34m@\u001b[0m \u001b[0mi\u001b[0m\u001b[0;34m.\u001b[0m\u001b[0mT\u001b[0m \u001b[0;34m@\u001b[0m \u001b[0meigenVectors\u001b[0m\u001b[0;34m)\u001b[0m \u001b[0;34m-\u001b[0m \u001b[0;34m(\u001b[0m\u001b[0meigenValues\u001b[0m \u001b[0;34m*\u001b[0m \u001b[0meigenVectors\u001b[0m\u001b[0;34m)\u001b[0m \u001b[0;34m<\u001b[0m \u001b[0;36m1e-3\u001b[0m\u001b[0;34m)\u001b[0m\u001b[0;34m.\u001b[0m\u001b[0mall\u001b[0m\u001b[0;34m(\u001b[0m\u001b[0;34m)\u001b[0m\u001b[0;34m\u001b[0m\u001b[0;34m\u001b[0m\u001b[0m\n\u001b[1;32m     10\u001b[0m   \u001b[0mX_k\u001b[0m \u001b[0;34m=\u001b[0m \u001b[0meigenVectors\u001b[0m \u001b[0;34m@\u001b[0m \u001b[0mI\u001b[0m \u001b[0;34m@\u001b[0m \u001b[0mI\u001b[0m\u001b[0;34m.\u001b[0m\u001b[0mT\u001b[0m \u001b[0;34m@\u001b[0m \u001b[0meigenVectors\u001b[0m \u001b[0;34m@\u001b[0m \u001b[0mi\u001b[0m\u001b[0;34m\u001b[0m\u001b[0;34m\u001b[0m\u001b[0m\n",
            "\u001b[0;31mNameError\u001b[0m: name 'train_eig_val' is not defined"
          ]
        }
      ]
    },
    {
      "cell_type": "code",
      "metadata": {
        "id": "tOJzjAhV4Ty0"
      },
      "source": [
        "pca = PCA(n_components=25)\n",
        "pca.fit(X_train)\n",
        "pca_X_train = pca.transform(X_train)\n",
        "pca_X_test = pca.transform(X_test)\n",
        "\n",
        "model = SVC(C=1.0, kernel=\"rbf\").fit(pca_X_train, y_train)\n",
        "# classifier = SklearnClassifier(model=model, clip_values=(np.amin(X_train), np.amax(X_train)))\n",
        "\"\"\" Original Testing Set \"\"\"\n",
        "y_pred = model.predict(pca_X_test)\n",
        "accuracy = np.sum(y_pred == y_test) / len(y_test)\n",
        "print(\"Accuracy on original-PCA test examples: {:.2f}%\".format(accuracy * 100))\n",
        "\n",
        "\"\"\" Adversial Testing Set \"\"\"\n",
        "this_classifier = SklearnClassifier(model=model, clip_values=(np.amin(pca_X_train), np.amax(pca_X_train)))\n",
        "attack = FastGradientMethod(estimator=this_classifier, eps=3)\n",
        "X_test_adv_2 = attack.generate(x=pca_X_test)\n",
        "adv_pred = model.predict(X_test_adv_2)\n",
        "adv_accuracy = np.sum(adv_pred == y_test) / len(y_test)\n",
        "print(\"Accuracy on adversarial-PCA test examples: {:.2f}%\".format(adv_accuracy * 100))"
      ],
      "execution_count": null,
      "outputs": []
    },
    {
      "cell_type": "code",
      "metadata": {
        "id": "ozaDNo9ODU49"
      },
      "source": [
        "# Previous, first PCA then attack; here, attack then PCA\n",
        "X_test_adv_pca = pca.transform(X_test_adv)\n",
        "X_test_adv_pca.shape\n",
        "adv_pred_pca = model.predict(X_test_adv_pca)\n",
        "adv_accuracy_pca = np.sum(adv_pred_pca == y_test) / len(y_test)\n",
        "print(\"Accuracy on adversarial-PCA test examples (PCA after attack): {:.2f}%\".format(adv_accuracy_pca * 100))"
      ],
      "execution_count": null,
      "outputs": []
    },
    {
      "cell_type": "markdown",
      "metadata": {
        "id": "pd7ILUWfHZZH"
      },
      "source": [
        "## Adversarial training / Data augmentation\n",
        "\n",
        "https://arxiv.org/pdf/1707.06728.pdf section 3.2"
      ]
    },
    {
      "cell_type": "markdown",
      "metadata": {
        "id": "JvFMmXjmVZns"
      },
      "source": [
        "### For each original data point x, add:\n"
      ]
    },
    {
      "cell_type": "markdown",
      "metadata": {
        "id": "MMvglV6LVsfg"
      },
      "source": [
        "#### 1. Perturbed example drawn from a Gaussian distribution centered in x, with standard deviation 1"
      ]
    },
    {
      "cell_type": "code",
      "metadata": {
        "id": "hFUh1xVRHYB6"
      },
      "source": [
        "from sklearn.datasets import make_spd_matrix\n",
        "\n",
        "def getGaussianTrain(X_train):\n",
        "    cov = make_spd_matrix(X_train.shape[1]) * 2  # random symmetric positive definite matrix as covariance\n",
        "    #cov = np.full((X_train.shape[1], X_train.shape[1]), 0.3)\n",
        "    X_train_gaus = []\n",
        "    y_train_gaus = []\n",
        "    for i, x in enumerate(X_train):\n",
        "        x_gaus = np.random.multivariate_normal(x, cov, 1)[0]\n",
        "        X_train_gaus.append(x_gaus)\n",
        "        y_train_gaus.append(y_train[i])\n",
        "\n",
        "    X_train_gaus = np.array(X_train_gaus)\n",
        "    y_train_gaus = np.array(y_train_gaus)\n",
        "    #X_train_gaus = np.concatenate((X_train, X_train_gaus), axis=0)\n",
        "    #y_train_gaus = np.concatenate((y_train, y_train_gaus))\n",
        "    X_train_gaus.shape, y_train_gaus.shape\n",
        "    return X_train_gaus, y_train_gaus"
      ],
      "execution_count": null,
      "outputs": []
    },
    {
      "cell_type": "code",
      "metadata": {
        "id": "gPF3vH98NleF"
      },
      "source": [
        "def trainSVM(X_train, y_train, X_test, y_test):\n",
        "    model = SVC(C=1.0, kernel=\"rbf\").fit(X_train, y_train)\n",
        "    predictions = model.predict(X_test)\n",
        "    accuracy = np.sum(predictions == y_test) / len(y_test)\n",
        "    print(\"Accuracy on test examples: {}%\".format(accuracy * 100))\n",
        "    return model"
      ],
      "execution_count": null,
      "outputs": []
    },
    {
      "cell_type": "code",
      "metadata": {
        "colab": {
          "base_uri": "https://localhost:8080/"
        },
        "id": "FK06Vv0c8ixW",
        "outputId": "4a53ab20-2fbe-45fb-b13d-ed66b93271ec"
      },
      "source": [
        "trainSVM(X_train, y_train, X_test_adv, y_test)"
      ],
      "execution_count": null,
      "outputs": [
        {
          "output_type": "stream",
          "text": [
            "Accuracy on test examples: 55.55555555555556%\n"
          ],
          "name": "stdout"
        },
        {
          "output_type": "execute_result",
          "data": {
            "text/plain": [
              "SVC(C=1.0, break_ties=False, cache_size=200, class_weight=None, coef0=0.0,\n",
              "    decision_function_shape='ovr', degree=3, gamma='scale', kernel='rbf',\n",
              "    max_iter=-1, probability=False, random_state=None, shrinking=True,\n",
              "    tol=0.001, verbose=False)"
            ]
          },
          "metadata": {
            "tags": []
          },
          "execution_count": 70
        }
      ]
    },
    {
      "cell_type": "code",
      "metadata": {
        "colab": {
          "base_uri": "https://localhost:8080/"
        },
        "id": "ep7G2DoYN6TC",
        "outputId": "f4340f08-da0d-4c42-a320-4c809d62f9d6"
      },
      "source": [
        "gaussianModel = trainSVM(X_train_gaus, y_train_gaus, X_test_adv, y_test)"
      ],
      "execution_count": null,
      "outputs": [
        {
          "output_type": "stream",
          "text": [
            "Accuracy on test examples: 53.61111111111111%\n"
          ],
          "name": "stdout"
        }
      ]
    },
    {
      "cell_type": "code",
      "metadata": {
        "colab": {
          "base_uri": "https://localhost:8080/"
        },
        "id": "ufwHHUiBOMM8",
        "outputId": "aaed2783-bd44-49c8-e744-c3da39157729"
      },
      "source": [
        "# Add Gaussian noise for training data that is perturbed\n",
        "X_train_gaus, y_train_gaus = getGaussianTrain(X_train_adv)\n",
        "gaussianModel2 = trainSVM(X_train_gaus, y_train_gaus, X_test, y_test)"
      ],
      "execution_count": null,
      "outputs": [
        {
          "output_type": "stream",
          "text": [
            "Accuracy on test examples: 82.22222222222221%\n"
          ],
          "name": "stdout"
        }
      ]
    },
    {
      "cell_type": "code",
      "metadata": {
        "colab": {
          "base_uri": "https://localhost:8080/",
          "height": 360
        },
        "id": "0kyyX0kLPzDA",
        "outputId": "b7381904-7421-4594-c371-a0446b45b111"
      },
      "source": [
        "img = X_train[563]\n",
        "print(img, y_train[563])\n",
        "plt.matshow(img.reshape(8, 8)) \n",
        "plt.show()"
      ],
      "execution_count": null,
      "outputs": [
        {
          "output_type": "stream",
          "text": [
            "[ 0.  1. 12. 16. 10.  1.  0.  0.  0.  8. 12.  3. 11.  8.  0.  0.  0. 12.\n",
            " 13.  6. 12.  8.  0.  0.  0.  3. 15. 16. 16. 16.  1.  0.  0.  0.  0.  0.\n",
            "  0. 13.  6.  0.  0.  0.  0.  0.  0.  6. 11.  0.  0.  0. 13.  0.  0.  5.\n",
            " 12.  0.  0.  0. 12. 16. 16. 16.  8.  0.]\n"
          ],
          "name": "stdout"
        },
        {
          "output_type": "execute_result",
          "data": {
            "text/plain": [
              "<function matplotlib.pyplot.show>"
            ]
          },
          "metadata": {
            "tags": []
          },
          "execution_count": 102
        },
        {
          "output_type": "display_data",
          "data": {
            "image/png": "[encoded data removed]",
            "text/plain": [
              "<Figure size 288x288 with 1 Axes>"
            ]
          },
          "metadata": {
            "tags": [],
            "needs_background": "light"
          }
        }
      ]
    },
    {
      "cell_type": "code",
      "metadata": {
        "colab": {
          "base_uri": "https://localhost:8080/",
          "height": 479
        },
        "id": "7kzh_iorQP1w",
        "outputId": "a6103623-f9a3-41ff-96f9-d30be82f5c23"
      },
      "source": [
        "img = X_train_gaus[200]\n",
        "print(img, y_train_gaus[2000])\n",
        "plt.matshow(img.reshape(8, 8))\n",
        "plt.show()"
      ],
      "execution_count": null,
      "outputs": [
        {
          "output_type": "stream",
          "text": [
            "[-0.12745219  2.17430064 12.35953997 18.55964953  7.64994638 -1.65035434\n",
            " -2.5344699   1.22681224 -0.46300078 10.83013584 12.94678231  1.22168842\n",
            "  9.64712317  8.00000598  1.02085851  0.79868222  0.25003519 10.17225825\n",
            " 14.09769992  1.60098486 11.90046249 11.86231507  0.2232902   3.3118419\n",
            "  0.78288106  1.77208962 13.35198193 13.38108961 14.66037555 14.9755805\n",
            " -0.47048059  0.35210236 -3.6920264   1.78464303 -0.79003671 -0.95636783\n",
            "  3.74050668 13.64210943  6.53526484  1.31529547 -0.48862962  1.7260304\n",
            "  0.1560191   0.29667537  2.54275042  7.066667    9.44344515  1.52797329\n",
            " -0.02104116  2.94757785 17.37278074 -0.56026471  0.82518852  2.59151522\n",
            " 13.71862317  1.06624281 -0.54029953 -1.60662759 12.8796948  16.08113361\n",
            " 13.99092357 16.67145652 10.03546749  2.95487741]\n"
          ],
          "name": "stdout"
        },
        {
          "output_type": "execute_result",
          "data": {
            "text/plain": [
              "<function matplotlib.pyplot.show>"
            ]
          },
          "metadata": {
            "tags": []
          },
          "execution_count": 103
        },
        {
          "output_type": "display_data",
          "data": {
            "image/png": "[encoded data removed]",
            "text/plain": [
              "<Figure size 288x288 with 1 Axes>"
            ]
          },
          "metadata": {
            "tags": [],
            "needs_background": "light"
          }
        }
      ]
    },
    {
      "cell_type": "markdown",
      "metadata": {
        "id": "ZTg6fq4PVecC"
      },
      "source": [
        "#### 2. Adversarial example crafted with Jacobian Saliency Method"
      ]
    },
    {
      "cell_type": "code",
      "metadata": {
        "colab": {
          "base_uri": "https://localhost:8080/"
        },
        "id": "dF6qZIO4eb94",
        "outputId": "778c9603-71f9-4aba-db64-d243c6ccc189"
      },
      "source": [
        "from google.colab import drive\n",
        "drive.mount('/content/drive')"
      ],
      "execution_count": null,
      "outputs": [
        {
          "output_type": "stream",
          "text": [
            "Mounted at /content/drive\n"
          ],
          "name": "stdout"
        }
      ]
    },
    {
      "cell_type": "code",
      "metadata": {
        "id": "px3c7L64egPi"
      },
      "source": [
        "dir = '/content/drive/My Drive/ml_project/'"
      ],
      "execution_count": null,
      "outputs": []
    },
    {
      "cell_type": "code",
      "metadata": {
        "id": "vCnGTLFSQB0i"
      },
      "source": [
        "from art.attacks.evasion import SaliencyMapMethod"
      ],
      "execution_count": null,
      "outputs": []
    },
    {
      "cell_type": "code",
      "metadata": {
        "id": "fnhB6rFJsY_6"
      },
      "source": [
        "idx = np.random.randint(len(X_train), size=100)"
      ],
      "execution_count": null,
      "outputs": []
    },
    {
      "cell_type": "code",
      "metadata": {
        "colab": {
          "base_uri": "https://localhost:8080/"
        },
        "id": "19O7RsckVDG_",
        "outputId": "5526f4f3-63fd-4651-983a-50e8f8fa88af"
      },
      "source": [
        "attack_jsma = SaliencyMapMethod(classifier=classifier, theta=0.1)\n",
        "X_train_jsma = attack_jsma.generate(x=X_train[idx, :])\n",
        "X_train_jsma.shape"
      ],
      "execution_count": null,
      "outputs": [
        {
          "output_type": "stream",
          "text": [
            "JSMA: 100%|██████████| 100/100 [39:36<00:00, 23.76s/it]\n"
          ],
          "name": "stderr"
        },
        {
          "output_type": "execute_result",
          "data": {
            "text/plain": [
              "(100, 64)"
            ]
          },
          "metadata": {
            "tags": []
          },
          "execution_count": 31
        }
      ]
    },
    {
      "cell_type": "code",
      "metadata": {
        "id": "W1Rla9M-eFwz"
      },
      "source": [
        "with open(dir + 'X_train_jsma.npy', 'wb') as f:\n",
        "    np.save(f, X_train_jsma)\n",
        "with open(dir + 'y_train_jsma.npy', 'wb') as f:\n",
        "    np.save(f, y_train[idx])"
      ],
      "execution_count": null,
      "outputs": []
    },
    {
      "cell_type": "code",
      "metadata": {
        "id": "jXUtxfV2tgw3",
        "colab": {
          "base_uri": "https://localhost:8080/"
        },
        "outputId": "1bb98310-29aa-4598-e7e0-a60d6e317097"
      },
      "source": [
        "X_train_jsma = np.load(dir + 'X_train_jsma.npy')\n",
        "y_train_jsma = np.load(dir + 'y_train_jsma.npy')\n",
        "X_train_jsma.shape, y_train_jsma.shape"
      ],
      "execution_count": null,
      "outputs": [
        {
          "output_type": "execute_result",
          "data": {
            "text/plain": [
              "((100, 64), (100,))"
            ]
          },
          "metadata": {
            "tags": []
          },
          "execution_count": 101
        }
      ]
    },
    {
      "cell_type": "code",
      "metadata": {
        "colab": {
          "base_uri": "https://localhost:8080/"
        },
        "id": "RyXpGZI28zJH",
        "outputId": "6949bd98-d3ff-4bec-fe7b-b0453b7817b7"
      },
      "source": [
        "X_train_jsma = np.concatenate((X_train_adv, X_train_jsma), axis=0)\n",
        "y_train_jsma = np.concatenate((y_train, y_train_jsma))\n",
        "X_train_jsma.shape, y_train_jsma.shape"
      ],
      "execution_count": null,
      "outputs": [
        {
          "output_type": "execute_result",
          "data": {
            "text/plain": [
              "((1537, 64), (1537,))"
            ]
          },
          "metadata": {
            "tags": []
          },
          "execution_count": 102
        }
      ]
    },
    {
      "cell_type": "code",
      "metadata": {
        "colab": {
          "base_uri": "https://localhost:8080/"
        },
        "id": "8TRjRB_z9jQH",
        "outputId": "0e9fb36a-761f-43e7-c60e-d8490654bdac"
      },
      "source": [
        "modelJs = trainSVM(X_train_jsma, y_train_jsma, X_test_adv, y_test)"
      ],
      "execution_count": null,
      "outputs": [
        {
          "output_type": "stream",
          "text": [
            "Accuracy on test examples: 56.111111111111114%\n"
          ],
          "name": "stdout"
        }
      ]
    },
    {
      "cell_type": "code",
      "metadata": {
        "colab": {
          "base_uri": "https://localhost:8080/"
        },
        "id": "fx_CFhUFOeZ3",
        "outputId": "295f093c-8ae9-487e-e2dd-f8837a91fc5f"
      },
      "source": [
        "modelJs2 = trainSVM(X_train_jsma, y_train_jsma, X_test, y_test)"
      ],
      "execution_count": null,
      "outputs": [
        {
          "output_type": "stream",
          "text": [
            "Accuracy on test examples: 78.88888888888889%\n"
          ],
          "name": "stdout"
        }
      ]
    },
    {
      "cell_type": "code",
      "metadata": {
        "colab": {
          "base_uri": "https://localhost:8080/"
        },
        "id": "jVZIqtlfTQBQ",
        "outputId": "6636d4bc-32d1-487c-a2d2-b6e5109d3060"
      },
      "source": [
        "y_train_jsma[1437:]"
      ],
      "execution_count": null,
      "outputs": [
        {
          "output_type": "execute_result",
          "data": {
            "text/plain": [
              "array([5, 0, 2, 6, 4, 0, 1, 6, 5, 3, 8, 8, 7, 8, 6, 8, 1, 4, 4, 8, 4, 4,\n",
              "       3, 8, 3, 6, 3, 0, 2, 0, 6, 2, 8, 0, 2, 4, 9, 7, 9, 6, 4, 7, 8, 8,\n",
              "       3, 9, 7, 9, 3, 1, 4, 3, 8, 2, 8, 3, 9, 2, 8, 5, 2, 8, 1, 8, 6, 3,\n",
              "       0, 7, 4, 5, 1, 0, 5, 4, 3, 7, 7, 2, 7, 0, 8, 8, 4, 6, 5, 0, 6, 1,\n",
              "       7, 3, 2, 2, 5, 4, 2, 1, 5, 5, 2, 9])"
            ]
          },
          "metadata": {
            "tags": []
          },
          "execution_count": 52
        }
      ]
    },
    {
      "cell_type": "code",
      "metadata": {
        "id": "ebDiMcT09luK"
      },
      "source": [
        "plt.matshow(X_train_jsma[1437].reshape(8, 8))\n",
        "plt.show()"
      ],
      "execution_count": null,
      "outputs": []
    },
    {
      "cell_type": "markdown",
      "metadata": {
        "id": "TUTmJ_ZatS15"
      },
      "source": [
        "#### 3. Adversarial example crafted with Fast Gradient Method\n"
      ]
    },
    {
      "cell_type": "code",
      "metadata": {
        "id": "GL53v2D3W81F",
        "colab": {
          "base_uri": "https://localhost:8080/"
        },
        "outputId": "050f7997-1d04-46e6-a723-65e6828739fc"
      },
      "source": [
        "attack_fgsm = FastGradientMethod(estimator=classifier, eps=1)\n",
        "X_train_fgsm = attack_fgsm.generate(x=X_train_adv)\n",
        "y_train_fgsm = y_train\n",
        "X_train_fgsm.shape, y_train_fgsm.shape"
      ],
      "execution_count": null,
      "outputs": [
        {
          "output_type": "execute_result",
          "data": {
            "text/plain": [
              "((1437, 64), (1437,))"
            ]
          },
          "metadata": {
            "tags": []
          },
          "execution_count": 104
        }
      ]
    },
    {
      "cell_type": "code",
      "metadata": {
        "colab": {
          "base_uri": "https://localhost:8080/"
        },
        "id": "vS0o36Xg-tkG",
        "outputId": "34b510a3-ecfd-484c-a9c2-ad12f7794c75"
      },
      "source": [
        "X_train_fgsm = np.concatenate((X_train_adv, X_train_fgsm), axis=0)\n",
        "y_train_fgsm = np.concatenate((y_train, y_train))\n",
        "X_train_fgsm.shape, y_train_fgsm.shape"
      ],
      "execution_count": null,
      "outputs": [
        {
          "output_type": "execute_result",
          "data": {
            "text/plain": [
              "((2874, 64), (2874,))"
            ]
          },
          "metadata": {
            "tags": []
          },
          "execution_count": 89
        }
      ]
    },
    {
      "cell_type": "code",
      "metadata": {
        "colab": {
          "base_uri": "https://localhost:8080/"
        },
        "id": "M2KQNoAI_CXN",
        "outputId": "3d4546b7-f48b-46d3-8a1d-25d1c49aa8e4"
      },
      "source": [
        "modelFg = trainSVM(X_train_fgsm, y_train_fgsm, X_test_adv, y_test)"
      ],
      "execution_count": null,
      "outputs": [
        {
          "output_type": "stream",
          "text": [
            "Accuracy on test examples: 86.94444444444444%\n"
          ],
          "name": "stdout"
        }
      ]
    },
    {
      "cell_type": "code",
      "metadata": {
        "colab": {
          "base_uri": "https://localhost:8080/"
        },
        "id": "Y0qgsI6QOxEJ",
        "outputId": "3777453e-9ba4-43ab-8a3f-eca973bc3476"
      },
      "source": [
        "modelFg2 = trainSVM(X_train_fgsm, y_train_fgsm, X_test, y_test)"
      ],
      "execution_count": null,
      "outputs": [
        {
          "output_type": "stream",
          "text": [
            "Accuracy on test examples: 57.22222222222222%\n"
          ],
          "name": "stdout"
        }
      ]
    },
    {
      "cell_type": "code",
      "metadata": {
        "colab": {
          "base_uri": "https://localhost:8080/",
          "height": 533
        },
        "id": "1Mi8lm9Y_Ddh",
        "outputId": "38ea6d45-3588-48ab-d75a-2f11c7471925"
      },
      "source": [
        "plt.matshow(X_train[0].reshape(8, 8))\n",
        "plt.matshow(X_train_fgsm[1437].reshape(8, 8))\n",
        "plt.show()"
      ],
      "execution_count": null,
      "outputs": [
        {
          "output_type": "display_data",
          "data": {
            "image/png": "[encoded data removed]",
            "text/plain": [
              "<Figure size 288x288 with 1 Axes>"
            ]
          },
          "metadata": {
            "tags": [],
            "needs_background": "light"
          }
        },
        {
          "output_type": "display_data",
          "data": {
            "image/png": "[encoded data removed]",
            "text/plain": [
              "<Figure size 288x288 with 1 Axes>"
            ]
          },
          "metadata": {
            "tags": [],
            "needs_background": "light"
          }
        }
      ]
    },
    {
      "cell_type": "code",
      "metadata": {
        "id": "hz24L5OrUiqq"
      },
      "source": [
        ""
      ],
      "execution_count": null,
      "outputs": []
    },
    {
      "cell_type": "markdown",
      "metadata": {
        "id": "zra1J9zqJf4E"
      },
      "source": [
        "### plot the accuracies"
      ]
    },
    {
      "cell_type": "code",
      "metadata": {
        "id": "nooMOtNsF6-h"
      },
      "source": [
        "origAcc = []\n",
        "gaussianAcc = []\n",
        "jsAcc = []\n",
        "fgAcc = []\n",
        "for eps in range(1, 10):\n",
        "    X_test_adv_i = fgAttack(X_test, eps)\n",
        "    \n",
        "    predictions = model.predict(X_test_adv_i)\n",
        "    accuracy = np.sum(predictions == y_test) / len(y_test)\n",
        "    origAcc.append(accuracy)\n",
        "    print(\"Accuracy on adversarial examples: {:.2f}%\".format(accuracy * 100))\n",
        "    \n",
        "    predictions = gaussianModel.predict(X_test_adv_i)\n",
        "    accuracy2 = np.sum(predictions == y_test) / len(y_test)\n",
        "    gaussianAcc.append(accuracy2)\n",
        "    \n",
        "    predictions = modelJs.predict(X_test_adv_i)\n",
        "    accuracy3 = np.sum(predictions == y_test) / len(y_test)\n",
        "    jsAcc.append(accuracy3)\n",
        "\n",
        "    predictions = modelFg.predict(X_test_adv_i)\n",
        "    accuracy4 = np.sum(predictions == y_test) / len(y_test)\n",
        "    fgAcc.append(accuracy4)\n",
        "\n",
        "    print(accuracy2, accuracy3, accuracy4)"
      ],
      "execution_count": null,
      "outputs": []
    },
    {
      "cell_type": "code",
      "metadata": {
        "colab": {
          "base_uri": "https://localhost:8080/",
          "height": 296
        },
        "id": "K7X51RqgJ2Db",
        "outputId": "6f9259ac-0898-414c-b80b-e4c46b95258a"
      },
      "source": [
        "import matplotlib.pyplot as plt\n",
        "\n",
        "x = range(1, 10)\n",
        "plt.plot(x, origAcc, '-o', label='orig')\n",
        "plt.plot(x, gaussianAcc, '-o', label='Gaussian')\n",
        "plt.plot(x, jsAcc, '-o', label='JS')\n",
        "plt.plot(x, fgAcc, '-o', label='FG')\n",
        "plt.legend()\n",
        "plt.xlabel('Epsilon for test attack')\n",
        "plt.ylabel('Accuracy')"
      ],
      "execution_count": null,
      "outputs": [
        {
          "output_type": "execute_result",
          "data": {
            "text/plain": [
              "Text(0, 0.5, 'Accuracy')"
            ]
          },
          "metadata": {
            "tags": []
          },
          "execution_count": 58
        },
        {
          "output_type": "display_data",
          "data": {
            "image/png": "[encoded data removed]",
            "text/plain": [
              "<Figure size 432x288 with 1 Axes>"
            ]
          },
          "metadata": {
            "tags": [],
            "needs_background": "light"
          }
        }
      ]
    },
    {
      "cell_type": "code",
      "metadata": {
        "colab": {
          "base_uri": "https://localhost:8080/"
        },
        "id": "TFMcUgAoXPNR",
        "outputId": "13395239-b490-468b-a227-857bbc542765"
      },
      "source": [
        "origAcc2 = []\n",
        "gaussianAcc2 = []\n",
        "jsAcc2 = []\n",
        "fgAcc2 = []\n",
        "for eps in range(1, 10):\n",
        "    X_train_adv_i = fgAttack(X_train, eps)\n",
        "    \n",
        "    model2 = SVC(C=1.0, kernel=\"rbf\").fit(X_train_adv_i, y_train)\n",
        "    predictions = model2.predict(X_test)\n",
        "    accuracy = np.sum(predictions == y_test) / len(y_test)\n",
        "    origAcc2.append(accuracy)\n",
        "    \n",
        "    X_train_gaus, y_train_gaus = getGaussianTrain(X_train_adv_i)\n",
        "    gaussianModel2 = SVC(C=1.0, kernel=\"rbf\").fit(X_train_gaus, y_train_gaus)\n",
        "    predictions = gaussianModel2.predict(X_test)\n",
        "    accuracy2 = np.sum(predictions == y_test) / len(y_test)\n",
        "    gaussianAcc2.append(accuracy2)\n",
        "\n",
        "    X_train_jsma = np.concatenate((X_train_adv_i, np.load(dir + 'X_train_jsma.npy')), axis=0)\n",
        "    y_train_jsma = np.concatenate((y_train, np.load(dir + 'y_train_jsma.npy')))\n",
        "    modelJs2 = SVC(C=1.0, kernel=\"rbf\").fit(X_train_jsma, y_train_jsma)\n",
        "    predictions = modelJs2.predict(X_test)\n",
        "    accuracy3 = np.sum(predictions == y_test) / len(y_test)\n",
        "    jsAcc2.append(accuracy3)\n",
        "    \n",
        "    X_train_fgsm2 = np.concatenate((X_train_adv_i, X_train_fgsm), axis=0)\n",
        "    y_train_fgsm2 = np.concatenate((y_train, y_train))\n",
        "    modelFg2 = SVC(C=1.0, kernel=\"rbf\").fit(X_train_fgsm2, y_train_fgsm2)\n",
        "    predictions = modelFg2.predict(X_test)\n",
        "    accuracy4 = np.sum(predictions == y_test) / len(y_test)\n",
        "    fgAcc2.append(accuracy4)\n",
        "    \n",
        "    print(\"Accuracy\", accuracy, accuracy2, accuracy3, accuracy4)"
      ],
      "execution_count": null,
      "outputs": [
        {
          "output_type": "stream",
          "text": [
            "Accuracy 0.9805555555555555 0.975 0.9777777777777777 0.9805555555555555\n",
            "Accuracy 0.9555555555555556 0.9583333333333334 0.9611111111111111 0.9611111111111111\n",
            "Accuracy 0.6611111111111111 0.775 0.7888888888888889 0.6305555555555555\n",
            "Accuracy 0.16111111111111112 0.20277777777777778 0.49166666666666664 0.48055555555555557\n",
            "Accuracy 0.08333333333333333 0.05555555555555555 0.26944444444444443 0.45555555555555555\n",
            "Accuracy 0.03888888888888889 0.016666666666666666 0.18888888888888888 0.4388888888888889\n",
            "Accuracy 0.044444444444444446 0.016666666666666666 0.20555555555555555 0.42777777777777776\n",
            "Accuracy 0.05 0.019444444444444445 0.24166666666666667 0.475\n",
            "Accuracy 0.05 0.022222222222222223 0.3111111111111111 0.5611111111111111\n"
          ],
          "name": "stdout"
        }
      ]
    },
    {
      "cell_type": "code",
      "metadata": {
        "colab": {
          "base_uri": "https://localhost:8080/",
          "height": 296
        },
        "id": "gPblTu0nXP2X",
        "outputId": "85ff355b-9954-4ebd-88d1-54025c695756"
      },
      "source": [
        "import matplotlib.pyplot as plt\n",
        "\n",
        "x = range(1, 10)\n",
        "plt.plot(x, origAcc2, '-o', label='orig')\n",
        "plt.plot(x, gaussianAcc2, '-o', label='Gaussian')\n",
        "plt.plot(x, jsAcc2, '-o', label='JS')\n",
        "plt.plot(x, fgAcc2, '-o', label='FG')\n",
        "plt.legend()\n",
        "plt.xlabel('Epsilon for train attack')\n",
        "plt.ylabel('Accuracy')"
      ],
      "execution_count": null,
      "outputs": [
        {
          "output_type": "execute_result",
          "data": {
            "text/plain": [
              "Text(0, 0.5, 'Accuracy')"
            ]
          },
          "metadata": {
            "tags": []
          },
          "execution_count": 127
        },
        {
          "output_type": "display_data",
          "data": {
            "image/png": "[encoded data removed]",
            "text/plain": [
              "<Figure size 432x288 with 1 Axes>"
            ]
          },
          "metadata": {
            "tags": [],
            "needs_background": "light"
          }
        }
      ]
    },
    {
      "cell_type": "markdown",
      "metadata": {
        "id": "kAX6ZKzP7pK_"
      },
      "source": [
        "## Training SVM on attacked data set.\n",
        "\n",
        "Method: Iteratively train SVM on the data set. Each time, based on current \n",
        "hypothesis, we mark a certain percent of data and train SVM on the rest of data. Our performance should be comparable to the baseline."
      ]
    },
    {
      "cell_type": "code",
      "metadata": {
        "id": "SuFQcJ2F8MOd"
      },
      "source": [
        "def trainSVMiter(X_train,y_train,X_test,y_test,R=10,prop=5):\n",
        "  X_train_guess=X_train\n",
        "  y_train_guess=y_train\n",
        "  for _ in range(R):\n",
        "  # rank the mis-classified samples and remove some of them. \n",
        "    model=SVC(C=1.0, kernel=\"poly\", degree=2).fit(X_train_guess,y_train_guess)\n",
        "    raws=[]\n",
        "    predictions = model.predict(X_train)\n",
        "    for i in range(len(y_train)):\n",
        "      if predictions[i]!=y_train[i]:\n",
        "        if random.randint(1, 10)>=prop:\n",
        "          raws.append(i)\n",
        "    X_train_guess=X_train\n",
        "    y_train_guess=y_train\n",
        "    X_train_guess=np.delete(X_train_guess,raws,axis=0)\n",
        "    y_train_guess=np.delete(y_train_guess,raws,axis=0)\n",
        "  print(X_train_guess.shape)\n",
        "  predictions = model.predict(X_test)\n",
        "  accuracy = np.sum(predictions == y_test) / len(y_test)\n",
        "  print(\"Accuracy on test examples: {}%\".format(accuracy * 100))"
      ],
      "execution_count": null,
      "outputs": []
    },
    {
      "cell_type": "code",
      "metadata": {
        "id": "uHUX4Pfur58p"
      },
      "source": [
        "import random\n",
        "import numpy as np"
      ],
      "execution_count": null,
      "outputs": []
    },
    {
      "cell_type": "code",
      "metadata": {
        "colab": {
          "base_uri": "https://localhost:8080/"
        },
        "id": "68-2DGRxuB1g",
        "outputId": "3f34d4fd-5f0f-4ffd-dbc8-f2c553eabab8"
      },
      "source": [
        "print(X_train.shape)"
      ],
      "execution_count": null,
      "outputs": [
        {
          "output_type": "stream",
          "text": [
            "(1437, 64)\n"
          ],
          "name": "stdout"
        }
      ]
    },
    {
      "cell_type": "code",
      "metadata": {
        "id": "gqQRi3mXsowj"
      },
      "source": [
        "X_train_adv = attack.generate(x=X_train)\n",
        "trainSVMiter(X_train_adv, y_train, X_test, y_test, 100, 0)"
      ],
      "execution_count": null,
      "outputs": []
    },
    {
      "cell_type": "code",
      "metadata": {
        "colab": {
          "base_uri": "https://localhost:8080/"
        },
        "id": "uuUIV7KOs5CG",
        "outputId": "f23abdd9-236b-4a70-9159-f335acd1258a"
      },
      "source": [
        "model=SVC(C=1.0, kernel=\"poly\", degree=5).fit(X_train_adv, y_train)\n",
        "predictions = model.predict(X_test)\n",
        "accuracy = np.sum(predictions == y_test) / len(y_test)\n",
        "print(\"Accuracy on test examples: {}%\".format(accuracy * 100))"
      ],
      "execution_count": null,
      "outputs": [
        {
          "output_type": "stream",
          "text": [
            "Accuracy on test examples: 80.27777777777779%\n"
          ],
          "name": "stdout"
        }
      ]
    },
    {
      "cell_type": "code",
      "metadata": {
        "colab": {
          "base_uri": "https://localhost:8080/"
        },
        "id": "5K-eSsp7xIWh",
        "outputId": "8a30b0a8-2c88-4257-f927-a309151cd3d9"
      },
      "source": [
        "def trainSVMiterGary(X_train,y_train,X_test,y_test,R=10,prop=5):\n",
        "  X_train_guess=X_train\n",
        "  y_train_guess=y_train\n",
        "  for _ in range(R):\n",
        "  # rank the mis-classified samples and remove some of them. \n",
        "    model=SVC(C=1.0, kernel=\"poly\", degree=2).fit(X_train_guess, y_train_guess)\n",
        "    raws=[]\n",
        "    predictions = model.predict(X_train)\n",
        "    accuracy = np.sum(predictions == y_train) / len(y_train)\n",
        "    print(\"Accuracy on train examples: {}%\".format(accuracy * 100))\n",
        "    for i in range(len(y_train)):\n",
        "      if predictions[i]!=y_train[i]:\n",
        "        if random.randint(1, 10)>=prop:\n",
        "          raws.append(i)\n",
        "      \"\"\"\n",
        "      else:\n",
        "        if random.randint(1, 10)>=8:\n",
        "          raws.append(i)\n",
        "      \"\"\"\n",
        "    print(len(raws))\n",
        "    X_train_guess=X_train\n",
        "    y_train_guess=y_train\n",
        "    X_train_guess=np.delete(X_train_guess,raws,axis=0)\n",
        "    y_train_guess=np.delete(y_train_guess,raws,axis=0)\n",
        "  print(X_train_guess.shape)\n",
        "  predictions = model.predict(X_test)\n",
        "  accuracy = np.sum(predictions == y_test) / len(y_test)\n",
        "  print(\"Accuracy on test examples: {}%\".format(accuracy * 100))\n",
        "\n",
        "for i in range(2):\n",
        "  trainSVMiterGary(X_train_adv, y_train, X_test, y_test, 20, 0)"
      ],
      "execution_count": null,
      "outputs": [
        {
          "output_type": "stream",
          "text": [
            "Accuracy on train examples: 99.65205288796103%\n",
            "5\n",
            "Accuracy on train examples: 99.65205288796103%\n",
            "5\n",
            "Accuracy on train examples: 99.65205288796103%\n",
            "5\n",
            "Accuracy on train examples: 99.65205288796103%\n",
            "5\n",
            "Accuracy on train examples: 99.65205288796103%\n",
            "5\n",
            "Accuracy on train examples: 99.65205288796103%\n",
            "5\n",
            "Accuracy on train examples: 99.65205288796103%\n",
            "5\n",
            "Accuracy on train examples: 99.65205288796103%\n",
            "5\n",
            "Accuracy on train examples: 99.65205288796103%\n",
            "5\n",
            "Accuracy on train examples: 99.65205288796103%\n",
            "5\n",
            "Accuracy on train examples: 99.65205288796103%\n",
            "5\n",
            "Accuracy on train examples: 99.65205288796103%\n",
            "5\n",
            "Accuracy on train examples: 99.65205288796103%\n",
            "5\n",
            "Accuracy on train examples: 99.65205288796103%\n",
            "5\n",
            "Accuracy on train examples: 99.65205288796103%\n",
            "5\n",
            "Accuracy on train examples: 99.65205288796103%\n",
            "5\n",
            "Accuracy on train examples: 99.65205288796103%\n",
            "5\n",
            "Accuracy on train examples: 99.65205288796103%\n",
            "5\n",
            "Accuracy on train examples: 99.65205288796103%\n",
            "5\n",
            "Accuracy on train examples: 99.65205288796103%\n",
            "5\n",
            "(1432, 64)\n",
            "Accuracy on test examples: 67.77777777777779%\n",
            "Accuracy on train examples: 99.65205288796103%\n",
            "5\n",
            "Accuracy on train examples: 99.65205288796103%\n",
            "5\n",
            "Accuracy on train examples: 99.65205288796103%\n",
            "5\n",
            "Accuracy on train examples: 99.65205288796103%\n",
            "5\n",
            "Accuracy on train examples: 99.65205288796103%\n",
            "5\n",
            "Accuracy on train examples: 99.65205288796103%\n",
            "5\n",
            "Accuracy on train examples: 99.65205288796103%\n",
            "5\n",
            "Accuracy on train examples: 99.65205288796103%\n",
            "5\n",
            "Accuracy on train examples: 99.65205288796103%\n",
            "5\n",
            "Accuracy on train examples: 99.65205288796103%\n",
            "5\n",
            "Accuracy on train examples: 99.65205288796103%\n",
            "5\n",
            "Accuracy on train examples: 99.65205288796103%\n",
            "5\n",
            "Accuracy on train examples: 99.65205288796103%\n",
            "5\n",
            "Accuracy on train examples: 99.65205288796103%\n",
            "5\n",
            "Accuracy on train examples: 99.65205288796103%\n",
            "5\n",
            "Accuracy on train examples: 99.65205288796103%\n",
            "5\n",
            "Accuracy on train examples: 99.65205288796103%\n",
            "5\n",
            "Accuracy on train examples: 99.65205288796103%\n",
            "5\n",
            "Accuracy on train examples: 99.65205288796103%\n",
            "5\n",
            "Accuracy on train examples: 99.65205288796103%\n",
            "5\n",
            "(1432, 64)\n",
            "Accuracy on test examples: 67.77777777777779%\n"
          ],
          "name": "stdout"
        }
      ]
    },
    {
      "cell_type": "code",
      "metadata": {
        "id": "EHsuRiZWxJK0"
      },
      "source": [
        ""
      ],
      "execution_count": null,
      "outputs": []
    }
  ]
}