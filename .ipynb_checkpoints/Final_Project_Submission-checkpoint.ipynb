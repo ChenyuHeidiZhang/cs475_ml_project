{
 "cells": [
  {
   "cell_type": "markdown",
   "metadata": {
    "id": "39GGICFzwDrj"
   },
   "source": [
    "# **Instructions**\n",
    "\n",
    "This document is a template, and you are not required to follow it exactly. However, the kinds of questions we ask here are the kinds of questions we want you to focus on. While you might have answered similar questions to these in your project presentations, we want you to go into a lot more detail in this write-up; you can refer to the Lab homeworks for ideas on how to present your data or results. \n",
    "\n",
    "You don't have to answer every question in this template, but you should answer roughly this many questions. Your answers to such questions should be paragraph-length, not just a bullet point. You likely still have questions of your own -- that's okay! We want you to convey what you've learned, how you've learned it, and demonstrate that the content from the course has influenced how you've thought about this project."
   ]
  },
  {
   "cell_type": "markdown",
   "metadata": {
    "id": "-9VDfC-ie19P"
   },
   "source": [
    "# Defending Adversarial Attacks\n",
    "Project mentor: Mark Dredze\n",
    "\n",
    "Xuan Wu\t<xwu71@jhu.edu> Yunxiao Yang <yyang117@jhu.edu>\n",
    "Chenyu Zhang <czhan105@jhu.edu>\t\tJinhan Zhang <jzhan205@jhu.edu>\t\t\t\t\n",
    "\n",
    "Link to github repo: https://github.com/ChenyuHeidiZhang/cs475_ml_project"
   ]
  },
  {
   "cell_type": "markdown",
   "metadata": {
    "id": "uqwI3PT-hBJo"
   },
   "source": [
    "# Outline and Deliverables"
   ]
  },
  {
   "cell_type": "markdown",
   "metadata": {
    "id": "ab3b_W24ajRx"
   },
   "source": [
    "\n",
    "### Uncompleted Deliverables\n",
    "1. \"Expect to accomplish #1\": we decided to focus only on the support vector machine (SVM) and thus did not repeat the experiment with convolutional neural network (CNN) \n",
    "\n",
    "\n",
    "### Completed Deliverables\n",
    "1.  \"Must accomplish #1\": (Dataset section) Obtain and inspect the digits dataset.\n",
    "\n",
    "2.  \"Must accomplish #2\": (Methods section 1) Perform PCA on training data.\n",
    "\n",
    "3. \"Must accomplish #3\": (Baseline section) Attack the data by adversarial examples generated using the ART toolbox. Check accuracy and compare with the baseline. Explore various attackers.\n",
    "\n",
    "4.  \"Expect to accomplish #2\": (Methods section 4) Develop a robust training algorithm adapted from the idea of feedback learning.\n",
    "\n",
    "5.  \"Expect to accomplish #3\": (Results section) Evaluate the performance of the models against baseline.\n",
    "\n",
    "\n",
    "### Additional Deliverables\n",
    "1. (Methods section 2) Sharpening the data. \n",
    "\n",
    "2. (Methods section 3) Data Augmentation methods for adversarial training."
   ]
  },
  {
   "cell_type": "markdown",
   "metadata": {
    "id": "Eiq2aSauhSsS"
   },
   "source": [
    "# Preliminaries"
   ]
  },
  {
   "cell_type": "markdown",
   "metadata": {
    "id": "NtWkhiIPfOfK"
   },
   "source": [
    "## What problem were you trying to solve or understand?\n",
    "\n"
   ]
  },
  {
   "cell_type": "markdown",
   "metadata": {
    "id": "LzvwriSNb5JQ"
   },
   "source": [
    "### What are the real-world implications of this data and task?\n",
    "We chose robustness as the theme of our project because it is a prevalent problem that all models might face. A robust machine learning model is defined to be one that\n",
    "performs reasonably well even when the dataset (training set or testing set or both) is perturbed. It is legitimate problem since real-world data can be noisy and not as representative as the classic datasets, like Iris or MNIST. As more high-stakes applications begin to utilize ML, it has never been more critical to build robust models that ensure fairness and safety.\n",
    "\n",
    "### How is this problem similar to others we’ve seen in lectures, breakouts, and homeworks?\n",
    "\n",
    "\n",
    "### What makes this problem unique?\n",
    "\n",
    "\n",
    "### What ethical implications does this problem have?\n",
    "A not robust model is prone to be erroneous when data is not as nice as expected, and this can be a huge problem as ML gaining popularities in fields like autonomous vehicle and precision medicine.\n"
   ]
  },
  {
   "cell_type": "markdown",
   "metadata": {
    "id": "zFq-_D0khnhh"
   },
   "source": [
    "## Dataset(s)\n",
    "\n",
    "Describe the dataset(s) you used.\n",
    "\n",
    "How were they collected?\n",
    "\n",
    "\n",
    "Why did you choose them?\n",
    "\n",
    "How many examples in each?\n"
   ]
  },
  {
   "cell_type": "markdown",
   "metadata": {
    "id": "5ewEHqAgYT5m"
   },
   "source": [
    "Answer:\n",
    "\n",
    "We used multi-class, grey-scale, hand-written digit dataset from Scikit-learn library. The data is \n",
    "adapted from the \n",
    "test set of Optical Recognition of Handwritten \n",
    "Digits Data. \n",
    "\n",
    "The dataset contains 1797 instances of hand-written digits, where each instance is an image of \n",
    "size eight by eight (thus a total of 64 pixels).\n",
    " For each pixel, the valid range of value is \n",
    " an integer between 0 to 16. There are ten \n",
    " digits classes, and each class contains ~ \n",
    " 180 pictures; thus, the digit dataset is a well-balanced dataset. This dataset does not \n",
    " provide an underlying train-test split, so \n",
    " we did a 80-20 split ourselves.\n",
    "\n",
    "We chose this classic dataset because we are working on a theory project where the focus is to understand and defend adversarial attacks. This dataset allows us to introduce adversarial attack and observe an obvious decrease in accuracy.\n"
   ]
  },
  {
   "cell_type": "code",
   "execution_count": null,
   "metadata": {
    "colab": {
     "base_uri": "https://localhost:8080/",
     "height": 825
    },
    "executionInfo": {
     "elapsed": 1791,
     "status": "ok",
     "timestamp": 1607919448525,
     "user": {
      "displayName": "Xuan Wu",
      "photoUrl": "",
      "userId": "16874546493228828062"
     },
     "user_tz": 300
    },
    "id": "2lOicoBYif7g",
    "outputId": "d24e0a5d-ee3d-4d1e-8d45-2d415edca167"
   },
   "outputs": [
    {
     "name": "stdout",
     "output_type": "stream",
     "text": [
      "1797 instances and 64 features\n"
     ]
    },
    {
     "data": {
      "text/plain": [
       "<Figure size 432x288 with 0 Axes>"
      ]
     },
     "metadata": {
      "tags": []
     },
     "output_type": "display_data"
    },
    {
     "data": {
      "image/png": "[encoded data removed]",
      "text/plain": [
       "<Figure size 288x288 with 1 Axes>"
      ]
     },
     "metadata": {
      "needs_background": "light",
      "tags": []
     },
     "output_type": "display_data"
    },
    {
     "data": {
      "image/png": "[encoded data removed]",
      "text/plain": [
       "<Figure size 288x288 with 1 Axes>"
      ]
     },
     "metadata": {
      "needs_background": "light",
      "tags": []
     },
     "output_type": "display_data"
    },
    {
     "data": {
      "image/png": "[encoded data removed]",
      "text/plain": [
       "<Figure size 288x288 with 1 Axes>"
      ]
     },
     "metadata": {
      "needs_background": "light",
      "tags": []
     },
     "output_type": "display_data"
    }
   ],
   "source": [
    "# Load your data and print 2-3 examples\n",
    "import numpy as np\n",
    "import matplotlib.pyplot as plt \n",
    "from sklearn.datasets import load_digits\n",
    "digits = load_digits()\n",
    "\n",
    "print(f\"{digits.data.shape[0]} instances and {digits.data.shape[1]} features\")\n",
    "plt.gray()\n",
    "for i in range(3):\n",
    "  plt.matshow(digits.images[i])"
   ]
  },
  {
   "cell_type": "code",
   "execution_count": null,
   "metadata": {
    "id": "DCD6zhi55GR8"
   },
   "outputs": [],
   "source": []
  },
  {
   "cell_type": "markdown",
   "metadata": {
    "id": "XN1fYEfGidiD"
   },
   "source": [
    "## Pre-processing\n",
    "\n",
    "What features did you use or choose not to use? Why?\n",
    "\n",
    "If you have categorical labels, were your datasets class-balanced?\n",
    "\n",
    "How did you deal with missing data? What about outliers?\n",
    "\n",
    "What approach(es) did you use to pre-process your data? Why?\n",
    "\n",
    "Are your features continuous or categorical? How do you treat these features differently?"
   ]
  },
  {
   "cell_type": "markdown",
   "metadata": {
    "id": "k4jcAMnyK5sj"
   },
   "source": [
    "Answer:\n",
    "\n",
    "The digits dataset from sklearn is quite clean and balanced. There is no missing data. It was already pre-processed with\n",
    "normalization and dimension reduction. Therefore, we don't perform additional pre-processing steps, except for using PCA as a defense against adversarial examples in the methods section.\n"
   ]
  },
  {
   "cell_type": "code",
   "execution_count": null,
   "metadata": {
    "id": "1cDLEwhAx0gP"
   },
   "outputs": [],
   "source": []
  },
  {
   "cell_type": "markdown",
   "metadata": {
    "id": "tASjmmtjiwvu"
   },
   "source": [
    "# Models and Evaluation"
   ]
  },
  {
   "cell_type": "markdown",
   "metadata": {
    "id": "LlrwR9E1hnQ3"
   },
   "source": [
    "## Experimental Setup\n",
    "\n",
    "How did you evaluate your methods? Why is that a reasonable evaluation metric for the task?\n",
    "\n",
    "What did you use for your loss function to train your models? Did you try multiple loss functions? Why or why not?\n",
    "\n",
    "How did you split your data into train and test sets? Why?\n"
   ]
  },
  {
   "cell_type": "markdown",
   "metadata": {
    "id": "NscU4oeb53lj"
   },
   "source": [
    "Answer:\n",
    "\n",
    "Here we split the data into training and test. The digits dataset contains labels so we can evaluate on our test split. \n",
    "\n",
    "We use the SVM model, where the loss function is hinge loss."
   ]
  },
  {
   "cell_type": "code",
   "execution_count": null,
   "metadata": {
    "colab": {
     "base_uri": "https://localhost:8080/"
    },
    "executionInfo": {
     "elapsed": 554,
     "status": "ok",
     "timestamp": 1607919456919,
     "user": {
      "displayName": "Xuan Wu",
      "photoUrl": "",
      "userId": "16874546493228828062"
     },
     "user_tz": 300
    },
    "id": "K9xfPh2y5GR-",
    "outputId": "c0cb4e01-01b1-4d24-c6c5-8fd407372564"
   },
   "outputs": [
    {
     "name": "stdout",
     "output_type": "stream",
     "text": [
      "[0 1 2 3 4 5 6 7 8 9]\n",
      "(1437, 64) (360, 64)\n"
     ]
    }
   ],
   "source": [
    "from sklearn.model_selection import train_test_split\n",
    "X_train, X_test, y_train, y_test = train_test_split(digits.data, digits.target, test_size=0.2, stratify=digits.target)\n",
    "nb_classes = np.unique(y_train).shape[0]\n",
    "print(np.unique(y_train))\n",
    "print(X_train.shape, X_test.shape)"
   ]
  },
  {
   "cell_type": "markdown",
   "metadata": {
    "id": "oMyqHUa0jUw7"
   },
   "source": [
    "## Baselines \n",
    "\n",
    "What baselines did you compare against? Why are these reasonable?\n",
    "\n",
    "Did you look at related work to contextualize how others methods or baselines have performed on this dataset/task? If so, how did those methods do?"
   ]
  },
  {
   "cell_type": "code",
   "execution_count": null,
   "metadata": {
    "id": "Em1IlM4M5GR-",
    "scrolled": true
   },
   "outputs": [],
   "source": [
    "# Download ART\n",
    "!pip install adversarial-robustness-toolbox"
   ]
  },
  {
   "cell_type": "code",
   "execution_count": null,
   "metadata": {
    "id": "LZKCsWN05GR_"
   },
   "outputs": [],
   "source": [
    "from sklearn.svm import SVC\n",
    "from art.attacks.evasion import FastGradientMethod\n",
    "from art.estimators.classification import SklearnClassifier"
   ]
  },
  {
   "cell_type": "markdown",
   "metadata": {
    "id": "jDHQbfV45GR_"
   },
   "source": [
    "#### Baseline model 1: train, test data both intact"
   ]
  },
  {
   "cell_type": "code",
   "execution_count": null,
   "metadata": {
    "colab": {
     "base_uri": "https://localhost:8080/"
    },
    "executionInfo": {
     "elapsed": 369,
     "status": "ok",
     "timestamp": 1607919503455,
     "user": {
      "displayName": "Xuan Wu",
      "photoUrl": "",
      "userId": "16874546493228828062"
     },
     "user_tz": 300
    },
    "id": "_EjfMbVx5GR_",
    "outputId": "77ecf4b5-4ed5-45b9-d71d-7ef6bc17bc6e"
   },
   "outputs": [
    {
     "name": "stdout",
     "output_type": "stream",
     "text": [
      "Accuracy for unperturbed data: 98.61%\n"
     ]
    }
   ],
   "source": [
    "baseline1 = SVC(C=1.0, kernel=\"rbf\").fit(X_train, y_train)\n",
    "\n",
    "predictions = baseline1.predict(X_test)\n",
    "accuracy1 = np.sum(predictions == y_test) / len(y_test)\n",
    "print(\"Accuracy for unperturbed data: {:.2f}%\".format(accuracy1 * 100))"
   ]
  },
  {
   "cell_type": "markdown",
   "metadata": {
    "id": "U7iNRVzU5GR_"
   },
   "source": [
    "#### Baseline model 2: train data intact, test perturbed\n",
    "#### Baseline model 3: train data perturbed, test intact"
   ]
  },
  {
   "cell_type": "code",
   "execution_count": null,
   "metadata": {
    "id": "C_ZnFgbv5GSA"
   },
   "outputs": [],
   "source": [
    "# Create the ART classifier\n",
    "min_pixel_value = np.amin(X_train)\n",
    "max_pixel_value = np.amax(X_train)\n",
    "classifier = SklearnClassifier(model=baseline1, clip_values=(min_pixel_value, max_pixel_value))"
   ]
  },
  {
   "cell_type": "code",
   "execution_count": null,
   "metadata": {
    "id": "EdwtIO5L5GSA"
   },
   "outputs": [],
   "source": [
    "# Conduct Fast Gradient Attack on X with strengh epsilon\n",
    "def fgAttack(X, epsilon):\n",
    "    attack = FastGradientMethod(estimator=classifier, eps=epsilon)\n",
    "    X_adv = attack.generate(x=X)\n",
    "    return X_adv\n",
    "\n",
    "# Generate adversarial test examples\n",
    "X_test_adv = fgAttack(X_test, 3)\n",
    "\n",
    "# Generate adversarial train examples\n",
    "X_train_adv = fgAttack(X_train, 3)"
   ]
  },
  {
   "cell_type": "code",
   "execution_count": null,
   "metadata": {
    "colab": {
     "base_uri": "https://localhost:8080/"
    },
    "executionInfo": {
     "elapsed": 360,
     "status": "ok",
     "timestamp": 1607919559458,
     "user": {
      "displayName": "Xuan Wu",
      "photoUrl": "",
      "userId": "16874546493228828062"
     },
     "user_tz": 300
    },
    "id": "qCHB0ajY5GSA",
    "outputId": "3d82ab0c-f748-4f4d-e1fd-945d8d500006"
   },
   "outputs": [
    {
     "name": "stdout",
     "output_type": "stream",
     "text": [
      "Accuracy on adversarial test examples: 60.00%\n"
     ]
    }
   ],
   "source": [
    "# Baseline Accuracy 2: evaluate the original model on adversarial test examples\n",
    "predictions = baseline1.predict(X_test_adv)\n",
    "accuracy2 = np.sum(predictions == y_test) / len(y_test)\n",
    "print(\"Accuracy on adversarial test examples: {:.2f}%\".format(accuracy2 * 100))"
   ]
  },
  {
   "cell_type": "code",
   "execution_count": null,
   "metadata": {
    "colab": {
     "base_uri": "https://localhost:8080/"
    },
    "executionInfo": {
     "elapsed": 511,
     "status": "ok",
     "timestamp": 1607919561039,
     "user": {
      "displayName": "Xuan Wu",
      "photoUrl": "",
      "userId": "16874546493228828062"
     },
     "user_tz": 300
    },
    "id": "w2ZLNNzR5GSB",
    "outputId": "c1d5ac9c-a218-48c8-b778-6a839bbd0f64"
   },
   "outputs": [
    {
     "name": "stdout",
     "output_type": "stream",
     "text": [
      "Accuracy with adversarial training examples: 58.33%\n"
     ]
    }
   ],
   "source": [
    "# Baseline Accuracy 3: train model with adversarial examples\n",
    "baseline3 = SVC(C=1.0, kernel=\"rbf\").fit(X_train_adv, y_train)\n",
    "predictions = baseline3.predict(X_test)\n",
    "accuracy3 = np.sum(predictions == y_test) / len(y_test)\n",
    "print(\"Accuracy with adversarial training examples: {:.2f}%\".format(accuracy3 * 100))"
   ]
  },
  {
   "cell_type": "code",
   "execution_count": null,
   "metadata": {
    "id": "7CCTCqow9RsV"
   },
   "outputs": [],
   "source": []
  },
  {
   "cell_type": "markdown",
   "metadata": {
    "id": "PqB48IF9kMBf"
   },
   "source": [
    "## Methods\n",
    "\n",
    "What methods did you choose? Why did you choose them?\n",
    "\n",
    "How did you train these methods, and how did you evaluate them? Why?\n",
    "\n",
    "Which methods were easy/difficult to implement and train? Why?\n",
    "\n",
    "For each method, what hyperparameters did you evaluate? How sensitive was your model's performance to different hyperparameter settings?"
   ]
  },
  {
   "cell_type": "markdown",
   "metadata": {
    "id": "DldIcRty7UeH"
   },
   "source": [
    "Answer:\n",
    "\n",
    "We used four methods as different ways to defend adversarial attacks: PCA, data sharpening, data augmentation, and iterative learning. These methods are able to perform defenses in different ways to increase model robustness. The following sections describe them in detail."
   ]
  },
  {
   "cell_type": "markdown",
   "metadata": {
    "id": "JC51MxwHHWsG"
   },
   "source": [
    "### Data Transformation (PCA)"
   ]
  },
  {
   "cell_type": "code",
   "execution_count": 101,
   "metadata": {
    "executionInfo": {
     "elapsed": 248,
     "status": "ok",
     "timestamp": 1607920212220,
     "user": {
      "displayName": "Chenyu Zhang",
      "photoUrl": "",
      "userId": "14046685120809171565"
     },
     "user_tz": 300
    },
    "id": "GKk3O4gJkmf1"
   },
   "outputs": [],
   "source": [
    "from sklearn.decomposition import PCA"
   ]
  },
  {
   "cell_type": "code",
   "execution_count": 102,
   "metadata": {
    "colab": {
     "base_uri": "https://localhost:8080/"
    },
    "executionInfo": {
     "elapsed": 342,
     "status": "ok",
     "timestamp": 1607920212322,
     "user": {
      "displayName": "Chenyu Zhang",
      "photoUrl": "",
      "userId": "14046685120809171565"
     },
     "user_tz": 300
    },
    "id": "msRDFVm74Tp8",
    "outputId": "dfd1bca5-5f0c-4f64-964b-85f9466bc9fd"
   },
   "outputs": [
    {
     "data": {
      "text/plain": [
       "((1437, 64), (360, 64), (1437,), (360,))"
      ]
     },
     "execution_count": 102,
     "metadata": {
      "tags": []
     },
     "output_type": "execute_result"
    }
   ],
   "source": [
    "X_train.shape, X_test.shape, y_train.shape, y_test.shape"
   ]
  },
  {
   "cell_type": "markdown",
   "metadata": {
    "id": "xek0pY0Q2TEZ"
   },
   "source": [
    "#### Baseline -- No perturbation on train/test with PCA"
   ]
  },
  {
   "cell_type": "code",
   "execution_count": 103,
   "metadata": {
    "colab": {
     "base_uri": "https://localhost:8080/"
    },
    "executionInfo": {
     "elapsed": 645,
     "status": "ok",
     "timestamp": 1607920212630,
     "user": {
      "displayName": "Chenyu Zhang",
      "photoUrl": "",
      "userId": "14046685120809171565"
     },
     "user_tz": 300
    },
    "id": "cp6F1W3D2ShY",
    "outputId": "5ea2e088-b62b-4da1-e6c8-52eaea4c80df"
   },
   "outputs": [
    {
     "name": "stdout",
     "output_type": "stream",
     "text": [
      "Accuracy on PCA intact-test examples: 98.89%\n"
     ]
    }
   ],
   "source": [
    "pca = PCA(n_components=25)\n",
    "pca.fit(X_train)\n",
    "pca_X_train = pca.transform(X_train)\n",
    "pca_X_test = pca.transform(X_test)\n",
    "\n",
    "model = SVC(C=1.0, kernel=\"rbf\").fit(pca_X_train, y_train)\n",
    "y_pred = model.predict(pca_X_test)\n",
    "accuracy = np.sum(y_pred == y_test) / len(y_test)\n",
    "print(\"Accuracy on PCA intact-test examples: {:.2f}%\".format(accuracy * 100))"
   ]
  },
  {
   "cell_type": "markdown",
   "metadata": {
    "id": "VVv_ROXZ2ZP8"
   },
   "source": [
    "#### Baseline -- PCA then perturbation on train/test"
   ]
  },
  {
   "cell_type": "code",
   "execution_count": 104,
   "metadata": {
    "colab": {
     "base_uri": "https://localhost:8080/"
    },
    "executionInfo": {
     "elapsed": 43921,
     "status": "ok",
     "timestamp": 1607920255910,
     "user": {
      "displayName": "Chenyu Zhang",
      "photoUrl": "",
      "userId": "14046685120809171565"
     },
     "user_tz": 300
    },
    "id": "tOJzjAhV4Ty0",
    "outputId": "4dc23776-d182-4e17-b028-e38f1046c4bd"
   },
   "outputs": [
    {
     "name": "stdout",
     "output_type": "stream",
     "text": [
      "Accuracy on PCA-then-perturbed-test examples: 59.17%\n",
      "Accuracy on PCA-then-perturbed-train examples: 61.39%\n"
     ]
    }
   ],
   "source": [
    "pca = PCA(n_components=20)\n",
    "pca.fit(X_train)\n",
    "X_test_adv = fgAttack(X_test, 3)\n",
    "pca_X_train = pca.transform(X_train)\n",
    "pca_X_test = pca.transform(X_test_adv)\n",
    "model = SVC(C=1.0, kernel=\"rbf\").fit(pca_X_train, y_train)\n",
    "y_pred = model.predict(pca_X_test)\n",
    "accuracy_pca_test = np.sum(y_pred == y_test) / len(y_test)\n",
    "print(\"Accuracy on PCA-then-perturbed-test examples: {:.2f}%\".format(accuracy_pca_test * 100))\n",
    "\n",
    "X_train_adv = fgAttack(X_train, 3)\n",
    "pca_X_train = pca.transform(X_train_adv)\n",
    "pca_X_test = pca.transform(X_test)\n",
    "model = SVC(C=1.0, kernel=\"rbf\").fit(pca_X_train, y_train)\n",
    "y_pred = model.predict(pca_X_test)\n",
    "accuracy_pca_train = np.sum(y_pred == y_test) / len(y_test)\n",
    "print(\"Accuracy on PCA-then-perturbed-train examples: {:.2f}%\".format(accuracy_pca_train * 100))"
   ]
  },
  {
   "cell_type": "markdown",
   "metadata": {
    "id": "mRNyzTS1_omG"
   },
   "source": [
    "#### PCA AFTER ATTACK"
   ]
  },
  {
   "cell_type": "code",
   "execution_count": 105,
   "metadata": {
    "colab": {
     "base_uri": "https://localhost:8080/"
    },
    "executionInfo": {
     "elapsed": 43918,
     "status": "ok",
     "timestamp": 1607920255911,
     "user": {
      "displayName": "Chenyu Zhang",
      "photoUrl": "",
      "userId": "14046685120809171565"
     },
     "user_tz": 300
    },
    "id": "rZ09Qyur4kQh",
    "outputId": "8b8bd5dc-40a3-464b-99ad-5c426c9f93cc"
   },
   "outputs": [
    {
     "name": "stdout",
     "output_type": "stream",
     "text": [
      "Accuracy on adversarial-test-then-PCA examples: 59.17%\n"
     ]
    }
   ],
   "source": [
    "pca = PCA(n_components=20)\n",
    "pca.fit(X_train)\n",
    "pca_X_train = pca.transform(X_train)\n",
    "pca_X_test = pca.transform(X_test_adv)\n",
    "\n",
    "model = SVC(C=1.0, kernel=\"rbf\").fit(pca_X_train, y_train)\n",
    "predictions = model.predict(pca_X_test)\n",
    "accuracy_test_PCA = np.sum(predictions == y_test) / len(y_test)\n",
    "print(\"Accuracy on adversarial-test-then-PCA examples: {:.2f}%\".format(accuracy_test_PCA * 100))"
   ]
  },
  {
   "cell_type": "code",
   "execution_count": 106,
   "metadata": {
    "colab": {
     "base_uri": "https://localhost:8080/"
    },
    "executionInfo": {
     "elapsed": 44170,
     "status": "ok",
     "timestamp": 1607920256169,
     "user": {
      "displayName": "Chenyu Zhang",
      "photoUrl": "",
      "userId": "14046685120809171565"
     },
     "user_tz": 300
    },
    "id": "c22JbtB54kNP",
    "outputId": "5960fb3a-7d5b-4c23-b716-57fd8fd4009a"
   },
   "outputs": [
    {
     "name": "stdout",
     "output_type": "stream",
     "text": [
      "Accuracy on adversarial-train-then-PCA examples: 78.33%\n"
     ]
    }
   ],
   "source": [
    "pca = PCA(n_components=20)\n",
    "pca.fit(X_train_adv)\n",
    "pca_X_train = pca.transform(X_train_adv)\n",
    "pca_X_test = pca.transform(X_test)\n",
    "\n",
    "model = SVC(C=1.0, kernel=\"rbf\").fit(pca_X_train, y_train)\n",
    "predictions = model.predict(pca_X_test)\n",
    "accuracy_train_PCA = np.sum(predictions == y_test) / len(y_test)\n",
    "print(\"Accuracy on adversarial-train-then-PCA examples: {:.2f}%\".format(accuracy_train_PCA * 100))"
   ]
  },
  {
   "cell_type": "markdown",
   "metadata": {
    "id": "iusCKATR9jzJ"
   },
   "source": [
    "According to the literature, PCA can protect against adversarial attacks. PCA can remove the features (principal axes) with low variance, which has high coefficients and thus are targeted by adversarial attack methods. These methods aim to use the minimum amount of perturbation to cause a switch in class prediction, and thus by removing low-variant axes, attackers have to work with axes with low coefficients. This means that more perturbations have to be exerted to invoke a change in class label prediction.\n",
    "\n",
    "However, we see that applying dimensionality reduction via PCA onto the whole dataset (fitted on the training set) only positively benefits if the attack (perturbation) is exerted onto the testing set. The accuracy is even lower if the training set is perturbed (see that accuracy dropped from 60.83% to 55.56%). We think this might be that PCA removed too much useful information during the training phase.\n",
    "\n",
    "Meanwhile, we see that PCA, as a form of regularization method, could remove much of the noises and thus promote an increase in accuracy from (60.83% to 80.28%).\n",
    "\n",
    "We acknowledge that this result is greatly influenced by the train-test split, for the level of improvement is not always this obvious (although the trend is about the same as this)."
   ]
  },
  {
   "cell_type": "markdown",
   "metadata": {
    "id": "EuEZxYowIyuQ"
   },
   "source": [
    "### Sharpening\n",
    "\n",
    "By looking at the image view, we see some pattern of the attack: some dark pixels are brightened and some white pixels are darkened. This can influences the dataset most at the edge.  If the edge of the handwritten digits is blurred, the task may look confusing for a naive SVM.\n",
    "\n",
    "One intuitive approach isa to simply reverse this process and try to recover the intact dataset. In specific, we darken the mid-dark pixels and brighten the mid-bright pixel. This process should recover the high contrast of the original image that may be affected by the attack. Pixels below the distribution mean of an image is considered as dark`dark_pixel`, while pixels above are considered as `light_pixel`. \n",
    "\n",
    "How much we make adjustment to each pixel is determined by its position in the pixel-value distribution (i.e. its standardized distance to the distribution mean.) The default adjustment to each pixel is `0.4 * std`, where 0.4 is a hyperparameter. In addition, the adjustment is further scaled by the inverse of a pixel value's distance to the mean. Intuitively, we only want to recover those misleading **grey** pixels. The extremely dark/light pixels in the \n",
    "original image may affect the prediction less since the slight shift of those pixels still preserve the high contrast that makes the white digit stand out from the background. Therefore, we don't want to put too much force on those already dark/bright enough pixels."
   ]
  },
  {
   "cell_type": "code",
   "execution_count": null,
   "metadata": {
    "id": "ZoKbkAS5I6YT"
   },
   "outputs": [],
   "source": [
    "def sharpen(X, scale=0.4):\n",
    "    X_new = np.zeros(X.shape)\n",
    "    for i, x in enumerate(X): # x=single image\n",
    "        mean = np.mean(x)\n",
    "        std = np.std(x)\n",
    "        # select dark/bright pixels' indices\n",
    "        dark_pixle = np.where((x < (mean - 0.5*std)) & (x > mean - std))[0]\n",
    "        light_pixle = np.where((x > mean + 0.5*std) & (x < mean + std))[0]\n",
    "        # adjustment on pixel value scaled by (1) hyperparameter \"scale\" and (2) the inverse of standardized distance\n",
    "        distance = np.abs((x - mean) / std)\n",
    "        X_new[i] = X[i]\n",
    "        # darken mid-dark pixels and brighten mid-bright pixels\n",
    "        X_new[i][dark_pixle] -= scale * std  / distance[dark_pixle]\n",
    "        X_new[i][light_pixle] += scale * std / distance[light_pixle]\n",
    "    return X_new"
   ]
  },
  {
   "cell_type": "markdown",
   "metadata": {
    "id": "-Z8JiJOpI9Aa"
   },
   "source": [
    "#### Robust Testing: \n",
    "\n",
    "(where Train intact, Test perturbed)\n",
    "\n",
    "We perform sharpening on the perturbed test data and see how this method can improve the accuracy, compared to baseline 2, where the SVM predicts from unsharpened data."
   ]
  },
  {
   "cell_type": "code",
   "execution_count": null,
   "metadata": {
    "colab": {
     "base_uri": "https://localhost:8080/"
    },
    "executionInfo": {
     "elapsed": 373,
     "status": "ok",
     "timestamp": 1607915524604,
     "user": {
      "displayName": "Chenyu Zhang",
      "photoUrl": "",
      "userId": "14046685120809171565"
     },
     "user_tz": 300
    },
    "id": "zqXyD8pHI-rG",
    "outputId": "1ccbbdbb-468f-4f74-ff44-3de39621f326"
   },
   "outputs": [
    {
     "name": "stdout",
     "output_type": "stream",
     "text": [
      "Accuracy: 63.06%\n"
     ]
    }
   ],
   "source": [
    "X_test_adv_sharpen = sharpen(X_test_adv)\n",
    "y_pred_sharpen = baseline1.predict(X_test_adv_sharpen)\n",
    "accuracy2_sharpen = np.sum(y_pred_sharpen == y_test) / len(y_test)\n",
    "print(\"Accuracy: {:.2f}%\".format(accuracy2_sharpen * 100))"
   ]
  },
  {
   "cell_type": "markdown",
   "metadata": {
    "id": "L4NISqTnJAM3"
   },
   "source": [
    "#### Robust Training: \n",
    "\n",
    "(where Train perturbed, Test intact)\n",
    "\n",
    "We perform sharpening on the perturbed test data and see how this method can improve the accuracy, compared to baseline 2, where the SVM predicts from unsharpened data."
   ]
  },
  {
   "cell_type": "code",
   "execution_count": null,
   "metadata": {
    "colab": {
     "base_uri": "https://localhost:8080/"
    },
    "executionInfo": {
     "elapsed": 843,
     "status": "ok",
     "timestamp": 1607915525077,
     "user": {
      "displayName": "Chenyu Zhang",
      "photoUrl": "",
      "userId": "14046685120809171565"
     },
     "user_tz": 300
    },
    "id": "AwVWAgBmJB9k",
    "outputId": "8f692407-7971-40dc-c265-e350b5d4b845"
   },
   "outputs": [
    {
     "name": "stdout",
     "output_type": "stream",
     "text": [
      "Accuracy: 94.17%\n"
     ]
    }
   ],
   "source": [
    "X_train_adv_sharpen = sharpen(X_train_adv)\n",
    "\n",
    "model_adv_sharpen = SVC(C=1.0, kernel=\"rbf\").fit(X_train_adv_sharpen, y_train)\n",
    "\n",
    "y_pred_sharpen = model_adv_sharpen.predict(X_test)\n",
    "accuracy3_sharpen = np.sum(y_pred_sharpen == y_test) / len(y_test)\n",
    "print(\"Accuracy: {:.2f}%\".format(accuracy3_sharpen * 100))"
   ]
  },
  {
   "cell_type": "markdown",
   "metadata": {
    "id": "pf8jnQ8l67mO"
   },
   "source": [
    "### Data Augmentation / Adversarial Training\n",
    "\n",
    "Reference: Valentina Zantedeschi, Maria-Irina Nicolae, Ambrish Rawat, Efficient Defenses Against Adversarial Attacks, 2017. https://arxiv.org/pdf/1707.06728.pdf section 3.2"
   ]
  },
  {
   "cell_type": "markdown",
   "metadata": {
    "id": "JvFMmXjmVZns"
   },
   "source": [
    "For each original data point x, add:\n",
    "#### 1. Perturbed example drawn from a Multivariate Gaussian distribution centered at x, with random covariance matrix"
   ]
  },
  {
   "cell_type": "code",
   "execution_count": null,
   "metadata": {
    "id": "hFUh1xVRHYB6"
   },
   "outputs": [],
   "source": [
    "from sklearn.datasets import make_spd_matrix\n",
    "\n",
    "# Returns training data augmented with Gaussians\n",
    "def getGaussianTrain(X_train):\n",
    "    cov = make_spd_matrix(X_train.shape[1]) * 2  # random symmetric positive definite matrix as covariance\n",
    "    X_train_gaus = []\n",
    "    for i, x in enumerate(X_train):\n",
    "        x_gaus = np.random.multivariate_normal(x, cov, 1)[0]\n",
    "        X_train_gaus.append(x_gaus)\n",
    "\n",
    "    X_train_gaus = np.concatenate((X_train, X_train_gaus), axis=0)\n",
    "    y_train_gaus = np.concatenate((y_train, y_train))\n",
    "    X_train_gaus.shape, y_train_gaus.shape\n",
    "    return X_train_gaus, y_train_gaus"
   ]
  },
  {
   "cell_type": "code",
   "execution_count": null,
   "metadata": {
    "id": "gPF3vH98NleF"
   },
   "outputs": [],
   "source": [
    "def trainSVM(X_train, y_train, X_test, y_test):\n",
    "    model = SVC(C=1.0, kernel=\"rbf\").fit(X_train, y_train)\n",
    "    predictions = model.predict(X_test)\n",
    "    accuracy = np.sum(predictions == y_test) / len(y_test)\n",
    "    print(\"Accuracy on test examples: {}%\".format(accuracy * 100))\n",
    "    return model"
   ]
  },
  {
   "cell_type": "code",
   "execution_count": null,
   "metadata": {
    "colab": {
     "base_uri": "https://localhost:8080/"
    },
    "executionInfo": {
     "elapsed": 3887,
     "status": "ok",
     "timestamp": 1607911519246,
     "user": {
      "displayName": "Chenyu Zhang",
      "photoUrl": "",
      "userId": "14046685120809171565"
     },
     "user_tz": 300
    },
    "id": "ep7G2DoYN6TC",
    "outputId": "a1d6a71b-5970-4400-c93f-7420943bcf9d"
   },
   "outputs": [
    {
     "name": "stdout",
     "output_type": "stream",
     "text": [
      "Accuracy on test examples: 51.94444444444445%\n"
     ]
    }
   ],
   "source": [
    "# Gaussian augmentation for intact training data\n",
    "X_train_gaus, y_train_gaus = getGaussianTrain(X_train)\n",
    "gaussianModel2 = trainSVM(X_train_gaus, y_train_gaus, X_test_adv, y_test)"
   ]
  },
  {
   "cell_type": "code",
   "execution_count": null,
   "metadata": {
    "colab": {
     "base_uri": "https://localhost:8080/",
     "height": 533
    },
    "executionInfo": {
     "elapsed": 521,
     "status": "ok",
     "timestamp": 1607911633937,
     "user": {
      "displayName": "Chenyu Zhang",
      "photoUrl": "",
      "userId": "14046685120809171565"
     },
     "user_tz": 300
    },
    "id": "f3RSjZjk_q6I",
    "outputId": "dd7168fc-c653-473d-8821-0c7c47304506"
   },
   "outputs": [
    {
     "data": {
      "image/png": "[encoded data removed]",
      "text/plain": [
       "<Figure size 288x288 with 1 Axes>"
      ]
     },
     "metadata": {
      "needs_background": "light",
      "tags": []
     },
     "output_type": "display_data"
    },
    {
     "data": {
      "image/png": "[encoded data removed]",
      "text/plain": [
       "<Figure size 288x288 with 1 Axes>"
      ]
     },
     "metadata": {
      "needs_background": "light",
      "tags": []
     },
     "output_type": "display_data"
    }
   ],
   "source": [
    "# Example image before and after Gaussian augmentation\n",
    "img = X_train[0]\n",
    "plt.matshow(img.reshape(8, 8)) \n",
    "\n",
    "img = X_train_gaus[len(X_train)]\n",
    "plt.matshow(img.reshape(8, 8))\n",
    "plt.show()"
   ]
  },
  {
   "cell_type": "code",
   "execution_count": null,
   "metadata": {
    "colab": {
     "base_uri": "https://localhost:8080/"
    },
    "executionInfo": {
     "elapsed": 4127,
     "status": "ok",
     "timestamp": 1607911674463,
     "user": {
      "displayName": "Chenyu Zhang",
      "photoUrl": "",
      "userId": "14046685120809171565"
     },
     "user_tz": 300
    },
    "id": "ufwHHUiBOMM8",
    "outputId": "f992480e-d91d-42db-e57e-820964c53ad6"
   },
   "outputs": [
    {
     "name": "stdout",
     "output_type": "stream",
     "text": [
      "Accuracy on test examples: 90.27777777777779%\n"
     ]
    }
   ],
   "source": [
    "# Gaussian augmentation for perturbed training data\n",
    "X_train_gaus, y_train_gaus = getGaussianTrain(X_train_adv)\n",
    "gaussianModel3 = trainSVM(X_train_gaus, y_train_gaus, X_test, y_test)"
   ]
  },
  {
   "cell_type": "markdown",
   "metadata": {
    "id": "ZTg6fq4PVecC"
   },
   "source": [
    "#### 2. Adversarial examples crafted with Jacobian Saliency Method (JS)\n",
    "\n",
    "Only 100 examples are created and concatenated because they take a long time to generate. We load them from saved .npy files. Generation code can be found in the original notebook on github."
   ]
  },
  {
   "cell_type": "code",
   "execution_count": null,
   "metadata": {
    "colab": {
     "base_uri": "https://localhost:8080/"
    },
    "executionInfo": {
     "elapsed": 31008,
     "status": "ok",
     "timestamp": 1607911927847,
     "user": {
      "displayName": "Chenyu Zhang",
      "photoUrl": "",
      "userId": "14046685120809171565"
     },
     "user_tz": 300
    },
    "id": "dF6qZIO4eb94",
    "outputId": "4ff8449c-4bef-4f14-ab3e-e38425a3c222"
   },
   "outputs": [
    {
     "name": "stdout",
     "output_type": "stream",
     "text": [
      "Mounted at /content/drive\n"
     ]
    }
   ],
   "source": [
    "from google.colab import drive\n",
    "drive.mount('/content/drive')"
   ]
  },
  {
   "cell_type": "code",
   "execution_count": null,
   "metadata": {
    "id": "px3c7L64egPi"
   },
   "outputs": [],
   "source": [
    "dir = '/content/drive/My Drive/ml_project/'"
   ]
  },
  {
   "cell_type": "code",
   "execution_count": null,
   "metadata": {
    "id": "jXUtxfV2tgw3"
   },
   "outputs": [],
   "source": [
    "def getJsTrain(X_train, y_train):\n",
    "    # load the 100 adverse examples\n",
    "    X_train_jsma = np.load(dir + 'X_train_jsma.npy')\n",
    "    y_train_jsma = np.load(dir + 'y_train_jsma.npy')\n",
    "\n",
    "    X_train_jsma = np.concatenate((X_train, X_train_jsma), axis=0)\n",
    "    y_train_jsma = np.concatenate((y_train, y_train_jsma))\n",
    "    return X_train_jsma, y_train_jsma"
   ]
  },
  {
   "cell_type": "code",
   "execution_count": null,
   "metadata": {
    "colab": {
     "base_uri": "https://localhost:8080/"
    },
    "executionInfo": {
     "elapsed": 449,
     "status": "ok",
     "timestamp": 1607912175068,
     "user": {
      "displayName": "Chenyu Zhang",
      "photoUrl": "",
      "userId": "14046685120809171565"
     },
     "user_tz": 300
    },
    "id": "RyXpGZI28zJH",
    "outputId": "62bca5ad-029a-4809-9c2b-e78458046f62"
   },
   "outputs": [
    {
     "name": "stdout",
     "output_type": "stream",
     "text": [
      "Accuracy on test examples: 55.55555555555556%\n"
     ]
    }
   ],
   "source": [
    "X_train_jsma, y_train_jsma = getJsTrain(X_train, y_train)\n",
    "modelJs2 = trainSVM(X_train_jsma, y_train_jsma, X_test_adv, y_test)"
   ]
  },
  {
   "cell_type": "code",
   "execution_count": null,
   "metadata": {
    "colab": {
     "base_uri": "https://localhost:8080/"
    },
    "executionInfo": {
     "elapsed": 496,
     "status": "ok",
     "timestamp": 1607912175372,
     "user": {
      "displayName": "Chenyu Zhang",
      "photoUrl": "",
      "userId": "14046685120809171565"
     },
     "user_tz": 300
    },
    "id": "fx_CFhUFOeZ3",
    "outputId": "53d7ea77-683f-43e0-e48b-803345c65dc7"
   },
   "outputs": [
    {
     "name": "stdout",
     "output_type": "stream",
     "text": [
      "Accuracy on test examples: 84.16666666666667%\n"
     ]
    }
   ],
   "source": [
    "X_train_jsma, y_train_jsma = getJsTrain(X_train_adv, y_train)\n",
    "modelJs3 = trainSVM(X_train_jsma, y_train_jsma, X_test, y_test)"
   ]
  },
  {
   "cell_type": "markdown",
   "metadata": {
    "id": "TUTmJ_ZatS15"
   },
   "source": [
    "#### 3. Adversarial example crafted with Fast Gradient Method (FG)\n"
   ]
  },
  {
   "cell_type": "code",
   "execution_count": null,
   "metadata": {
    "id": "GL53v2D3W81F"
   },
   "outputs": [],
   "source": [
    "def getFsTrain(X_train, y_train):\n",
    "    attack_fgsm = FastGradientMethod(estimator=classifier, eps=1)\n",
    "    X_train_fgsm = attack_fgsm.generate(x=X_train_adv)\n",
    "\n",
    "    X_train_fgsm = np.concatenate((X_train, X_train_fgsm), axis=0)\n",
    "    y_train_fgsm = np.concatenate((y_train, y_train))\n",
    "    return X_train_fgsm, y_train_fgsm"
   ]
  },
  {
   "cell_type": "code",
   "execution_count": null,
   "metadata": {
    "colab": {
     "base_uri": "https://localhost:8080/"
    },
    "executionInfo": {
     "elapsed": 36640,
     "status": "ok",
     "timestamp": 1607913179474,
     "user": {
      "displayName": "Chenyu Zhang",
      "photoUrl": "",
      "userId": "14046685120809171565"
     },
     "user_tz": 300
    },
    "id": "M2KQNoAI_CXN",
    "outputId": "4125485b-0a90-4c4f-fb56-afef8dca746b"
   },
   "outputs": [
    {
     "name": "stdout",
     "output_type": "stream",
     "text": [
      "Accuracy on test examples: 98.61111111111111%\n"
     ]
    }
   ],
   "source": [
    "X_train_fgsm, y_train_fgsm = getFsTrain(X_train, y_train)\n",
    "modelFg2 = trainSVM(X_train_fgsm, y_train_fgsm, X_test_adv, y_test)"
   ]
  },
  {
   "cell_type": "code",
   "execution_count": null,
   "metadata": {
    "colab": {
     "base_uri": "https://localhost:8080/"
    },
    "executionInfo": {
     "elapsed": 72560,
     "status": "ok",
     "timestamp": 1607913215803,
     "user": {
      "displayName": "Chenyu Zhang",
      "photoUrl": "",
      "userId": "14046685120809171565"
     },
     "user_tz": 300
    },
    "id": "Y0qgsI6QOxEJ",
    "outputId": "a3e2cc6b-e87f-4d6f-b940-1bb6b817a3c7"
   },
   "outputs": [
    {
     "name": "stdout",
     "output_type": "stream",
     "text": [
      "Accuracy on test examples: 59.44444444444444%\n"
     ]
    }
   ],
   "source": [
    "X_train_fgsm, y_train_fgsm = getFsTrain(X_train_adv, y_train)\n",
    "modelFg3 = trainSVM(X_train_fgsm, y_train_fgsm, X_test, y_test)"
   ]
  },
  {
   "cell_type": "markdown",
   "metadata": {
    "id": "YKcqJixGJnF1"
   },
   "source": [
    "### Training SVM on attacked data set"
   ]
  },
  {
   "cell_type": "markdown",
   "metadata": {
    "id": "5HpjaeGTKDN1"
   },
   "source": [
    "Method: Iteratively train SVM on the data set. Each time, based on current \n",
    "hypothesis, we remove a certain percent of data and train SVM on the rest of data. Our performance should be comparable to the baseline.\n",
    "\n",
    "In details: We set up two parameters p and q, the probability for removing a mis-labeled/correctly"
   ]
  },
  {
   "cell_type": "code",
   "execution_count": null,
   "metadata": {
    "colab": {
     "base_uri": "https://localhost:8080/"
    },
    "executionInfo": {
     "elapsed": 2458,
     "status": "ok",
     "timestamp": 1607919631555,
     "user": {
      "displayName": "Xuan Wu",
      "photoUrl": "",
      "userId": "16874546493228828062"
     },
     "user_tz": 300
    },
    "id": "5K-eSsp7xIWh",
    "outputId": "f42386cb-9ea9-45f0-e0f4-af2867e8595d"
   },
   "outputs": [
    {
     "name": "stdout",
     "output_type": "stream",
     "text": [
      "Accuracy on train examples: 99.79123173277662%\n",
      "Accuracy on train examples: 99.16492693110646%\n",
      "Accuracy on train examples: 99.23451635351427%\n",
      "Accuracy on train examples: 99.02574808629089%\n",
      "Accuracy on train examples: 98.67780097425192%\n",
      "Accuracy on train examples: 98.46903270702853%\n",
      "Accuracy on train examples: 99.37369519832986%\n",
      "Accuracy on train examples: 99.44328462073764%\n",
      "Accuracy on train examples: 99.09533750869868%\n",
      "Accuracy on train examples: 99.02574808629089%\n",
      "(882, 64)\n",
      "Accuracy on test examples: 64.44444444444444%\n"
     ]
    }
   ],
   "source": [
    "import random\n",
    "\n",
    "def trainSVMiter(X_train,y_train,X_test,y_test,R=10,prop=5):\n",
    "  X_train_guess=X_train\n",
    "  y_train_guess=y_train\n",
    "  for _ in range(R):\n",
    "  # rank the mis-classified samples and remove some of them. \n",
    "    model=SVC(C=1.0, kernel=\"rbf\").fit(X_train_guess, y_train_guess)\n",
    "    raws=[]\n",
    "    predictions = model.predict(X_train)\n",
    "    accuracy = np.sum(predictions == y_train) / len(y_train)\n",
    "    print(\"Accuracy on train examples: {}%\".format(accuracy * 100))\n",
    "    for i in range(len(y_train)):\n",
    "      if predictions[i]!=y_train[i]:\n",
    "        if random.randint(1, 10)>=prop:\n",
    "          raws.append(i)\n",
    "      \n",
    "      else:\n",
    "        if random.randint(1, 10)>=7:\n",
    "          raws.append(i)\n",
    "      \n",
    "    X_train_guess=X_train\n",
    "    y_train_guess=y_train\n",
    "    X_train_guess=np.delete(X_train_guess,raws,axis=0)\n",
    "    y_train_guess=np.delete(y_train_guess,raws,axis=0)\n",
    "  print(X_train_guess.shape)\n",
    "  predictions = model.predict(X_test)\n",
    "  accuracy = np.sum(predictions == y_test) / len(y_test)\n",
    "  print(\"Accuracy on test examples: {}%\".format(accuracy * 100))\n",
    "\n",
    "trainSVMiter(X_train_adv, y_train, X_test, y_test)"
   ]
  },
  {
   "cell_type": "markdown",
   "metadata": {
    "id": "TDhacftcfP0O"
   },
   "source": [
    "This improves upon our baseline3."
   ]
  },
  {
   "cell_type": "markdown",
   "metadata": {
    "id": "_Zdp4_H-kx8H"
   },
   "source": [
    "## Results\n",
    "\n",
    "Show tables comparing your methods to the baselines.\n",
    "\n",
    "What about these results surprised you? Why?\n",
    "\n",
    "Did your models over- or under-fit? How can you tell? What did you do to address these issues?\n",
    "\n",
    "What does the evaluation of your trained models tell you about your data? How do you expect these models might behave differently on different data?  "
   ]
  },
  {
   "cell_type": "markdown",
   "metadata": {
    "id": "N1Y3GdcvUkpT"
   },
   "source": [
    "### PCA"
   ]
  },
  {
   "cell_type": "code",
   "execution_count": 108,
   "metadata": {
    "colab": {
     "base_uri": "https://localhost:8080/",
     "height": 426
    },
    "executionInfo": {
     "elapsed": 576,
     "status": "ok",
     "timestamp": 1607920303240,
     "user": {
      "displayName": "Chenyu Zhang",
      "photoUrl": "",
      "userId": "14046685120809171565"
     },
     "user_tz": 300
    },
    "id": "BJpwvcaC2EOk",
    "outputId": "5b26f9b8-f093-4bc6-d04b-afd58edd9603"
   },
   "outputs": [
    {
     "data": {
      "image/png": "[encoded data removed]",
      "text/plain": [
       "<Figure size 936x432 with 2 Axes>"
      ]
     },
     "metadata": {
      "needs_background": "light",
      "tags": []
     },
     "output_type": "display_data"
    }
   ],
   "source": [
    "import matplotlib.pyplot as plt\n",
    "%matplotlib inline\n",
    "\n",
    "x = ['No PCA', 'PCA Before Attack', 'PCA After Attack']\n",
    "accuracy1_array = [accuracy2, accuracy_pca_test, accuracy_test_PCA]\n",
    "accuracy2_array = [accuracy3, accuracy_pca_train, accuracy_train_PCA]\n",
    "\n",
    "x_pos = range(3)\n",
    "\n",
    "fig, ax = plt.subplots(1,2,figsize=(13,6))\n",
    "\n",
    "ax[0].bar(x_pos, accuracy1_array)\n",
    "ax[0].set_xticks(x_pos)\n",
    "ax[0].set_xticklabels(x)\n",
    "ax[0].set_ylim([0,1])\n",
    "ax[0].axhline(y=accuracy1, c='r')\n",
    "ax[0].set_title(\"Robust Prediction\")\n",
    "ax[0].set_ylabel(\"Accuracy on Test set\")\n",
    "\n",
    "ax[0].set_yticks([0, 0.2, 0.4, 0.6, 0.8, accuracy1])\n",
    "ax[0].set_yticklabels(['0', '0.2', '0.4', '0.6', '0.8', 'All intact'])\n",
    "\n",
    "ax[1].bar(x_pos, accuracy2_array)\n",
    "ax[1].set_xticks(x_pos)\n",
    "ax[1].set_xticklabels(x)\n",
    "ax[1].set_ylim([0,1])\n",
    "ax[1].axhline(y=accuracy1, c='r')\n",
    "ax[1].set_title(\"Robust Training\")\n",
    "\n",
    "for i, pos in enumerate(x_pos):\n",
    "    ax[0].text(pos-0.25, accuracy1_array[i] + 0.01, f\"{accuracy1_array[i]*100:.2f}%\")\n",
    "    ax[1].text(pos-0.25, accuracy2_array[i] + 0.01, f\"{accuracy2_array[i]*100:.2f}%\")\n",
    "\n",
    "plt.suptitle(\"Dimension Reductions\", y=1)\n",
    "plt.show()"
   ]
  },
  {
   "cell_type": "markdown",
   "metadata": {
    "id": "VEx7oyWxUoAp"
   },
   "source": [
    "### Sharpenining"
   ]
  },
  {
   "cell_type": "markdown",
   "metadata": {
    "id": "YCOpdKxpJD4R"
   },
   "source": [
    "#### Plot Results Against Baselines"
   ]
  },
  {
   "cell_type": "code",
   "execution_count": null,
   "metadata": {
    "colab": {
     "base_uri": "https://localhost:8080/",
     "height": 426
    },
    "executionInfo": {
     "elapsed": 607,
     "status": "ok",
     "timestamp": 1607916795655,
     "user": {
      "displayName": "Chenyu Zhang",
      "photoUrl": "",
      "userId": "14046685120809171565"
     },
     "user_tz": 300
    },
    "id": "S5LV8vb3JFeW",
    "outputId": "c724757b-98f9-4ed2-84d7-28c64654f47e"
   },
   "outputs": [
    {
     "data": {
      "image/png": "[encoded data removed]",
      "text/plain": [
       "<Figure size 936x432 with 2 Axes>"
      ]
     },
     "metadata": {
      "needs_background": "light",
      "tags": []
     },
     "output_type": "display_data"
    }
   ],
   "source": [
    "import matplotlib.pyplot as plt\n",
    "%matplotlib inline\n",
    "\n",
    "x = ['sharpened', 'unsharpened']\n",
    "accuracy2_array = [accuracy2_sharpen, accuracy2]\n",
    "accuracy3_array = [accuracy3_sharpen, accuracy3]\n",
    "\n",
    "x_pos = range(2)\n",
    "\n",
    "fig, ax = plt.subplots(1,2, figsize=(13,6))\n",
    "\n",
    "ax[0].bar(x_pos, accuracy2_array)\n",
    "ax[0].set_xticks(x_pos)\n",
    "ax[0].set_xticklabels(x)\n",
    "ax[0].set_ylim([0,1])\n",
    "ax[0].axhline(y=accuracy1, c='r')\n",
    "ax[0].set_ylabel(\"Accuracy on Test set\")\n",
    "ax[0].set_title(\"Robust Prediction\")\n",
    "ax[0].set_yticks([0, 0.2, 0.4, 0.6, 0.8, accuracy1])\n",
    "ax[0].set_yticklabels(['0', '0.2', '0.4', '0.6', '0.8', 'All intact='+f\"{accuracy1:.2f}\"])\n",
    "\n",
    "ax[1].bar(x_pos, accuracy3_array)\n",
    "ax[1].set_xticks(x_pos)\n",
    "ax[1].set_xticklabels(x)\n",
    "ax[1].set_ylim([0,1])\n",
    "ax[1].axhline(y=accuracy1, c='r')\n",
    "ax[1].set_title(\"Robust Training\")\n",
    "\n",
    "for i, pos in enumerate(x_pos):\n",
    "    ax[0].text(pos-0.25, accuracy2_array[i] + 0.01, f\"{accuracy2_array[i]:.2f}\")\n",
    "    ax[1].text(pos-0.25, accuracy3_array[i] + 0.01, f\"{accuracy3_array[i]:.2f}\")\n",
    "\n",
    "plt.suptitle(\"Image Sharpening\", y=1)\n",
    "plt.show()"
   ]
  },
  {
   "cell_type": "markdown",
   "metadata": {
    "id": "bnHxR28LJHeW"
   },
   "source": [
    "#### Tune Hyperparameter `Scale`"
   ]
  },
  {
   "cell_type": "code",
   "execution_count": null,
   "metadata": {
    "colab": {
     "base_uri": "https://localhost:8080/",
     "height": 363
    },
    "executionInfo": {
     "elapsed": 2778,
     "status": "ok",
     "timestamp": 1607916805909,
     "user": {
      "displayName": "Chenyu Zhang",
      "photoUrl": "",
      "userId": "14046685120809171565"
     },
     "user_tz": 300
    },
    "id": "RYXxn8SDJI0s",
    "outputId": "bffc75ea-73b5-4808-a305-77325a598109"
   },
   "outputs": [
    {
     "data": {
      "image/png": "[encoded data removed]",
      "text/plain": [
       "<Figure size 720x360 with 2 Axes>"
      ]
     },
     "metadata": {
      "needs_background": "light",
      "tags": []
     },
     "output_type": "display_data"
    }
   ],
   "source": [
    "tune_hyperparameter2 = []\n",
    "tune_hyperparameter3 = []\n",
    "\n",
    "hyperparam_array = [0.1, 0.4, 0.8, 1.2, 2]\n",
    "\n",
    "for scale in hyperparam_array:\n",
    "    # robust testing\n",
    "    X_test_adv_sharpen = sharpen(X_test_adv, scale=scale)\n",
    "    y_pred_sharpen = baseline1.predict(X_test_adv_sharpen)\n",
    "    accuracy2_sharpen = np.sum(y_pred_sharpen == y_test) / len(y_test)\n",
    "\n",
    "    tune_hyperparameter2.append(accuracy2_sharpen)\n",
    "\n",
    "    # robust tarining\n",
    "    X_train_adv_sharpen = sharpen(X_train_adv, scale=scale)\n",
    "\n",
    "    model_adv_sharpen = SVC(C=1.0, kernel=\"rbf\").fit(X_train_adv_sharpen, y_train)\n",
    "\n",
    "    y_pred_sharpen = model_adv_sharpen.predict(X_test)\n",
    "    accuracy3_sharpen = np.sum(y_pred_sharpen == y_test) / len(y_test)\n",
    "\n",
    "    tune_hyperparameter3.append(accuracy3_sharpen)\n",
    "\n",
    "\n",
    "fig, ax = plt.subplots(1,2, figsize=(10,5))\n",
    "\n",
    "x_pos = hyperparam_array\n",
    "\n",
    "ax[0].plot(x_pos, tune_hyperparameter2)\n",
    "ax[0].set_xticks(x_pos)\n",
    "ax[0].set_xticklabels(hyperparam_array)\n",
    "ax[0].set_ylim([0,1])\n",
    "ax[0].axhline(y=accuracy1, c='r')\n",
    "ax[0].set_ylabel(\"Accuracy on Test set\")\n",
    "ax[0].set_title(\"Robust Prediction\")\n",
    "ax[0].set_yticks([0, 0.2, 0.4, 0.6, 0.8, accuracy1])\n",
    "ax[0].set_yticklabels(['0', '0.2', '0.4', '0.6', '0.8', 'All intact='+f\"{accuracy1:.2f}\"])\n",
    "\n",
    "ax[1].plot(x_pos, tune_hyperparameter3)\n",
    "ax[1].set_xticks(x_pos)\n",
    "ax[1].set_xticklabels(hyperparam_array)\n",
    "ax[1].set_ylim([0,1])\n",
    "ax[1].axhline(y=accuracy1, c='r')\n",
    "ax[1].set_title(\"Robust Training\")\n",
    "\n",
    "for i, pos in enumerate(x_pos):\n",
    "    ax[0].text(pos-0.25, tune_hyperparameter2[i] + 0.01, f\"{tune_hyperparameter2[i]:.2f}\")\n",
    "    ax[1].text(pos-0.25, tune_hyperparameter3[i] + 0.01, f\"{tune_hyperparameter3[i]:.2f}\")\n",
    "\n",
    "plt.suptitle(\"Image Sharpening\", y=1)\n",
    "plt.show()"
   ]
  },
  {
   "cell_type": "code",
   "execution_count": null,
   "metadata": {
    "id": "LON570zjUi3C"
   },
   "outputs": [],
   "source": []
  },
  {
   "cell_type": "code",
   "execution_count": null,
   "metadata": {
    "id": "bS2sjfbglG_V"
   },
   "outputs": [],
   "source": [
    "# Show plots or visualizations of your evaluation metric(s) on the train and test sets.\n",
    "#   What do these plots show about over- or under-fitting?\n",
    "#   You may borrow from how we visualized results in the Lab homeworks.\n",
    "#   Are there aspects of your results that are difficult to visualize? Why?"
   ]
  },
  {
   "cell_type": "markdown",
   "metadata": {
    "id": "ybsoeTMLVmFA"
   },
   "source": [
    "### Data Augmentation\n",
    "\n",
    "We can see from the plots that FG (fast gradient with epsilon 1) augmentation does the best on perturbed test data, which is reasonable because the test data is also perturbed with fast gradient method. For robust training (when training data itself is perturbed), Gaussian augmentation does well when epsilon is 3, while JS (Jacobian saliency) and FG does better when epsilon is large.\n"
   ]
  },
  {
   "cell_type": "code",
   "execution_count": null,
   "metadata": {
    "id": "nooMOtNsF6-h"
   },
   "outputs": [],
   "source": [
    "origAcc = []\n",
    "gaussianAcc = []\n",
    "jsAcc = []\n",
    "fgAcc = []\n",
    "for eps in range(1, 10):\n",
    "    X_test_adv_i = fgAttack(X_test, eps)\n",
    "\n",
    "    predictions = baseline1.predict(X_test_adv_i)\n",
    "    acc = np.sum(predictions == y_test) / len(y_test)\n",
    "    origAcc.append(acc)\n",
    "\n",
    "    predictions = gaussianModel2.predict(X_test_adv_i)\n",
    "    acc2 = np.sum(predictions == y_test) / len(y_test)\n",
    "    gaussianAcc.append(acc2)\n",
    "\n",
    "    predictions = modelJs2.predict(X_test_adv_i)\n",
    "    acc3 = np.sum(predictions == y_test) / len(y_test)\n",
    "    jsAcc.append(acc3)\n",
    "\n",
    "    predictions = modelFg2.predict(X_test_adv_i)\n",
    "    acc4 = np.sum(predictions == y_test) / len(y_test)\n",
    "    fgAcc.append(acc4)"
   ]
  },
  {
   "cell_type": "code",
   "execution_count": null,
   "metadata": {
    "colab": {
     "base_uri": "https://localhost:8080/",
     "height": 296
    },
    "executionInfo": {
     "elapsed": 472,
     "status": "ok",
     "timestamp": 1607913579030,
     "user": {
      "displayName": "Chenyu Zhang",
      "photoUrl": "",
      "userId": "14046685120809171565"
     },
     "user_tz": 300
    },
    "id": "K7X51RqgJ2Db",
    "outputId": "9ac7b119-8afb-4fc5-a3f6-3ace85949225"
   },
   "outputs": [
    {
     "data": {
      "text/plain": [
       "Text(0, 0.5, 'Accuracy')"
      ]
     },
     "execution_count": 77,
     "metadata": {
      "tags": []
     },
     "output_type": "execute_result"
    },
    {
     "data": {
      "image/png": "[encoded data removed]",
      "text/plain": [
       "<Figure size 432x288 with 1 Axes>"
      ]
     },
     "metadata": {
      "needs_background": "light",
      "tags": []
     },
     "output_type": "display_data"
    }
   ],
   "source": [
    "import matplotlib.pyplot as plt\n",
    "\n",
    "x = range(1, 10)\n",
    "plt.plot(x, origAcc, '-o', label='orig')\n",
    "plt.plot(x, gaussianAcc, '-o', label='Gaussian')\n",
    "plt.plot(x, jsAcc, '-o', label='JS')\n",
    "plt.plot(x, fgAcc, '-o', label='FG')\n",
    "plt.legend()\n",
    "plt.xlabel('Epsilon for test attack')\n",
    "plt.ylabel('Accuracy')"
   ]
  },
  {
   "cell_type": "code",
   "execution_count": null,
   "metadata": {
    "id": "TFMcUgAoXPNR"
   },
   "outputs": [],
   "source": [
    "origAcc2 = []\n",
    "gaussianAcc2 = []\n",
    "jsAcc2 = []\n",
    "fgAcc2 = []\n",
    "for eps in range(1, 10):\n",
    "    X_train_adv_i = fgAttack(X_train, eps)\n",
    "    \n",
    "    model3 = SVC(C=1.0, kernel=\"rbf\").fit(X_train_adv_i, y_train)\n",
    "    predictions = model3.predict(X_test)\n",
    "    acc = np.sum(predictions == y_test) / len(y_test)\n",
    "    origAcc2.append(acc)\n",
    "\n",
    "    X_train_gaus, y_train_gaus = getGaussianTrain(X_train_adv_i)\n",
    "    gaussianModel3 = SVC(C=1.0, kernel=\"rbf\").fit(X_train_gaus, y_train_gaus)\n",
    "    predictions = gaussianModel3.predict(X_test)\n",
    "    acc2 = np.sum(predictions == y_test) / len(y_test)\n",
    "    gaussianAcc2.append(acc2)\n",
    "\n",
    "    X_train_jsma, y_train_jsma = getJsTrain(X_train_adv_i, y_train)\n",
    "    modelJs3 = SVC(C=1.0, kernel=\"rbf\").fit(X_train_jsma, y_train_jsma)\n",
    "    predictions = modelJs3.predict(X_test)\n",
    "    acc3 = np.sum(predictions == y_test) / len(y_test)\n",
    "    jsAcc2.append(acc3)\n",
    "\n",
    "    X_train_fgsm, y_train_fgsm = getFsTrain(X_train_adv_i, y_train)\n",
    "    modelFg3 = SVC(C=1.0, kernel=\"rbf\").fit(X_train_fgsm, y_train_fgsm)\n",
    "    predictions = modelFg3.predict(X_test)\n",
    "    acc4 = np.sum(predictions == y_test) / len(y_test)\n",
    "    fgAcc2.append(acc4)"
   ]
  },
  {
   "cell_type": "code",
   "execution_count": null,
   "metadata": {
    "colab": {
     "base_uri": "https://localhost:8080/",
     "height": 296
    },
    "executionInfo": {
     "elapsed": 686,
     "status": "ok",
     "timestamp": 1607918212928,
     "user": {
      "displayName": "Chenyu Zhang",
      "photoUrl": "",
      "userId": "14046685120809171565"
     },
     "user_tz": 300
    },
    "id": "gPblTu0nXP2X",
    "outputId": "2dad26a3-58f1-4969-ec29-dfb2359b0667"
   },
   "outputs": [
    {
     "data": {
      "text/plain": [
       "Text(0, 0.5, 'Accuracy')"
      ]
     },
     "execution_count": 90,
     "metadata": {
      "tags": []
     },
     "output_type": "execute_result"
    },
    {
     "data": {
      "image/png": "[encoded data removed]",
      "text/plain": [
       "<Figure size 432x288 with 1 Axes>"
      ]
     },
     "metadata": {
      "needs_background": "light",
      "tags": []
     },
     "output_type": "display_data"
    }
   ],
   "source": [
    "import matplotlib.pyplot as plt\n",
    "\n",
    "x = range(1, 10)\n",
    "plt.plot(x, origAcc2, '-o', label='orig')\n",
    "plt.plot(x, gaussianAcc2, '-o', label='Gaussian')\n",
    "plt.plot(x, jsAcc2, '-o', label='JS')\n",
    "plt.plot(x, fgAcc2, '-o', label='FG')\n",
    "plt.legend()\n",
    "plt.xlabel('Epsilon for train attack')\n",
    "plt.ylabel('Accuracy')"
   ]
  },
  {
   "cell_type": "markdown",
   "metadata": {
    "id": "59EbS1GilSQ_"
   },
   "source": [
    "# Discussion"
   ]
  },
  {
   "cell_type": "markdown",
   "metadata": {
    "id": "ugJXhZKNlUT4"
   },
   "source": [
    "## What you've learned\n",
    "\n",
    "*Note: you don't have to answer all of these, and you can answer other questions if you'd like. We just want you to demonstrate what you've learned from the project.*\n",
    "\n",
    "What concepts from lecture/breakout were most relevant to your project? How so?\n",
    "\n",
    "What aspects of your project did you find most surprising?\n",
    "\n",
    "What lessons did you take from this project that you want to remember for the next ML project you work on? Do you think those lessons would transfer to other datasets and/or models? Why or why not?\n",
    "\n",
    "What was the most helpful feedback you received during your presentation? Why?\n",
    "\n",
    "If you had two more weeks to work on this project, what would you do next? Why?"
   ]
  },
  {
   "cell_type": "markdown",
   "metadata": {
    "id": "CwXjo_twK1n3"
   },
   "source": [
    "Answer:\n",
    "\n",
    "Our project is most relevant to the adversarial training portion of the \"Practical ML\" lecture, since this is the theme we centered around. All methods were tested on support vector machines thus SVM lecture is also closely related to our project. We also used princiapl component analysis to perform a dimensionality reduction, which is connected to the lecture on PCA and the homework 3 lab assignment--the portion on feature selection and noise reduction.\n",
    "\n",
    "We were surprised how ML algorithms are prone to the effect of adverse examples. But meanwhile, simple approaches may significantly improve the performance (like sharpening, data augmentation, and PCA). Another surprising fact was that blackbox attacks are much harder than whitebox attack. The accuracy actually increased when we tried backdoor attack (blackbox poisoning) on our data.\n",
    "\n",
    "For future ML projects, we would be more aware of the existence of adverse examples and would be able to apply the above methods to noisy real-world datasets. We believe that the methods we used can generalize to other datasets.\n",
    "\n",
    "We got a feedback from another group saying that we could try changing p and q values for our iterative learning algorithm during training time, and we think that is a great idea and we would indeed do it if we had time. We could also experiment with different attackers. We could use different attack methods on training and test data, as Prof. Dredze suggested after our presentation. "
   ]
  },
  {
   "cell_type": "code",
   "execution_count": null,
   "metadata": {
    "id": "m4yPWZx6S3VL"
   },
   "outputs": [],
   "source": []
  }
 ],
 "metadata": {
  "colab": {
   "collapsed_sections": [
    "xek0pY0Q2TEZ",
    "VVv_ROXZ2ZP8",
    "EuEZxYowIyuQ",
    "-Z8JiJOpI9Aa",
    "L4NISqTnJAM3",
    "JvFMmXjmVZns",
    "ZTg6fq4PVecC",
    "YKcqJixGJnF1",
    "YCOpdKxpJD4R",
    "bnHxR28LJHeW",
    "ybsoeTMLVmFA"
   ],
   "name": "Final_Project_Submission_Heidi.ipynb",
   "provenance": [],
   "toc_visible": true
  },
  "kernelspec": {
   "display_name": "Python 3",
   "language": "python",
   "name": "python3"
  },
  "language_info": {
   "codemirror_mode": {
    "name": "ipython",
    "version": 3
   },
   "file_extension": ".py",
   "mimetype": "text/x-python",
   "name": "python",
   "nbconvert_exporter": "python",
   "pygments_lexer": "ipython3",
   "version": "3.7.4"
  }
 },
 "nbformat": 4,
 "nbformat_minor": 1
}
