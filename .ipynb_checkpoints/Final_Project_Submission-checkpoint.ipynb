{
 "cells": [
  {
   "cell_type": "markdown",
   "metadata": {
    "id": "39GGICFzwDrj"
   },
   "source": [
    "# **Instructions**\n",
    "\n",
    "This document is a template, and you are not required to follow it exactly. However, the kinds of questions we ask here are the kinds of questions we want you to focus on. While you might have answered similar questions to these in your project presentations, we want you to go into a lot more detail in this write-up; you can refer to the Lab homeworks for ideas on how to present your data or results. \n",
    "\n",
    "You don't have to answer every question in this template, but you should answer roughly this many questions. Your answers to such questions should be paragraph-length, not just a bullet point. You likely still have questions of your own -- that's okay! We want you to convey what you've learned, how you've learned it, and demonstrate that the content from the course has influenced how you've thought about this project."
   ]
  },
  {
   "cell_type": "markdown",
   "metadata": {
    "id": "-9VDfC-ie19P"
   },
   "source": [
    "# Defending Adversarial Attacks\n",
    "Project mentor: Mark Dredze\n",
    "\n",
    "Xuan Wu\t<xwu71@jhu.edu> Yunxiao Yang <yyang117@jhu.edu>\n",
    "Chenyu Zhang <czhan105@jhu.edu>\t\tJinhan Zhang <jzhan205@jhu.edu>\t\t\t\t\n",
    "\n",
    "Link to github repo: https://github.com/ChenyuHeidiZhang/cs475_ml_project"
   ]
  },
  {
   "cell_type": "markdown",
   "metadata": {
    "id": "uqwI3PT-hBJo"
   },
   "source": [
    "# Outline and Deliverables"
   ]
  },
  {
   "cell_type": "markdown",
   "metadata": {
    "id": "ab3b_W24ajRx"
   },
   "source": [
    "\n",
    "### Uncompleted Deliverables\n",
    "1. \"Expect to accomplish #1\": we decided to focus only on the support vector machine (SVM) and thus did not repeat the experiment with convolutional neural network (CNN) \n",
    "\n",
    "\n",
    "### Completed Deliverables\n",
    "1.  \"Must accomplish #1\": (Dataset section) Obtain and inspect the digits dataset.\n",
    "\n",
    "2.  \"Must accomplish #2\": (Pre-processing section) Perform PCA on training data.\n",
    "\n",
    "3. \"Must accomplish #3\": (Baseline section) Attack the data by adversarial examples generated using the ART toolbox. Check accuracy and compare with the baseline. Explore various attackers.\n",
    "\n",
    "4.  \"Expect to accomplish #2\": (Methods section) Develop a robust training algorithm adapted from the idea of feedback learning.\n",
    "\n",
    "5.  \"Expect to accomplish #3\": (Results section) Evaluate the performance of the models against baseline.\n",
    "\n",
    "\n",
    "### Additional Deliverables\n",
    "1. (Pre-processing section) Sharpening the data. \n",
    "\n",
    "2. (Methods section) Data Augmentation methods for adversarial training."
   ]
  },
  {
   "cell_type": "markdown",
   "metadata": {
    "id": "F7Af6y48e7HI"
   },
   "source": [
    "List the deliverables from your project proposal. For each uncompleted deliverable, please include a sentence or two on why you weren't able to complete it (e.g. \"decided to use an existing implementation instead\" or \"ran out of time\"). For each completed deliverable, indicate which section of this notebook covers what you did.\n",
    "\n",
    "If you spent substantial time on any aspects that weren't deliverables in your proposal, please list those under \"Additional Work\" and indicate where in the notebook you discuss them.\n",
    "\n",
    "### Uncompleted Deliverables\n",
    "1. \"Expect to complete #2\": we decided to use an existing implementation for our SVM\n",
    "2. ...\n",
    "\n",
    "\n",
    "### Completed Deliverables\n",
    "1. \"Must complete #1\": We discuss our dataset pre-processing [in \"Dataset\" below](#scrollTo=zFq-_D0khnhh&line=10&uniqifier=1).\n",
    "2. \"Must complete #2\": We discuss training our logistic regression baseline [in \"Baselines\" below](#scrollTo=oMyqHUa0jUw7&line=5&uniqifier=1).\n",
    "3. ...\n",
    "\n",
    "\n",
    "### Additional Deliverables\n",
    "1. We decided to add a second baseline using the published model from this paper. We discuss this [in \"Baselines\" below](#scrollTo=oMyqHUa0jUw7&line=5&uniqifier=1).\n",
    "2. ..."
   ]
  },
  {
   "cell_type": "markdown",
   "metadata": {
    "id": "Eiq2aSauhSsS"
   },
   "source": [
    "# Preliminaries"
   ]
  },
  {
   "cell_type": "markdown",
   "metadata": {
    "id": "NtWkhiIPfOfK"
   },
   "source": [
    "## What problem were you trying to solve or understand?\n",
    "\n"
   ]
  },
  {
   "cell_type": "markdown",
   "metadata": {
    "id": "LzvwriSNb5JQ"
   },
   "source": [
    "### TODO: What are the real-world implications of this data and task?\n",
    "We chose robustness as the theme of our project because it is a prevalent problem that all models might face. A robust machine learning model is defined to be one that\n",
    "performs reasonably well even when the dataset (training set or testing set or both) is perturbed. It is legitimate problem since real-world data can be noisy and not as representative as the classic datasets, like Iris or MNIST. As more high-stakes applications begin to utilize ML, it has never been more critical to build robust models that ensure fairness and safety.\n",
    "\n",
    "### TODO: How is this problem similar to others we’ve seen in lectures, breakouts, and homeworks?\n",
    "\n",
    "### TODO: What makes this problem unique?\n",
    "\n",
    "\n",
    "### TODO: What ethical implications does this problem have?\n",
    "A not robust model is prone to be erroneous when data is not as nice as expected, and this can be a huge problem as ML gaining popularities in fields like autonomous vehicle and precision medicine.\n"
   ]
  },
  {
   "cell_type": "markdown",
   "metadata": {
    "id": "zFq-_D0khnhh"
   },
   "source": [
    "## Dataset(s)\n",
    "\n",
    "Describe the dataset(s) you used.\n",
    "\n",
    "How were they collected?\n",
    "\n",
    "\n",
    "Why did you choose them?\n",
    "\n",
    "How many examples in each?\n"
   ]
  },
  {
   "cell_type": "markdown",
   "metadata": {
    "id": "5ewEHqAgYT5m"
   },
   "source": [
    "We used multi-class, grey-scale, hand-written digit dataset from Scikit-learn library. The data is \n",
    "adapted from the \n",
    "test set of Optical Recognition of Handwritten \n",
    "Digits Data. \n",
    "\n",
    "The dataset contains 1797 instances of hand-written digits, where each instance is an image of \n",
    "size eight by eight (thus a total of 64 pixels).\n",
    " For each pixel, the valid range of value is \n",
    " an integer between 0 to 16. There are ten \n",
    " digits classes, and each class contains ~ \n",
    " 180 pictures; thus, the digit dataset is a well-balanced dataset. This dataset does not \n",
    " provide an underlying train-test split, so \n",
    " we did a 80-20 split ourselves.\n",
    "\n",
    "We chose this classic dataset so that we can\n",
    "introduce adversarial attack and observe an obvious\n",
    "decrease in accuracy.\n"
   ]
  },
  {
   "cell_type": "code",
   "execution_count": 6,
   "metadata": {
    "colab": {
     "base_uri": "https://localhost:8080/",
     "height": 809
    },
    "id": "2lOicoBYif7g",
    "outputId": "394e529c-5fda-44a7-83b5-25ffa64bd0a3"
   },
   "outputs": [
    {
     "name": "stdout",
     "output_type": "stream",
     "text": [
      "1797 instances and 64 features\n"
     ]
    },
    {
     "data": {
      "text/plain": [
       "<Figure size 432x288 with 0 Axes>"
      ]
     },
     "metadata": {},
     "output_type": "display_data"
    },
    {
     "data": {
      "image/png": "[encoded data removed]",
      "text/plain": [
       "<Figure size 288x288 with 1 Axes>"
      ]
     },
     "metadata": {
      "needs_background": "light"
     },
     "output_type": "display_data"
    },
    {
     "data": {
      "image/png": "[encoded data removed]",
      "text/plain": [
       "<Figure size 288x288 with 1 Axes>"
      ]
     },
     "metadata": {
      "needs_background": "light"
     },
     "output_type": "display_data"
    },
    {
     "data": {
      "image/png": "[encoded data removed]",
      "text/plain": [
       "<Figure size 288x288 with 1 Axes>"
      ]
     },
     "metadata": {
      "needs_background": "light"
     },
     "output_type": "display_data"
    }
   ],
   "source": [
    "# Load your data and print 2-3 examples\n",
    "import numpy as np\n",
    "import matplotlib.pyplot as plt \n",
    "from sklearn.datasets import load_digits\n",
    "digits = load_digits()\n",
    "\n",
    "print(f\"{digits.data.shape[0]} instances and {digits.data.shape[1]} features\")\n",
    "plt.gray()\n",
    "for i in range(3):\n",
    "  plt.matshow(digits.images[i])"
   ]
  },
  {
   "cell_type": "code",
   "execution_count": null,
   "metadata": {},
   "outputs": [],
   "source": []
  },
  {
   "cell_type": "markdown",
   "metadata": {
    "id": "XN1fYEfGidiD"
   },
   "source": [
    "## Pre-processing\n",
    "\n",
    "What features did you use or choose not to use? Why?\n",
    "\n",
    "If you have categorical labels, were your datasets class-balanced?\n",
    "\n",
    "How did you deal with missing data? What about outliers?\n",
    "\n",
    "What approach(es) did you use to pre-process your data? Why?\n",
    "\n",
    "Are your features continuous or categorical? How do you treat these features differently?"
   ]
  },
  {
   "cell_type": "code",
   "execution_count": null,
   "metadata": {
    "id": "EEuKEzM5ipag"
   },
   "outputs": [],
   "source": [
    "# For those same examples above, what do they look like after being pre-processed?"
   ]
  },
  {
   "cell_type": "code",
   "execution_count": null,
   "metadata": {
    "id": "1cDLEwhAx0gP"
   },
   "outputs": [],
   "source": [
    "# Visualize the distribution of your data before and after pre-processing.\n",
    "#   You may borrow from how we visualized data in the Lab homeworks.\n",
    "\n"
   ]
  },
  {
   "cell_type": "markdown",
   "metadata": {
    "id": "tASjmmtjiwvu"
   },
   "source": [
    "# Models and Evaluation"
   ]
  },
  {
   "cell_type": "markdown",
   "metadata": {
    "id": "LlrwR9E1hnQ3"
   },
   "source": [
    "## Experimental Setup\n",
    "\n",
    "How did you evaluate your methods? Why is that a reasonable evaluation metric for the task?\n",
    "\n",
    "What did you use for your loss function to train your models? Did you try multiple loss functions? Why or why not?\n",
    "\n",
    "How did you split your data into train and test sets? Why?\n"
   ]
  },
  {
   "cell_type": "code",
   "execution_count": 7,
   "metadata": {},
   "outputs": [
    {
     "name": "stdout",
     "output_type": "stream",
     "text": [
      "[0 1 2 3 4 5 6 7 8 9]\n",
      "(1437, 64) (360, 64)\n"
     ]
    }
   ],
   "source": [
    "from sklearn.model_selection import train_test_split\n",
    "X_train, X_test, y_train, y_test = train_test_split(digits.data, digits.target, test_size=0.2, stratify=digits.target)\n",
    "nb_classes = np.unique(y_train).shape[0]\n",
    "print(np.unique(y_train))\n",
    "print(X_train.shape, X_test.shape)"
   ]
  },
  {
   "cell_type": "code",
   "execution_count": null,
   "metadata": {
    "id": "qUNxC358jPDr"
   },
   "outputs": [],
   "source": [
    "# Code for loss functions, evaluation metrics or link to Git repo"
   ]
  },
  {
   "cell_type": "markdown",
   "metadata": {
    "id": "oMyqHUa0jUw7"
   },
   "source": [
    "## Baselines \n",
    "\n",
    "What baselines did you compare against? Why are these reasonable?\n",
    "\n",
    "Did you look at related work to contextualize how others methods or baselines have performed on this dataset/task? If so, how did those methods do?"
   ]
  },
  {
   "cell_type": "code",
   "execution_count": 9,
   "metadata": {
    "scrolled": true
   },
   "outputs": [
    {
     "name": "stdout",
     "output_type": "stream",
     "text": [
      "Collecting adversarial-robustness-toolbox\n",
      "  Downloading adversarial_robustness_toolbox-1.5.0-py3-none-any.whl (886 kB)\n",
      "\u001b[K     |████████████████████████████████| 886 kB 10.3 MB/s eta 0:00:01\n",
      "\u001b[?25hCollecting resampy\n",
      "  Downloading resampy-0.2.2.tar.gz (323 kB)\n",
      "\u001b[K     |████████████████████████████████| 323 kB 13.2 MB/s eta 0:00:01\n",
      "\u001b[?25hRequirement already satisfied: setuptools in /Users/chenyuzhang/anaconda3/lib/python3.7/site-packages (from adversarial-robustness-toolbox) (50.3.1.post20201107)\n",
      "Requirement already satisfied: tqdm in /Users/chenyuzhang/anaconda3/lib/python3.7/site-packages (from adversarial-robustness-toolbox) (4.51.0)\n",
      "Collecting ffmpeg-python\n",
      "  Downloading ffmpeg_python-0.2.0-py3-none-any.whl (25 kB)\n",
      "Collecting cma\n",
      "  Downloading cma-3.0.3-py2.py3-none-any.whl (230 kB)\n",
      "\u001b[K     |████████████████████████████████| 230 kB 17.1 MB/s eta 0:00:01\n",
      "\u001b[?25hRequirement already satisfied: scikit-learn>=0.22.2 in /Users/chenyuzhang/anaconda3/lib/python3.7/site-packages (from adversarial-robustness-toolbox) (0.23.2)\n",
      "Requirement already satisfied: matplotlib in /Users/chenyuzhang/anaconda3/lib/python3.7/site-packages (from adversarial-robustness-toolbox) (3.3.2)\n",
      "Requirement already satisfied: numpy in /Users/chenyuzhang/anaconda3/lib/python3.7/site-packages (from adversarial-robustness-toolbox) (1.19.2)\n",
      "Requirement already satisfied: scipy>=1.4.1 in /Users/chenyuzhang/anaconda3/lib/python3.7/site-packages (from adversarial-robustness-toolbox) (1.5.2)\n",
      "Requirement already satisfied: Pillow in /Users/chenyuzhang/anaconda3/lib/python3.7/site-packages (from adversarial-robustness-toolbox) (8.0.1)\n",
      "Collecting pydub\n",
      "  Downloading pydub-0.24.1-py2.py3-none-any.whl (30 kB)\n",
      "Collecting mypy\n",
      "  Downloading mypy-0.790-cp37-cp37m-macosx_10_9_x86_64.whl (9.0 MB)\n",
      "\u001b[K     |████████████████████████████████| 9.0 MB 5.8 MB/s eta 0:00:01\n",
      "\u001b[?25hRequirement already satisfied: six in /Users/chenyuzhang/anaconda3/lib/python3.7/site-packages (from adversarial-robustness-toolbox) (1.15.0)\n",
      "Requirement already satisfied: statsmodels in /Users/chenyuzhang/anaconda3/lib/python3.7/site-packages (from adversarial-robustness-toolbox) (0.12.0)\n",
      "Requirement already satisfied: numba>=0.32 in /Users/chenyuzhang/anaconda3/lib/python3.7/site-packages (from resampy->adversarial-robustness-toolbox) (0.51.2)\n",
      "Requirement already satisfied: future in /Users/chenyuzhang/anaconda3/lib/python3.7/site-packages (from ffmpeg-python->adversarial-robustness-toolbox) (0.18.2)\n",
      "Requirement already satisfied: threadpoolctl>=2.0.0 in /Users/chenyuzhang/anaconda3/lib/python3.7/site-packages (from scikit-learn>=0.22.2->adversarial-robustness-toolbox) (2.1.0)\n",
      "Requirement already satisfied: joblib>=0.11 in /Users/chenyuzhang/anaconda3/lib/python3.7/site-packages (from scikit-learn>=0.22.2->adversarial-robustness-toolbox) (0.17.0)\n",
      "Requirement already satisfied: cycler>=0.10 in /Users/chenyuzhang/anaconda3/lib/python3.7/site-packages (from matplotlib->adversarial-robustness-toolbox) (0.10.0)\n",
      "Requirement already satisfied: python-dateutil>=2.1 in /Users/chenyuzhang/anaconda3/lib/python3.7/site-packages (from matplotlib->adversarial-robustness-toolbox) (2.8.1)\n",
      "Requirement already satisfied: pyparsing!=2.0.4,!=2.1.2,!=2.1.6,>=2.0.3 in /Users/chenyuzhang/anaconda3/lib/python3.7/site-packages (from matplotlib->adversarial-robustness-toolbox) (2.4.7)\n",
      "Requirement already satisfied: kiwisolver>=1.0.1 in /Users/chenyuzhang/anaconda3/lib/python3.7/site-packages (from matplotlib->adversarial-robustness-toolbox) (1.3.0)\n",
      "Requirement already satisfied: certifi>=2020.06.20 in /Users/chenyuzhang/anaconda3/lib/python3.7/site-packages (from matplotlib->adversarial-robustness-toolbox) (2020.12.5)\n",
      "Collecting mypy-extensions<0.5.0,>=0.4.3\n",
      "  Using cached mypy_extensions-0.4.3-py2.py3-none-any.whl (4.5 kB)\n",
      "Requirement already satisfied: typing-extensions>=3.7.4 in /Users/chenyuzhang/anaconda3/lib/python3.7/site-packages (from mypy->adversarial-robustness-toolbox) (3.7.4.3)\n",
      "Requirement already satisfied: typed-ast<1.5.0,>=1.4.0 in /Users/chenyuzhang/anaconda3/lib/python3.7/site-packages (from mypy->adversarial-robustness-toolbox) (1.4.1)\n",
      "Requirement already satisfied: patsy>=0.5 in /Users/chenyuzhang/anaconda3/lib/python3.7/site-packages (from statsmodels->adversarial-robustness-toolbox) (0.5.1)\n",
      "Requirement already satisfied: pandas>=0.21 in /Users/chenyuzhang/anaconda3/lib/python3.7/site-packages (from statsmodels->adversarial-robustness-toolbox) (1.1.3)\n",
      "Requirement already satisfied: llvmlite<0.35,>=0.34.0.dev0 in /Users/chenyuzhang/anaconda3/lib/python3.7/site-packages (from numba>=0.32->resampy->adversarial-robustness-toolbox) (0.34.0)\n",
      "Requirement already satisfied: pytz>=2017.2 in /Users/chenyuzhang/anaconda3/lib/python3.7/site-packages (from pandas>=0.21->statsmodels->adversarial-robustness-toolbox) (2020.1)\n",
      "Building wheels for collected packages: resampy\n",
      "  Building wheel for resampy (setup.py) ... \u001b[?25ldone\n",
      "\u001b[?25h  Created wheel for resampy: filename=resampy-0.2.2-py3-none-any.whl size=320718 sha256=c6bab1df5e24e9b2d67869e7dcfbf8af3a2e2841a6be8c7f4edd1123bdd1352d\n",
      "  Stored in directory: /Users/chenyuzhang/Library/Caches/pip/wheels/a0/18/0a/8ad18a597d8333a142c9789338a96a6208f1198d290ece356c\n",
      "Successfully built resampy\n",
      "Installing collected packages: resampy, ffmpeg-python, cma, pydub, mypy-extensions, mypy, adversarial-robustness-toolbox\n",
      "Successfully installed adversarial-robustness-toolbox-1.5.0 cma-3.0.3 ffmpeg-python-0.2.0 mypy-0.790 mypy-extensions-0.4.3 pydub-0.24.1 resampy-0.2.2\n"
     ]
    }
   ],
   "source": [
    "# Download ART\n",
    "!pip install adversarial-robustness-toolbox"
   ]
  },
  {
   "cell_type": "code",
   "execution_count": 16,
   "metadata": {},
   "outputs": [],
   "source": [
    "from sklearn.svm import SVC\n",
    "from art.attacks.evasion import FastGradientMethod\n",
    "from art.estimators.classification import SklearnClassifier"
   ]
  },
  {
   "cell_type": "markdown",
   "metadata": {},
   "source": [
    "#### Baseline model 1: train, test data both intact"
   ]
  },
  {
   "cell_type": "code",
   "execution_count": 12,
   "metadata": {},
   "outputs": [
    {
     "name": "stdout",
     "output_type": "stream",
     "text": [
      "Accuracy for unperturbed data: 99.44%\n"
     ]
    }
   ],
   "source": [
    "baseline1 = SVC(C=1.0, kernel=\"rbf\").fit(X_train, y_train)\n",
    "\n",
    "predictions = baseline1.predict(X_test)\n",
    "accuracy = np.sum(predictions == y_test) / len(y_test)\n",
    "print(\"Accuracy for unperturbed data: {:.2f}%\".format(accuracy * 100))"
   ]
  },
  {
   "cell_type": "markdown",
   "metadata": {},
   "source": [
    "#### Baseline model 2: train data intact, test perturbed\n",
    "#### Baseline model 3: train data perturbed, test intact"
   ]
  },
  {
   "cell_type": "code",
   "execution_count": 15,
   "metadata": {},
   "outputs": [],
   "source": [
    "# Create the ART classifier\n",
    "min_pixel_value = np.amin(X_train)\n",
    "max_pixel_value = np.amax(X_train)\n",
    "classifier = SklearnClassifier(model=model, clip_values=(min_pixel_value, max_pixel_value))"
   ]
  },
  {
   "cell_type": "code",
   "execution_count": 14,
   "metadata": {},
   "outputs": [],
   "source": [
    "# Conduct Fast Gradient Attack on X with strengh epsilon\n",
    "def fgAttack(X, epsilon):\n",
    "    attack = FastGradientMethod(estimator=classifier, eps=epsilon)\n",
    "    X_adv = attack.generate(x=X)\n",
    "    return X_adv\n",
    "\n",
    "# Generate adversarial test examples\n",
    "X_test_adv = fgAttack(X_test, 3)\n",
    "\n",
    "# Generate adversarial train examples\n",
    "X_train_adv = fgAttack(X_train, 3)"
   ]
  },
  {
   "cell_type": "code",
   "execution_count": 19,
   "metadata": {},
   "outputs": [
    {
     "name": "stdout",
     "output_type": "stream",
     "text": [
      "Accuracy on adversarial test examples: 57.50%\n"
     ]
    }
   ],
   "source": [
    "# Baseline Accuracy 2: evaluate the original model on adversarial test examples\n",
    "predictions = baseline1.predict(X_test_adv)\n",
    "accuracy = np.sum(predictions == y_test) / len(y_test)\n",
    "print(\"Accuracy on adversarial test examples: {:.2f}%\".format(accuracy * 100))"
   ]
  },
  {
   "cell_type": "code",
   "execution_count": null,
   "metadata": {},
   "outputs": [],
   "source": [
    "baseline3 = SVC(C=1.0, kernel=\"rbf\").fit(X_train_adv, y_train)\n",
    "predictions = baseline3.predict(X_test)\n",
    "accuracy = np.sum(predictions == y_test) / len(y_test)\n",
    "origAcc2.append(accuracy)"
   ]
  },
  {
   "cell_type": "markdown",
   "metadata": {
    "id": "PqB48IF9kMBf"
   },
   "source": [
    "## Methods\n",
    "\n",
    "What methods did you choose? Why did you choose them?\n",
    "\n",
    "How did you train these methods, and how did you evaluate them? Why?\n",
    "\n",
    "Which methods were easy/difficult to implement and train? Why?\n",
    "\n",
    "For each method, what hyperparameters did you evaluate? How sensitive was your model's performance to different hyperparameter settings?"
   ]
  },
  {
   "cell_type": "code",
   "execution_count": null,
   "metadata": {
    "id": "ma4JoDzar6xU"
   },
   "outputs": [],
   "source": [
    "# Code for training models, or link to your Git repository"
   ]
  },
  {
   "cell_type": "code",
   "execution_count": null,
   "metadata": {
    "id": "RO_kP1fmkWWk"
   },
   "outputs": [],
   "source": [
    "# Show plots of how these models performed during training.\n",
    "#  For example, plot train loss and train accuracy (or other evaluation metric) on the y-axis,\n",
    "#  with number of iterations or number of examples on the x-axis."
   ]
  },
  {
   "cell_type": "markdown",
   "metadata": {
    "id": "_Zdp4_H-kx8H"
   },
   "source": [
    "## Results\n",
    "\n",
    "Show tables comparing your methods to the baselines.\n",
    "\n",
    "What about these results surprised you? Why?\n",
    "\n",
    "Did your models over- or under-fit? How can you tell? What did you do to address these issues?\n",
    "\n",
    "What does the evaluation of your trained models tell you about your data? How do you expect these models might behave differently on different data?  "
   ]
  },
  {
   "cell_type": "code",
   "execution_count": null,
   "metadata": {
    "id": "bS2sjfbglG_V"
   },
   "outputs": [],
   "source": [
    "# Show plots or visualizations of your evaluation metric(s) on the train and test sets.\n",
    "#   What do these plots show about over- or under-fitting?\n",
    "#   You may borrow from how we visualized results in the Lab homeworks.\n",
    "#   Are there aspects of your results that are difficult to visualize? Why?"
   ]
  },
  {
   "cell_type": "markdown",
   "metadata": {
    "id": "59EbS1GilSQ_"
   },
   "source": [
    "# Discussion"
   ]
  },
  {
   "cell_type": "markdown",
   "metadata": {
    "id": "ugJXhZKNlUT4"
   },
   "source": [
    "## What you've learned\n",
    "\n",
    "*Note: you don't have to answer all of these, and you can answer other questions if you'd like. We just want you to demonstrate what you've learned from the project.*\n",
    "\n",
    "What concepts from lecture/breakout were most relevant to your project? How so?\n",
    "\n",
    "What aspects of your project did you find most surprising?\n",
    "\n",
    "What lessons did you take from this project that you want to remember for the next ML project you work on? Do you think those lessons would transfer to other datasets and/or models? Why or why not?\n",
    "\n",
    "What was the most helpful feedback you received during your presentation? Why?\n",
    "\n",
    "If you had two more weeks to work on this project, what would you do next? Why?"
   ]
  }
 ],
 "metadata": {
  "colab": {
   "collapsed_sections": [],
   "name": "Final_Project_Submission",
   "provenance": [],
   "toc_visible": true
  },
  "kernelspec": {
   "display_name": "Python 3",
   "language": "python",
   "name": "python3"
  },
  "language_info": {
   "codemirror_mode": {
    "name": "ipython",
    "version": 3
   },
   "file_extension": ".py",
   "mimetype": "text/x-python",
   "name": "python",
   "nbconvert_exporter": "python",
   "pygments_lexer": "ipython3",
   "version": "3.7.4"
  }
 },
 "nbformat": 4,
 "nbformat_minor": 1
}
